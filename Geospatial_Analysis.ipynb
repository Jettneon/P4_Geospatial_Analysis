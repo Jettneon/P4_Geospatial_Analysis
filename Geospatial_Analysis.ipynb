{
 "cells": [
  {
   "attachments": {},
   "cell_type": "markdown",
   "id": "2e49cd26",
   "metadata": {},
   "source": [
    "# Exploring Restaurant Data"
   ]
  },
  {
   "cell_type": "markdown",
   "id": "e4a6e6d3",
   "metadata": {},
   "source": [
    "### **WHY GEOSPATIAL ANALYSIS?**  \n",
    "Geospatial analysis is crucial when dealing with location-based data. It helps uncover spatial relationships and patterns that can be used for making informed decisions in various fields, from urban planning to business intelligence. By analyzing geographic data, we can gain insights into regional trends, customer behavior, and optimal resource allocation.\n",
    "\n",
    "In this project, we will apply geospatial analysis to explore the restaurant data in Bengaluru. This type of analysis will allow us to:\n",
    "\n",
    "- Understand the geographic distribution of restaurants\n",
    "- Identify popular restaurant types and neighborhoods\n",
    "- Investigate trends in restaurant ratings, pricing, and amenities\n",
    "- Explore correlations between restaurant locations and their attributes"
   ]
  },
  {
   "cell_type": "markdown",
   "id": "eebb0f8f",
   "metadata": {},
   "source": [
    "**OBJECTIVE OF THIS NOTEBOOK**  \n",
    "This notebook focuses on geospatial analysis of restaurant data collected from Zomato, specifically for Bengaluru. We will analyze various aspects such as location, ratings, costs, and type of cuisine offered by restaurants across different neighborhoods.\n",
    "\n",
    "By the end of this project, you will gain insights into:\n",
    "- How to work with location-based datasets\n",
    "- Techniques for visualizing and analyzing geospatial data\n",
    "- How to identify patterns and trends in a city's restaurant scene\n",
    "- The relationship between restaurant attributes (e.g., rating, cost) and their locations"
   ]
  },
  {
   "cell_type": "markdown",
   "id": "cde2ec0c",
   "metadata": {},
   "source": [
    "**CONTENT OF THIS NOTEBOOK**  \n",
    "In this notebook, we will explore a dataset containing information about various restaurants in Bengaluru, including:\n",
    "- Restaurant name, address, and contact details\n",
    "- Ratings, number of reviews, and type of meals offered\n",
    "- Neighborhoods, cost estimates, and available services (e.g., online orders, table bookings)\n",
    "\n",
    "We will utilize Python libraries to clean the data, perform exploratory analysis, and visualize the spatial distribution of restaurants in Bengaluru. Additionally, we will focus on understanding customer preferences, such as the most liked dishes and common cuisines across different locations.\n",
    "\n",
    "**BUSINESS CASE**  \n",
    "Imagine you work as a data analyst for a restaurant chain looking to expand in Bengaluru. The company is interested in knowing the optimal locations for opening new branches. Your task is to analyze the existing restaurant landscape to identify high-traffic areas with high customer ratings and preferences. The company also wants to understand what types of cuisines and restaurant styles are more likely to succeed in certain neighborhoods.\n",
    "\n",
    "You should answer questions like:\n",
    "- Where are the most popular restaurant types located in Bengaluru?\n",
    "- Which areas have the highest concentration of highly-rated restaurants?\n",
    "- How do restaurant ratings correlate with location and amenities?\n",
    "- Is there a particular area that stands out for specific types of cuisine?\n",
    "\n",
    "By addressing these questions, you will provide valuable insights for strategic expansion and decision-making."
   ]
  },
  {
   "cell_type": "markdown",
   "id": "1f8eb8e0",
   "metadata": {},
   "source": [
    "## Let's get started"
   ]
  },
  {
   "cell_type": "markdown",
   "id": "c09ae793",
   "metadata": {},
   "source": [
    "Set-up your working environment"
   ]
  },
  {
   "cell_type": "code",
   "execution_count": 4,
   "id": "1811acbe",
   "metadata": {},
   "outputs": [],
   "source": [
    "# import the necessary libraries you need for your analysis\n",
    "import pandas as pd\n",
    "import numpy as np\n",
    "import sqlite3\n",
    "import matplotlib.pyplot as plt\n",
    "import seaborn as sns\n",
    "from nltk.corpus import RegexpTokenizer\n",
    "from nltk.corpus import stopwords\n",
    "from nltk import FreqDist\n",
    "import plotly.express as px\n",
    "from nltk import FreqDist, bigrams, trigrams\n",
    "from geopy.geocoders import Nominatim\n",
    "import folium\n",
    "from folium.plugins import HeatMap\n",
    "from folium import Map\n",
    "\n"
   ]
  },
  {
   "cell_type": "code",
   "execution_count": 5,
   "id": "0a7f41b4",
   "metadata": {},
   "outputs": [],
   "source": [
    "con = sqlite3.connect(r\"..\\zomato_rawdata.sqlite\")"
   ]
  },
  {
   "cell_type": "code",
   "execution_count": 6,
   "id": "8e7bfaeb",
   "metadata": {},
   "outputs": [
    {
     "data": {
      "text/html": [
       "<div>\n",
       "<style scoped>\n",
       "    .dataframe tbody tr th:only-of-type {\n",
       "        vertical-align: middle;\n",
       "    }\n",
       "\n",
       "    .dataframe tbody tr th {\n",
       "        vertical-align: top;\n",
       "    }\n",
       "\n",
       "    .dataframe thead th {\n",
       "        text-align: right;\n",
       "    }\n",
       "</style>\n",
       "<table border=\"1\" class=\"dataframe\">\n",
       "  <thead>\n",
       "    <tr style=\"text-align: right;\">\n",
       "      <th></th>\n",
       "      <th>index</th>\n",
       "      <th>url</th>\n",
       "      <th>address</th>\n",
       "      <th>name</th>\n",
       "      <th>online_order</th>\n",
       "      <th>book_table</th>\n",
       "      <th>rate</th>\n",
       "      <th>votes</th>\n",
       "      <th>phone</th>\n",
       "      <th>location</th>\n",
       "      <th>rest_type</th>\n",
       "      <th>dish_liked</th>\n",
       "      <th>cuisines</th>\n",
       "      <th>approx_cost(for two people)</th>\n",
       "      <th>reviews_list</th>\n",
       "      <th>menu_item</th>\n",
       "      <th>listed_in(type)</th>\n",
       "      <th>listed_in(city)</th>\n",
       "    </tr>\n",
       "  </thead>\n",
       "  <tbody>\n",
       "    <tr>\n",
       "      <th>0</th>\n",
       "      <td>0</td>\n",
       "      <td>https://www.zomato.com/bangalore/jalsa-banasha...</td>\n",
       "      <td>942, 21st Main Road, 2nd Stage, Banashankari, ...</td>\n",
       "      <td>Jalsa</td>\n",
       "      <td>Yes</td>\n",
       "      <td>Yes</td>\n",
       "      <td>4.1/5</td>\n",
       "      <td>775</td>\n",
       "      <td>080 42297555\\r\\n+91 9743772233</td>\n",
       "      <td>Banashankari</td>\n",
       "      <td>Casual Dining</td>\n",
       "      <td>Pasta, Lunch Buffet, Masala Papad, Paneer Laja...</td>\n",
       "      <td>North Indian, Mughlai, Chinese</td>\n",
       "      <td>800</td>\n",
       "      <td>[('Rated 4.0', 'RATED\\n  A beautiful place to ...</td>\n",
       "      <td>[]</td>\n",
       "      <td>Buffet</td>\n",
       "      <td>Banashankari</td>\n",
       "    </tr>\n",
       "    <tr>\n",
       "      <th>1</th>\n",
       "      <td>1</td>\n",
       "      <td>https://www.zomato.com/bangalore/spice-elephan...</td>\n",
       "      <td>2nd Floor, 80 Feet Road, Near Big Bazaar, 6th ...</td>\n",
       "      <td>Spice Elephant</td>\n",
       "      <td>Yes</td>\n",
       "      <td>No</td>\n",
       "      <td>4.1/5</td>\n",
       "      <td>787</td>\n",
       "      <td>080 41714161</td>\n",
       "      <td>Banashankari</td>\n",
       "      <td>Casual Dining</td>\n",
       "      <td>Momos, Lunch Buffet, Chocolate Nirvana, Thai G...</td>\n",
       "      <td>Chinese, North Indian, Thai</td>\n",
       "      <td>800</td>\n",
       "      <td>[('Rated 4.0', 'RATED\\n  Had been here for din...</td>\n",
       "      <td>[]</td>\n",
       "      <td>Buffet</td>\n",
       "      <td>Banashankari</td>\n",
       "    </tr>\n",
       "    <tr>\n",
       "      <th>2</th>\n",
       "      <td>2</td>\n",
       "      <td>https://www.zomato.com/SanchurroBangalore?cont...</td>\n",
       "      <td>1112, Next to KIMS Medical College, 17th Cross...</td>\n",
       "      <td>San Churro Cafe</td>\n",
       "      <td>Yes</td>\n",
       "      <td>No</td>\n",
       "      <td>3.8/5</td>\n",
       "      <td>918</td>\n",
       "      <td>+91 9663487993</td>\n",
       "      <td>Banashankari</td>\n",
       "      <td>Cafe, Casual Dining</td>\n",
       "      <td>Churros, Cannelloni, Minestrone Soup, Hot Choc...</td>\n",
       "      <td>Cafe, Mexican, Italian</td>\n",
       "      <td>800</td>\n",
       "      <td>[('Rated 3.0', \"RATED\\n  Ambience is not that ...</td>\n",
       "      <td>[]</td>\n",
       "      <td>Buffet</td>\n",
       "      <td>Banashankari</td>\n",
       "    </tr>\n",
       "    <tr>\n",
       "      <th>3</th>\n",
       "      <td>3</td>\n",
       "      <td>https://www.zomato.com/bangalore/addhuri-udupi...</td>\n",
       "      <td>1st Floor, Annakuteera, 3rd Stage, Banashankar...</td>\n",
       "      <td>Addhuri Udupi Bhojana</td>\n",
       "      <td>No</td>\n",
       "      <td>No</td>\n",
       "      <td>3.7/5</td>\n",
       "      <td>88</td>\n",
       "      <td>+91 9620009302</td>\n",
       "      <td>Banashankari</td>\n",
       "      <td>Quick Bites</td>\n",
       "      <td>Masala Dosa</td>\n",
       "      <td>South Indian, North Indian</td>\n",
       "      <td>300</td>\n",
       "      <td>[('Rated 4.0', \"RATED\\n  Great food and proper...</td>\n",
       "      <td>[]</td>\n",
       "      <td>Buffet</td>\n",
       "      <td>Banashankari</td>\n",
       "    </tr>\n",
       "    <tr>\n",
       "      <th>4</th>\n",
       "      <td>4</td>\n",
       "      <td>https://www.zomato.com/bangalore/grand-village...</td>\n",
       "      <td>10, 3rd Floor, Lakshmi Associates, Gandhi Baza...</td>\n",
       "      <td>Grand Village</td>\n",
       "      <td>No</td>\n",
       "      <td>No</td>\n",
       "      <td>3.8/5</td>\n",
       "      <td>166</td>\n",
       "      <td>+91 8026612447\\r\\n+91 9901210005</td>\n",
       "      <td>Basavanagudi</td>\n",
       "      <td>Casual Dining</td>\n",
       "      <td>Panipuri, Gol Gappe</td>\n",
       "      <td>North Indian, Rajasthani</td>\n",
       "      <td>600</td>\n",
       "      <td>[('Rated 4.0', 'RATED\\n  Very good restaurant ...</td>\n",
       "      <td>[]</td>\n",
       "      <td>Buffet</td>\n",
       "      <td>Banashankari</td>\n",
       "    </tr>\n",
       "  </tbody>\n",
       "</table>\n",
       "</div>"
      ],
      "text/plain": [
       "   index                                                url  \\\n",
       "0      0  https://www.zomato.com/bangalore/jalsa-banasha...   \n",
       "1      1  https://www.zomato.com/bangalore/spice-elephan...   \n",
       "2      2  https://www.zomato.com/SanchurroBangalore?cont...   \n",
       "3      3  https://www.zomato.com/bangalore/addhuri-udupi...   \n",
       "4      4  https://www.zomato.com/bangalore/grand-village...   \n",
       "\n",
       "                                             address                   name  \\\n",
       "0  942, 21st Main Road, 2nd Stage, Banashankari, ...                  Jalsa   \n",
       "1  2nd Floor, 80 Feet Road, Near Big Bazaar, 6th ...         Spice Elephant   \n",
       "2  1112, Next to KIMS Medical College, 17th Cross...        San Churro Cafe   \n",
       "3  1st Floor, Annakuteera, 3rd Stage, Banashankar...  Addhuri Udupi Bhojana   \n",
       "4  10, 3rd Floor, Lakshmi Associates, Gandhi Baza...          Grand Village   \n",
       "\n",
       "  online_order book_table   rate  votes                             phone  \\\n",
       "0          Yes        Yes  4.1/5    775    080 42297555\\r\\n+91 9743772233   \n",
       "1          Yes         No  4.1/5    787                      080 41714161   \n",
       "2          Yes         No  3.8/5    918                    +91 9663487993   \n",
       "3           No         No  3.7/5     88                    +91 9620009302   \n",
       "4           No         No  3.8/5    166  +91 8026612447\\r\\n+91 9901210005   \n",
       "\n",
       "       location            rest_type  \\\n",
       "0  Banashankari        Casual Dining   \n",
       "1  Banashankari        Casual Dining   \n",
       "2  Banashankari  Cafe, Casual Dining   \n",
       "3  Banashankari          Quick Bites   \n",
       "4  Basavanagudi        Casual Dining   \n",
       "\n",
       "                                          dish_liked  \\\n",
       "0  Pasta, Lunch Buffet, Masala Papad, Paneer Laja...   \n",
       "1  Momos, Lunch Buffet, Chocolate Nirvana, Thai G...   \n",
       "2  Churros, Cannelloni, Minestrone Soup, Hot Choc...   \n",
       "3                                        Masala Dosa   \n",
       "4                                Panipuri, Gol Gappe   \n",
       "\n",
       "                         cuisines approx_cost(for two people)  \\\n",
       "0  North Indian, Mughlai, Chinese                         800   \n",
       "1     Chinese, North Indian, Thai                         800   \n",
       "2          Cafe, Mexican, Italian                         800   \n",
       "3      South Indian, North Indian                         300   \n",
       "4        North Indian, Rajasthani                         600   \n",
       "\n",
       "                                        reviews_list menu_item  \\\n",
       "0  [('Rated 4.0', 'RATED\\n  A beautiful place to ...        []   \n",
       "1  [('Rated 4.0', 'RATED\\n  Had been here for din...        []   \n",
       "2  [('Rated 3.0', \"RATED\\n  Ambience is not that ...        []   \n",
       "3  [('Rated 4.0', \"RATED\\n  Great food and proper...        []   \n",
       "4  [('Rated 4.0', 'RATED\\n  Very good restaurant ...        []   \n",
       "\n",
       "  listed_in(type) listed_in(city)  \n",
       "0          Buffet    Banashankari  \n",
       "1          Buffet    Banashankari  \n",
       "2          Buffet    Banashankari  \n",
       "3          Buffet    Banashankari  \n",
       "4          Buffet    Banashankari  "
      ]
     },
     "execution_count": 6,
     "metadata": {},
     "output_type": "execute_result"
    }
   ],
   "source": [
    "pd.read_sql_query(\"SELECT * FROM Users\", con).head(5)"
   ]
  },
  {
   "cell_type": "code",
   "execution_count": 7,
   "id": "1f09a5cd",
   "metadata": {},
   "outputs": [],
   "source": [
    "df = pd.read_sql_query(\"SELECT * FROM Users\", con)"
   ]
  },
  {
   "cell_type": "code",
   "execution_count": null,
   "metadata": {},
   "outputs": [],
   "source": []
  },
  {
   "cell_type": "code",
   "execution_count": 8,
   "id": "913920ae",
   "metadata": {},
   "outputs": [
    {
     "data": {
      "text/plain": [
       "index                              0\n",
       "url                                0\n",
       "address                            0\n",
       "name                               0\n",
       "online_order                       0\n",
       "book_table                         0\n",
       "rate                            7775\n",
       "votes                              0\n",
       "phone                           1208\n",
       "location                          21\n",
       "rest_type                        227\n",
       "dish_liked                     28078\n",
       "cuisines                          45\n",
       "approx_cost(for two people)      346\n",
       "reviews_list                       0\n",
       "menu_item                          0\n",
       "listed_in(type)                    0\n",
       "listed_in(city)                    0\n",
       "dtype: int64"
      ]
     },
     "execution_count": 8,
     "metadata": {},
     "output_type": "execute_result"
    }
   ],
   "source": [
    "df.isnull().sum()"
   ]
  },
  {
   "cell_type": "code",
   "execution_count": 9,
   "id": "1c0c36a0",
   "metadata": {},
   "outputs": [
    {
     "data": {
      "text/plain": [
       "index                           0.000000\n",
       "url                             0.000000\n",
       "address                         0.000000\n",
       "name                            0.000000\n",
       "online_order                    0.000000\n",
       "book_table                      0.000000\n",
       "rate                           15.033741\n",
       "votes                           0.000000\n",
       "phone                           2.335789\n",
       "location                        0.040606\n",
       "rest_type                       0.438927\n",
       "dish_liked                     54.291626\n",
       "cuisines                        0.087012\n",
       "approx_cost(for two people)     0.669026\n",
       "reviews_list                    0.000000\n",
       "menu_item                       0.000000\n",
       "listed_in(type)                 0.000000\n",
       "listed_in(city)                 0.000000\n",
       "dtype: float64"
      ]
     },
     "execution_count": 9,
     "metadata": {},
     "output_type": "execute_result"
    }
   ],
   "source": [
    "df.isnull().sum()/len(df) * 100"
   ]
  },
  {
   "cell_type": "code",
   "execution_count": 10,
   "id": "d924f808",
   "metadata": {},
   "outputs": [
    {
     "data": {
      "text/plain": [
       "array(['4.1/5', '3.8/5', '3.7/5', '3.6/5', '4.6/5', '4.0/5', '4.2/5',\n",
       "       '3.9/5', '3.1/5', '3.0/5', '3.2/5', '3.3/5', '2.8/5', '4.4/5',\n",
       "       '4.3/5', 'NEW', '2.9/5', '3.5/5', None, '2.6/5', '3.8 /5', '3.4/5',\n",
       "       '4.5/5', '2.5/5', '2.7/5', '4.7/5', '2.4/5', '2.2/5', '2.3/5',\n",
       "       '3.4 /5', '-', '3.6 /5', '4.8/5', '3.9 /5', '4.2 /5', '4.0 /5',\n",
       "       '4.1 /5', '3.7 /5', '3.1 /5', '2.9 /5', '3.3 /5', '2.8 /5',\n",
       "       '3.5 /5', '2.7 /5', '2.5 /5', '3.2 /5', '2.6 /5', '4.5 /5',\n",
       "       '4.3 /5', '4.4 /5', '4.9/5', '2.1/5', '2.0/5', '1.8/5', '4.6 /5',\n",
       "       '4.9 /5', '3.0 /5', '4.8 /5', '2.3 /5', '4.7 /5', '2.4 /5',\n",
       "       '2.1 /5', '2.2 /5', '2.0 /5', '1.8 /5'], dtype=object)"
      ]
     },
     "execution_count": 10,
     "metadata": {},
     "output_type": "execute_result"
    }
   ],
   "source": [
    "df['rate'].unique()"
   ]
  },
  {
   "cell_type": "code",
   "execution_count": 11,
   "id": "baf5dcf1",
   "metadata": {},
   "outputs": [
    {
     "name": "stderr",
     "output_type": "stream",
     "text": [
      "C:\\Users\\palab\\AppData\\Local\\Temp\\ipykernel_9212\\3439054888.py:1: FutureWarning: A value is trying to be set on a copy of a DataFrame or Series through chained assignment using an inplace method.\n",
      "The behavior will change in pandas 3.0. This inplace method will never work because the intermediate object on which we are setting values always behaves as a copy.\n",
      "\n",
      "For example, when doing 'df[col].method(value, inplace=True)', try using 'df.method({col: value}, inplace=True)' or df[col] = df[col].method(value) instead, to perform the operation inplace on the original object.\n",
      "\n",
      "\n",
      "  df.rate.replace(('NEW', '-'), np.nan , inplace= True)\n"
     ]
    }
   ],
   "source": [
    "df.rate.replace(('NEW', '-'), np.nan , inplace= True)"
   ]
  },
  {
   "cell_type": "code",
   "execution_count": 12,
   "id": "d0b9d994",
   "metadata": {},
   "outputs": [
    {
     "data": {
      "text/plain": [
       "array(['4.1/5', '3.8/5', '3.7/5', '3.6/5', '4.6/5', '4.0/5', '4.2/5',\n",
       "       '3.9/5', '3.1/5', '3.0/5', '3.2/5', '3.3/5', '2.8/5', '4.4/5',\n",
       "       '4.3/5', nan, '2.9/5', '3.5/5', None, '2.6/5', '3.8 /5', '3.4/5',\n",
       "       '4.5/5', '2.5/5', '2.7/5', '4.7/5', '2.4/5', '2.2/5', '2.3/5',\n",
       "       '3.4 /5', '3.6 /5', '4.8/5', '3.9 /5', '4.2 /5', '4.0 /5',\n",
       "       '4.1 /5', '3.7 /5', '3.1 /5', '2.9 /5', '3.3 /5', '2.8 /5',\n",
       "       '3.5 /5', '2.7 /5', '2.5 /5', '3.2 /5', '2.6 /5', '4.5 /5',\n",
       "       '4.3 /5', '4.4 /5', '4.9/5', '2.1/5', '2.0/5', '1.8/5', '4.6 /5',\n",
       "       '4.9 /5', '3.0 /5', '4.8 /5', '2.3 /5', '4.7 /5', '2.4 /5',\n",
       "       '2.1 /5', '2.2 /5', '2.0 /5', '1.8 /5'], dtype=object)"
      ]
     },
     "execution_count": 12,
     "metadata": {},
     "output_type": "execute_result"
    }
   ],
   "source": [
    "df['rate'].unique()"
   ]
  },
  {
   "cell_type": "code",
   "execution_count": 13,
   "id": "3f39eebc",
   "metadata": {},
   "outputs": [
    {
     "data": {
      "text/plain": [
       "'4.1'"
      ]
     },
     "execution_count": 13,
     "metadata": {},
     "output_type": "execute_result"
    }
   ],
   "source": [
    "\"4.1/5\".split('/')[0]"
   ]
  },
  {
   "cell_type": "code",
   "execution_count": 14,
   "id": "d65a60f9",
   "metadata": {},
   "outputs": [
    {
     "data": {
      "text/plain": [
       "4.1"
      ]
     },
     "execution_count": 14,
     "metadata": {},
     "output_type": "execute_result"
    }
   ],
   "source": [
    "float((\"4.1/5\").split('/')[0])"
   ]
  },
  {
   "cell_type": "code",
   "execution_count": 15,
   "id": "7f8cf475",
   "metadata": {},
   "outputs": [],
   "source": [
    "df.rate = df.rate.apply(lambda x: float(x.split('/')[0]) if type(x) == str else x)"
   ]
  },
  {
   "cell_type": "code",
   "execution_count": null,
   "id": "7d9a4b24",
   "metadata": {},
   "outputs": [],
   "source": []
  },
  {
   "cell_type": "code",
   "execution_count": 16,
   "id": "3089b93b",
   "metadata": {},
   "outputs": [
    {
     "data": {
      "text/html": [
       "<div>\n",
       "<style scoped>\n",
       "    .dataframe tbody tr th:only-of-type {\n",
       "        vertical-align: middle;\n",
       "    }\n",
       "\n",
       "    .dataframe tbody tr th {\n",
       "        vertical-align: top;\n",
       "    }\n",
       "\n",
       "    .dataframe thead th {\n",
       "        text-align: right;\n",
       "    }\n",
       "</style>\n",
       "<table border=\"1\" class=\"dataframe\">\n",
       "  <thead>\n",
       "    <tr style=\"text-align: right;\">\n",
       "      <th>online_order</th>\n",
       "      <th>No</th>\n",
       "      <th>Yes</th>\n",
       "    </tr>\n",
       "    <tr>\n",
       "      <th>rate</th>\n",
       "      <th></th>\n",
       "      <th></th>\n",
       "    </tr>\n",
       "  </thead>\n",
       "  <tbody>\n",
       "    <tr>\n",
       "      <th>1.8</th>\n",
       "      <td>5</td>\n",
       "      <td>0</td>\n",
       "    </tr>\n",
       "    <tr>\n",
       "      <th>2.0</th>\n",
       "      <td>11</td>\n",
       "      <td>0</td>\n",
       "    </tr>\n",
       "    <tr>\n",
       "      <th>2.1</th>\n",
       "      <td>9</td>\n",
       "      <td>15</td>\n",
       "    </tr>\n",
       "    <tr>\n",
       "      <th>2.2</th>\n",
       "      <td>10</td>\n",
       "      <td>16</td>\n",
       "    </tr>\n",
       "    <tr>\n",
       "      <th>2.3</th>\n",
       "      <td>29</td>\n",
       "      <td>22</td>\n",
       "    </tr>\n",
       "    <tr>\n",
       "      <th>2.4</th>\n",
       "      <td>36</td>\n",
       "      <td>34</td>\n",
       "    </tr>\n",
       "    <tr>\n",
       "      <th>2.5</th>\n",
       "      <td>38</td>\n",
       "      <td>63</td>\n",
       "    </tr>\n",
       "    <tr>\n",
       "      <th>2.6</th>\n",
       "      <td>83</td>\n",
       "      <td>177</td>\n",
       "    </tr>\n",
       "    <tr>\n",
       "      <th>2.7</th>\n",
       "      <td>141</td>\n",
       "      <td>166</td>\n",
       "    </tr>\n",
       "    <tr>\n",
       "      <th>2.8</th>\n",
       "      <td>224</td>\n",
       "      <td>376</td>\n",
       "    </tr>\n",
       "    <tr>\n",
       "      <th>2.9</th>\n",
       "      <td>314</td>\n",
       "      <td>488</td>\n",
       "    </tr>\n",
       "    <tr>\n",
       "      <th>3.0</th>\n",
       "      <td>439</td>\n",
       "      <td>584</td>\n",
       "    </tr>\n",
       "    <tr>\n",
       "      <th>3.1</th>\n",
       "      <td>587</td>\n",
       "      <td>974</td>\n",
       "    </tr>\n",
       "    <tr>\n",
       "      <th>3.2</th>\n",
       "      <td>829</td>\n",
       "      <td>1044</td>\n",
       "    </tr>\n",
       "    <tr>\n",
       "      <th>3.3</th>\n",
       "      <td>1137</td>\n",
       "      <td>1173</td>\n",
       "    </tr>\n",
       "    <tr>\n",
       "      <th>3.4</th>\n",
       "      <td>1024</td>\n",
       "      <td>1452</td>\n",
       "    </tr>\n",
       "    <tr>\n",
       "      <th>3.5</th>\n",
       "      <td>1090</td>\n",
       "      <td>1694</td>\n",
       "    </tr>\n",
       "    <tr>\n",
       "      <th>3.6</th>\n",
       "      <td>1090</td>\n",
       "      <td>2226</td>\n",
       "    </tr>\n",
       "    <tr>\n",
       "      <th>3.7</th>\n",
       "      <td>1172</td>\n",
       "      <td>2649</td>\n",
       "    </tr>\n",
       "    <tr>\n",
       "      <th>3.8</th>\n",
       "      <td>1147</td>\n",
       "      <td>2726</td>\n",
       "    </tr>\n",
       "    <tr>\n",
       "      <th>3.9</th>\n",
       "      <td>1017</td>\n",
       "      <td>2955</td>\n",
       "    </tr>\n",
       "    <tr>\n",
       "      <th>4.0</th>\n",
       "      <td>874</td>\n",
       "      <td>2309</td>\n",
       "    </tr>\n",
       "    <tr>\n",
       "      <th>4.1</th>\n",
       "      <td>843</td>\n",
       "      <td>2105</td>\n",
       "    </tr>\n",
       "    <tr>\n",
       "      <th>4.2</th>\n",
       "      <td>648</td>\n",
       "      <td>1536</td>\n",
       "    </tr>\n",
       "    <tr>\n",
       "      <th>4.3</th>\n",
       "      <td>692</td>\n",
       "      <td>1001</td>\n",
       "    </tr>\n",
       "    <tr>\n",
       "      <th>4.4</th>\n",
       "      <td>374</td>\n",
       "      <td>773</td>\n",
       "    </tr>\n",
       "    <tr>\n",
       "      <th>4.5</th>\n",
       "      <td>297</td>\n",
       "      <td>359</td>\n",
       "    </tr>\n",
       "    <tr>\n",
       "      <th>4.6</th>\n",
       "      <td>140</td>\n",
       "      <td>160</td>\n",
       "    </tr>\n",
       "    <tr>\n",
       "      <th>4.7</th>\n",
       "      <td>113</td>\n",
       "      <td>54</td>\n",
       "    </tr>\n",
       "    <tr>\n",
       "      <th>4.8</th>\n",
       "      <td>34</td>\n",
       "      <td>32</td>\n",
       "    </tr>\n",
       "    <tr>\n",
       "      <th>4.9</th>\n",
       "      <td>12</td>\n",
       "      <td>43</td>\n",
       "    </tr>\n",
       "  </tbody>\n",
       "</table>\n",
       "</div>"
      ],
      "text/plain": [
       "online_order    No   Yes\n",
       "rate                    \n",
       "1.8              5     0\n",
       "2.0             11     0\n",
       "2.1              9    15\n",
       "2.2             10    16\n",
       "2.3             29    22\n",
       "2.4             36    34\n",
       "2.5             38    63\n",
       "2.6             83   177\n",
       "2.7            141   166\n",
       "2.8            224   376\n",
       "2.9            314   488\n",
       "3.0            439   584\n",
       "3.1            587   974\n",
       "3.2            829  1044\n",
       "3.3           1137  1173\n",
       "3.4           1024  1452\n",
       "3.5           1090  1694\n",
       "3.6           1090  2226\n",
       "3.7           1172  2649\n",
       "3.8           1147  2726\n",
       "3.9           1017  2955\n",
       "4.0            874  2309\n",
       "4.1            843  2105\n",
       "4.2            648  1536\n",
       "4.3            692  1001\n",
       "4.4            374   773\n",
       "4.5            297   359\n",
       "4.6            140   160\n",
       "4.7            113    54\n",
       "4.8             34    32\n",
       "4.9             12    43"
      ]
     },
     "execution_count": 16,
     "metadata": {},
     "output_type": "execute_result"
    }
   ],
   "source": [
    "x = pd.crosstab(df.rate, df.online_order)\n",
    "x"
   ]
  },
  {
   "cell_type": "code",
   "execution_count": 17,
   "id": "24646d93",
   "metadata": {},
   "outputs": [
    {
     "data": {
      "text/plain": [
       "<Axes: xlabel='rate'>"
      ]
     },
     "execution_count": 17,
     "metadata": {},
     "output_type": "execute_result"
    },
    {
     "data": {
      "image/png": "[encoded data removed]",
      "text/plain": [
       "<Figure size 640x480 with 1 Axes>"
      ]
     },
     "metadata": {},
     "output_type": "display_data"
    }
   ],
   "source": [
    "x.plot(kind= 'bar', stacked= True)"
   ]
  },
  {
   "cell_type": "code",
   "execution_count": 18,
   "id": "c35dca3a",
   "metadata": {},
   "outputs": [],
   "source": [
    "norm_x = x.div(x.sum(axis = 1).astype(float), axis = 0)*100"
   ]
  },
  {
   "cell_type": "code",
   "execution_count": 19,
   "id": "06c43afb",
   "metadata": {},
   "outputs": [
    {
     "data": {
      "text/plain": [
       "<Axes: xlabel='rate'>"
      ]
     },
     "execution_count": 19,
     "metadata": {},
     "output_type": "execute_result"
    },
    {
     "data": {
      "image/png": "[encoded data removed]",
      "text/plain": [
       "<Figure size 640x480 with 1 Axes>"
      ]
     },
     "metadata": {},
     "output_type": "display_data"
    }
   ],
   "source": [
    "norm_x.plot(kind= 'bar' , stacked= True)"
   ]
  },
  {
   "cell_type": "markdown",
   "id": "7c4041aa",
   "metadata": {},
   "source": [
    "## DATA CLEANING"
   ]
  },
  {
   "cell_type": "code",
   "execution_count": 20,
   "id": "2df2c6a8",
   "metadata": {},
   "outputs": [
    {
     "data": {
      "text/plain": [
       "np.int64(227)"
      ]
     },
     "execution_count": 20,
     "metadata": {},
     "output_type": "execute_result"
    }
   ],
   "source": [
    "df.rest_type.isnull().sum()"
   ]
  },
  {
   "cell_type": "code",
   "execution_count": 21,
   "id": "12a28c51",
   "metadata": {},
   "outputs": [],
   "source": [
    "data = df.dropna(subset= ['rest_type'])"
   ]
  },
  {
   "cell_type": "code",
   "execution_count": 22,
   "id": "3b97e673",
   "metadata": {},
   "outputs": [
    {
     "data": {
      "text/plain": [
       "np.int64(0)"
      ]
     },
     "execution_count": 22,
     "metadata": {},
     "output_type": "execute_result"
    }
   ],
   "source": [
    "data['rest_type'].isnull().sum()"
   ]
  },
  {
   "cell_type": "code",
   "execution_count": 23,
   "id": "77b394e7",
   "metadata": {},
   "outputs": [
    {
     "data": {
      "text/plain": [
       "array(['Casual Dining', 'Cafe, Casual Dining', 'Quick Bites',\n",
       "       'Casual Dining, Cafe', 'Cafe', 'Quick Bites, Cafe',\n",
       "       'Cafe, Quick Bites', 'Delivery', 'Mess', 'Dessert Parlor',\n",
       "       'Bakery, Dessert Parlor', 'Pub', 'Bakery', 'Takeaway, Delivery',\n",
       "       'Fine Dining', 'Beverage Shop', 'Sweet Shop', 'Bar',\n",
       "       'Beverage Shop, Quick Bites', 'Confectionery',\n",
       "       'Quick Bites, Beverage Shop', 'Dessert Parlor, Sweet Shop',\n",
       "       'Bakery, Quick Bites', 'Sweet Shop, Quick Bites', 'Kiosk',\n",
       "       'Food Truck', 'Quick Bites, Dessert Parlor',\n",
       "       'Beverage Shop, Dessert Parlor', 'Takeaway', 'Pub, Casual Dining',\n",
       "       'Casual Dining, Bar', 'Dessert Parlor, Beverage Shop',\n",
       "       'Quick Bites, Bakery', 'Dessert Parlor, Quick Bites',\n",
       "       'Microbrewery, Casual Dining', 'Lounge', 'Bar, Casual Dining',\n",
       "       'Food Court', 'Cafe, Bakery', 'Dhaba', 'Quick Bites, Sweet Shop',\n",
       "       'Microbrewery', 'Food Court, Quick Bites', 'Pub, Bar',\n",
       "       'Casual Dining, Pub', 'Lounge, Bar', 'Food Court, Dessert Parlor',\n",
       "       'Casual Dining, Sweet Shop', 'Food Court, Casual Dining',\n",
       "       'Casual Dining, Microbrewery', 'Sweet Shop, Dessert Parlor',\n",
       "       'Bakery, Beverage Shop', 'Lounge, Casual Dining',\n",
       "       'Cafe, Food Court', 'Beverage Shop, Cafe', 'Cafe, Dessert Parlor',\n",
       "       'Dessert Parlor, Cafe', 'Dessert Parlor, Bakery',\n",
       "       'Microbrewery, Pub', 'Bakery, Food Court', 'Club',\n",
       "       'Quick Bites, Food Court', 'Bakery, Cafe', 'Bar, Cafe',\n",
       "       'Pub, Cafe', 'Casual Dining, Irani Cafee', 'Fine Dining, Lounge',\n",
       "       'Bar, Quick Bites', 'Bakery, Kiosk', 'Pub, Microbrewery',\n",
       "       'Microbrewery, Lounge', 'Fine Dining, Microbrewery',\n",
       "       'Fine Dining, Bar', 'Mess, Quick Bites', 'Dessert Parlor, Kiosk',\n",
       "       'Bhojanalya', 'Casual Dining, Quick Bites', 'Pop Up', 'Cafe, Bar',\n",
       "       'Casual Dining, Lounge', 'Bakery, Sweet Shop', 'Microbrewery, Bar',\n",
       "       'Cafe, Lounge', 'Bar, Pub', 'Lounge, Cafe', 'Club, Casual Dining',\n",
       "       'Quick Bites, Mess', 'Quick Bites, Meat Shop',\n",
       "       'Quick Bites, Kiosk', 'Lounge, Microbrewery',\n",
       "       'Food Court, Beverage Shop', 'Dessert Parlor, Food Court',\n",
       "       'Bar, Lounge'], dtype=object)"
      ]
     },
     "execution_count": 23,
     "metadata": {},
     "output_type": "execute_result"
    }
   ],
   "source": [
    "data.rest_type.unique()"
   ]
  },
  {
   "cell_type": "code",
   "execution_count": 24,
   "id": "17a95a98",
   "metadata": {},
   "outputs": [
    {
     "data": {
      "text/plain": [
       "(20639, 18)"
      ]
     },
     "execution_count": 24,
     "metadata": {},
     "output_type": "execute_result"
    }
   ],
   "source": [
    "qb_df = data[data.rest_type.str.contains('Quick Bites')]\n",
    "qb_df.shape"
   ]
  },
  {
   "cell_type": "code",
   "execution_count": 25,
   "id": "2a5009b0",
   "metadata": {},
   "outputs": [
    {
     "name": "stderr",
     "output_type": "stream",
     "text": [
      "C:\\Users\\palab\\AppData\\Local\\Temp\\ipykernel_9212\\1836613656.py:1: SettingWithCopyWarning: \n",
      "A value is trying to be set on a copy of a slice from a DataFrame.\n",
      "Try using .loc[row_indexer,col_indexer] = value instead\n",
      "\n",
      "See the caveats in the documentation: https://pandas.pydata.org/pandas-docs/stable/user_guide/indexing.html#returning-a-view-versus-a-copy\n",
      "  qb_df.reviews_list = qb_df.reviews_list.apply(lambda y: y.lower())\n"
     ]
    }
   ],
   "source": [
    "qb_df.reviews_list = qb_df.reviews_list.apply(lambda y: y.lower())"
   ]
  },
  {
   "cell_type": "code",
   "execution_count": 26,
   "id": "2d7bc2f9",
   "metadata": {},
   "outputs": [],
   "source": [
    "tkn = RegexpTokenizer(\"[a-zA-Z]+\")"
   ]
  },
  {
   "cell_type": "code",
   "execution_count": 27,
   "id": "e644c0b0",
   "metadata": {},
   "outputs": [
    {
     "data": {
      "text/plain": [
       "RegexpTokenizer(pattern='[a-zA-Z]+', gaps=False, discard_empty=True, flags=re.UNICODE|re.MULTILINE|re.DOTALL)"
      ]
     },
     "execution_count": 27,
     "metadata": {},
     "output_type": "execute_result"
    }
   ],
   "source": [
    "tkn"
   ]
  },
  {
   "cell_type": "code",
   "execution_count": 28,
   "id": "0bcb9a60",
   "metadata": {},
   "outputs": [
    {
     "data": {
      "text/plain": [
       "['rated',\n",
       " 'rated',\n",
       " 'n',\n",
       " 'great',\n",
       " 'food',\n",
       " 'and',\n",
       " 'proper',\n",
       " 'karnataka',\n",
       " 'style',\n",
       " 'full',\n",
       " 'meals',\n",
       " 'been',\n",
       " 'there',\n",
       " 'twice',\n",
       " 'and',\n",
       " 'was',\n",
       " 'fully',\n",
       " 'satisfied',\n",
       " 'will',\n",
       " 'give',\n",
       " 'stars',\n",
       " 'if',\n",
       " 'it',\n",
       " 's',\n",
       " 'well',\n",
       " 'managed',\n",
       " 'rated',\n",
       " 'rated',\n",
       " 'n',\n",
       " 'reached',\n",
       " 'the',\n",
       " 'place',\n",
       " 'at',\n",
       " 'pm',\n",
       " 'on',\n",
       " 'saturday',\n",
       " 'half',\n",
       " 'of',\n",
       " 'the',\n",
       " 'items',\n",
       " 'on',\n",
       " 'the',\n",
       " 'menu',\n",
       " 'were',\n",
       " 'over',\n",
       " 'what',\n",
       " 'was',\n",
       " 'annoying',\n",
       " 'was',\n",
       " 'is',\n",
       " 'the',\n",
       " 'food',\n",
       " 'was',\n",
       " 'cold',\n",
       " 'the',\n",
       " 'taste',\n",
       " 'was',\n",
       " 'also',\n",
       " 'very',\n",
       " 'average',\n",
       " 'only',\n",
       " 'dosa',\n",
       " 'and',\n",
       " 'holige',\n",
       " 'were',\n",
       " 'good',\n",
       " 'there',\n",
       " 'were',\n",
       " 'very',\n",
       " 'few',\n",
       " 'people',\n",
       " 'in',\n",
       " 'the',\n",
       " 'restaurant',\n",
       " 'and',\n",
       " 'the',\n",
       " 'service',\n",
       " 'was',\n",
       " 'still',\n",
       " 'very',\n",
       " 'slow',\n",
       " 'the',\n",
       " 'waiters',\n",
       " 'were',\n",
       " 'all',\n",
       " 'standing',\n",
       " 'in',\n",
       " 'one',\n",
       " 'corner',\n",
       " 'and',\n",
       " 'talking',\n",
       " 'had',\n",
       " 'to',\n",
       " 'call',\n",
       " 'them',\n",
       " 'repeatedly',\n",
       " 'rated',\n",
       " 'rated',\n",
       " 'n',\n",
       " 'had',\n",
       " 'been',\n",
       " 'here',\n",
       " 'good',\n",
       " 'food',\n",
       " 'served',\n",
       " 'and',\n",
       " 'tasty',\n",
       " 'good',\n",
       " 'place',\n",
       " 'to',\n",
       " 'go',\n",
       " 'with',\n",
       " 'freinds',\n",
       " 'and',\n",
       " 'family',\n",
       " 'should',\n",
       " 'be',\n",
       " 'first',\n",
       " 'to',\n",
       " 'get',\n",
       " 'served',\n",
       " 'well',\n",
       " 'with',\n",
       " 'all',\n",
       " 'food',\n",
       " 'one',\n",
       " 'of',\n",
       " 'the',\n",
       " 'good',\n",
       " 'hotel',\n",
       " 'there',\n",
       " 'for',\n",
       " 'this',\n",
       " 'price',\n",
       " 'rated',\n",
       " 'rated',\n",
       " 'n',\n",
       " 'how',\n",
       " 'can',\n",
       " 'a',\n",
       " 'udupi',\n",
       " 'restaurant',\n",
       " 'be',\n",
       " 'so',\n",
       " 'dirty',\n",
       " 'the',\n",
       " 'floor',\n",
       " 'the',\n",
       " 'walls',\n",
       " 'the',\n",
       " 'waiters',\n",
       " 'are',\n",
       " 'all',\n",
       " 'stained',\n",
       " 'in',\n",
       " 'food',\n",
       " 'why',\n",
       " 'cant',\n",
       " 'they',\n",
       " 'clean',\n",
       " 'it',\n",
       " 'the',\n",
       " 'floor',\n",
       " 'even',\n",
       " 'had',\n",
       " 'decorative',\n",
       " 'colour',\n",
       " 'paper',\n",
       " 'every',\n",
       " 'where',\n",
       " 'and',\n",
       " 'lot',\n",
       " 'of',\n",
       " 'food',\n",
       " 'now',\n",
       " 'coming',\n",
       " 'to',\n",
       " 'the',\n",
       " 'taste',\n",
       " 'of',\n",
       " 'the',\n",
       " 'food',\n",
       " 'it',\n",
       " 'was',\n",
       " 'pretty',\n",
       " 'decent',\n",
       " 'for',\n",
       " 'what',\n",
       " 'they',\n",
       " 'chargw',\n",
       " 'what',\n",
       " 'upset',\n",
       " 'us',\n",
       " 'was',\n",
       " 'the',\n",
       " 'menu',\n",
       " 'says',\n",
       " 'they',\n",
       " 'serve',\n",
       " 'thambuli',\n",
       " 'two',\n",
       " 'variety',\n",
       " 'of',\n",
       " 'rice',\n",
       " 'etc',\n",
       " 'but',\n",
       " 'they',\n",
       " 'were',\n",
       " 'all',\n",
       " 'over',\n",
       " 'at',\n",
       " 'but',\n",
       " 'they',\n",
       " 'still',\n",
       " 'charged',\n",
       " 'us',\n",
       " 'full',\n",
       " 'amount',\n",
       " 'lastly',\n",
       " 'if',\n",
       " 'u',\n",
       " 'r',\n",
       " 'ok',\n",
       " 'to',\n",
       " 'b',\n",
       " 'seated',\n",
       " 'with',\n",
       " 'random',\n",
       " 'people',\n",
       " 'and',\n",
       " 'adjust',\n",
       " 'with',\n",
       " 'their',\n",
       " 'table',\n",
       " 'manners',\n",
       " 'burrping',\n",
       " 'etc',\n",
       " 'then',\n",
       " 'tis',\n",
       " 'place',\n",
       " 'is',\n",
       " 'decent',\n",
       " 'for',\n",
       " 'a',\n",
       " 'quick',\n",
       " 'veg',\n",
       " 'udupi',\n",
       " 'meals',\n",
       " 'rated',\n",
       " 'rated',\n",
       " 'n',\n",
       " 'aadhuri',\n",
       " 'udupi',\n",
       " 'bhojana',\n",
       " 'is',\n",
       " 'one',\n",
       " 'of',\n",
       " 'the',\n",
       " 'best',\n",
       " 'vegetarian',\n",
       " 'hotel',\n",
       " 'in',\n",
       " 'and',\n",
       " 'around',\n",
       " 'banashankari',\n",
       " 'locality',\n",
       " 'nwere',\n",
       " 'we',\n",
       " 'can',\n",
       " 'enjoy',\n",
       " 'the',\n",
       " 'authentic',\n",
       " 'south',\n",
       " 'karnataka',\n",
       " 'style',\n",
       " 'food',\n",
       " 'rated',\n",
       " 'rated',\n",
       " 'n',\n",
       " 'one',\n",
       " 'of',\n",
       " 'the',\n",
       " 'best',\n",
       " 'restaurants',\n",
       " 'for',\n",
       " 'unlimited',\n",
       " 'food',\n",
       " 'price',\n",
       " 'for',\n",
       " 'one',\n",
       " 'full',\n",
       " 'unlimited',\n",
       " 'meal',\n",
       " 'is',\n",
       " 'and',\n",
       " 'the',\n",
       " 'service',\n",
       " 'is',\n",
       " 'awesome',\n",
       " 'here',\n",
       " 'if',\n",
       " 'you',\n",
       " 'x',\n",
       " 'x',\n",
       " 'x',\n",
       " 'x',\n",
       " 'x',\n",
       " 'x',\n",
       " 'x',\n",
       " 'x',\n",
       " 're',\n",
       " 'a',\n",
       " 'costalian',\n",
       " 'you',\n",
       " 'will',\n",
       " 'love',\n",
       " 'the',\n",
       " 'food',\n",
       " 'served',\n",
       " 'here',\n",
       " 'rated',\n",
       " 'rated',\n",
       " 'n',\n",
       " 'been',\n",
       " 'here',\n",
       " 'a',\n",
       " 'couple',\n",
       " 'of',\n",
       " 'times',\n",
       " 'highly',\n",
       " 'satisfying',\n",
       " 'on',\n",
       " 'both',\n",
       " 'the',\n",
       " 'ocassions',\n",
       " 'great',\n",
       " 'food',\n",
       " 'decent',\n",
       " 'service',\n",
       " 'at',\n",
       " 'price',\n",
       " 'of',\n",
       " 'per',\n",
       " 'person',\n",
       " 'it',\n",
       " 'is',\n",
       " 'of',\n",
       " 'a',\n",
       " 'great',\n",
       " 'value',\n",
       " 'the',\n",
       " 'staff',\n",
       " 'here',\n",
       " 'serves',\n",
       " 'in',\n",
       " 'a',\n",
       " 'traditional',\n",
       " 'mysore',\n",
       " 'style',\n",
       " 'dresses',\n",
       " 'the',\n",
       " 'food',\n",
       " 'is',\n",
       " 'authentic',\n",
       " 'karnataka',\n",
       " 'meals',\n",
       " 'i',\n",
       " 'really',\n",
       " 'liked',\n",
       " 'the',\n",
       " 'pineapple',\n",
       " 'pickle',\n",
       " 'chutney',\n",
       " 'they',\n",
       " 'serve',\n",
       " 'some',\n",
       " 'varities',\n",
       " 'of',\n",
       " 'rice',\n",
       " 'of',\n",
       " 'which',\n",
       " 'you',\n",
       " 'shouldn',\n",
       " 't',\n",
       " 'try',\n",
       " 'all',\n",
       " 'as',\n",
       " 'you',\n",
       " 'would',\n",
       " 'already',\n",
       " 'be',\n",
       " 'full',\n",
       " 'roti',\n",
       " 'dosa',\n",
       " 'were',\n",
       " 'decent',\n",
       " 'in',\n",
       " 'the',\n",
       " 'deserts',\n",
       " 'payasam',\n",
       " 'holige',\n",
       " 'were',\n",
       " 'good',\n",
       " 'ni',\n",
       " 'think',\n",
       " 'it',\n",
       " 'is',\n",
       " 'one',\n",
       " 'the',\n",
       " 'must',\n",
       " 'try',\n",
       " 'places',\n",
       " 'to',\n",
       " 'try',\n",
       " 'some',\n",
       " 'authentic',\n",
       " 'south',\n",
       " 'food',\n",
       " 'even',\n",
       " 'if',\n",
       " 'you',\n",
       " 'have',\n",
       " 'been',\n",
       " 'to',\n",
       " 'the',\n",
       " 'likes',\n",
       " 'of',\n",
       " 'kamath',\n",
       " 'etc',\n",
       " 'this',\n",
       " 'one',\n",
       " 'is',\n",
       " 'a',\n",
       " 'little',\n",
       " 'different',\n",
       " 'rated',\n",
       " 'rated',\n",
       " 'n',\n",
       " 'very',\n",
       " 'good',\n",
       " 'restorent',\n",
       " 'good',\n",
       " 'south',\n",
       " 'indian',\n",
       " 'food',\n",
       " 'very',\n",
       " 'nice',\n",
       " 'all',\n",
       " 'food',\n",
       " 's',\n",
       " 'are',\n",
       " 'good',\n",
       " 'we',\n",
       " 'spent',\n",
       " 'good',\n",
       " 'time',\n",
       " 'and',\n",
       " 'food',\n",
       " 'in',\n",
       " 'this',\n",
       " 'hotel',\n",
       " 'value',\n",
       " 'of',\n",
       " 'money',\n",
       " 'we',\n",
       " 'loved',\n",
       " 'it',\n",
       " 'rated',\n",
       " 'rated',\n",
       " 'n',\n",
       " 'i',\n",
       " 'went',\n",
       " 'to',\n",
       " 'this',\n",
       " 'restaurant',\n",
       " 'on',\n",
       " 'sunday',\n",
       " 'afternoon',\n",
       " 'it',\n",
       " 'was',\n",
       " 'a',\n",
       " 'bit',\n",
       " 'crowded',\n",
       " 'n',\n",
       " 'nits',\n",
       " 'located',\n",
       " 'in',\n",
       " 'the',\n",
       " 'st',\n",
       " 'floor',\n",
       " 'above',\n",
       " 'anna',\n",
       " 'kuteera',\n",
       " 'kathriguppe',\n",
       " 'n',\n",
       " 'nyou',\n",
       " 'need',\n",
       " 'to',\n",
       " 'take',\n",
       " 'food',\n",
       " 'coupon',\n",
       " 'in',\n",
       " 'the',\n",
       " 'ground',\n",
       " 'floor',\n",
       " 'itself',\n",
       " 'nit',\n",
       " 'was',\n",
       " 'rs',\n",
       " 'n',\n",
       " 'ntaste',\n",
       " 'wise',\n",
       " 'it',\n",
       " 'was',\n",
       " 'good',\n",
       " 'nservice',\n",
       " 'was',\n",
       " 'slow',\n",
       " 'nnothing',\n",
       " 'exciting',\n",
       " 'different',\n",
       " 'in',\n",
       " 'the',\n",
       " 'menu',\n",
       " 'nwhatever',\n",
       " 'they',\n",
       " 'serve',\n",
       " 'its',\n",
       " 'good',\n",
       " 'nworth',\n",
       " 'for',\n",
       " 'money',\n",
       " 'rated',\n",
       " 'rated',\n",
       " 'n',\n",
       " 'awesome',\n",
       " 'place',\n",
       " 'worth',\n",
       " 'with',\n",
       " 'price',\n",
       " 'quality',\n",
       " 'quantity',\n",
       " 'service',\n",
       " 'hygiene',\n",
       " 'and',\n",
       " 'discipline',\n",
       " 'i',\n",
       " 'loved',\n",
       " 'it',\n",
       " 'wish',\n",
       " 'there',\n",
       " 'were',\n",
       " 'more',\n",
       " 'rating',\n",
       " 'stars',\n",
       " 'to',\n",
       " 'give',\n",
       " 'i',\n",
       " 'give',\n",
       " 'on',\n",
       " 'for',\n",
       " 'sure',\n",
       " 'rated',\n",
       " 'rated',\n",
       " 'n',\n",
       " 'nice',\n",
       " 'food',\n",
       " 'good',\n",
       " 'ambiance',\n",
       " 'so',\n",
       " 'many',\n",
       " 'verity',\n",
       " 'of',\n",
       " 'food',\n",
       " 'this',\n",
       " 'time',\n",
       " 'i',\n",
       " 'was',\n",
       " 'in',\n",
       " 'hurry',\n",
       " 'so',\n",
       " 'next',\n",
       " 'review',\n",
       " 'will',\n",
       " 'be',\n",
       " 'detailed',\n",
       " 'one',\n",
       " 'its',\n",
       " 'good',\n",
       " 'to',\n",
       " 'see',\n",
       " 'all',\n",
       " 'dishes',\n",
       " 'at',\n",
       " 'one',\n",
       " 'place',\n",
       " 'rated',\n",
       " 'rated',\n",
       " 'n',\n",
       " 'the',\n",
       " 'food',\n",
       " 'was',\n",
       " 'not',\n",
       " 'satisfactory',\n",
       " 'not',\n",
       " 'one',\n",
       " 'item',\n",
       " 'served',\n",
       " 'could',\n",
       " 'be',\n",
       " 'eaten',\n",
       " 'again',\n",
       " 'only',\n",
       " 'advantage',\n",
       " 'is',\n",
       " 'the',\n",
       " 'price',\n",
       " 'but',\n",
       " 'even',\n",
       " 'that',\n",
       " 'is',\n",
       " 'not',\n",
       " 'going',\n",
       " 'to',\n",
       " 'be',\n",
       " 'enough',\n",
       " 'to',\n",
       " 'make',\n",
       " 'me',\n",
       " 'visit',\n",
       " 'the',\n",
       " 'place',\n",
       " 'again',\n",
       " 'dear',\n",
       " 'udupi',\n",
       " 'staff',\n",
       " 'people',\n",
       " 'wouldn',\n",
       " 'x',\n",
       " 'x',\n",
       " 'x',\n",
       " 'x',\n",
       " 'x',\n",
       " 'x',\n",
       " 'x',\n",
       " 'x',\n",
       " 't',\n",
       " 'mind',\n",
       " 'if',\n",
       " 'the',\n",
       " 'food',\n",
       " 'quality',\n",
       " 'was',\n",
       " 'better',\n",
       " 'for',\n",
       " 'a',\n",
       " 'higher',\n",
       " 'price',\n",
       " 'and',\n",
       " 'please',\n",
       " 'get',\n",
       " 'more',\n",
       " 'fans',\n",
       " 'so',\n",
       " 'that',\n",
       " 'people',\n",
       " 'won',\n",
       " 'x',\n",
       " 'x',\n",
       " 'x',\n",
       " 'x',\n",
       " 'x',\n",
       " 'x',\n",
       " 'x',\n",
       " 'x',\n",
       " 't',\n",
       " 'have',\n",
       " 'to',\n",
       " 'deal',\n",
       " 'with',\n",
       " 'another',\n",
       " 'disappointment',\n",
       " 'of',\n",
       " 'sweating',\n",
       " 'while',\n",
       " 'eating',\n",
       " 'rated',\n",
       " 'rated',\n",
       " 'n',\n",
       " 'excellent',\n",
       " 'quality',\n",
       " 'and',\n",
       " 'taste',\n",
       " 'more',\n",
       " 'variety',\n",
       " 'of',\n",
       " 'authentic',\n",
       " 'south',\n",
       " 'indian',\n",
       " 'food',\n",
       " 'excellent',\n",
       " 'service',\n",
       " 'highly',\n",
       " 'recommended',\n",
       " 'worth',\n",
       " 'the',\n",
       " 'money',\n",
       " 'we',\n",
       " 'pay',\n",
       " 'here',\n",
       " 'rated',\n",
       " 'rated',\n",
       " 'n',\n",
       " 'i',\n",
       " 'm',\n",
       " 'rating',\n",
       " 'only',\n",
       " 'because',\n",
       " 'of',\n",
       " 'the',\n",
       " 'large',\n",
       " 'number',\n",
       " 'of',\n",
       " 'items',\n",
       " 'they',\n",
       " 'serve',\n",
       " 'for',\n",
       " 'the',\n",
       " 'price',\n",
       " 'they',\n",
       " 'charge',\n",
       " 'while',\n",
       " 'the',\n",
       " 'taste',\n",
       " 'is',\n",
       " 'moderate',\n",
       " 'the',\n",
       " 'biggest',\n",
       " 'turn',\n",
       " 'off',\n",
       " 'is',\n",
       " 'the',\n",
       " 'poor',\n",
       " 'service',\n",
       " 'and',\n",
       " 'totally',\n",
       " 'unresponsive',\n",
       " 'staff',\n",
       " 'they',\n",
       " 'are',\n",
       " 'either',\n",
       " 'understaffed',\n",
       " 'or',\n",
       " 'poorly',\n",
       " 'trained',\n",
       " 'i',\n",
       " 'didn',\n",
       " 't',\n",
       " 'get',\n",
       " 'to',\n",
       " 'taste',\n",
       " 'a',\n",
       " 'few',\n",
       " 'items',\n",
       " 'thanks',\n",
       " 'to',\n",
       " 'their',\n",
       " 'ever',\n",
       " 'busy',\n",
       " 'staff',\n",
       " 'and',\n",
       " 'ended',\n",
       " 'eating',\n",
       " 'what',\n",
       " 'was',\n",
       " 'served',\n",
       " 'please',\n",
       " 'learn',\n",
       " 'the',\n",
       " 'crowd',\n",
       " 'management',\n",
       " 'from',\n",
       " 'other',\n",
       " 'peers',\n",
       " 'like',\n",
       " 'maiyya',\n",
       " 'and',\n",
       " 'roti',\n",
       " 'ghar',\n",
       " 'rated',\n",
       " 'rated',\n",
       " 'n',\n",
       " 'one',\n",
       " 'of',\n",
       " 'my',\n",
       " 'colleagues',\n",
       " 'suggested',\n",
       " 'this',\n",
       " 'place',\n",
       " 'went',\n",
       " 'there',\n",
       " 'at',\n",
       " 'pm',\n",
       " 'and',\n",
       " 'place',\n",
       " 'wasnt',\n",
       " 'crowded',\n",
       " 'ambience',\n",
       " 'is',\n",
       " 'decent',\n",
       " 'and',\n",
       " 'cool',\n",
       " 'a',\n",
       " 'welcome',\n",
       " 'drink',\n",
       " 'appekai',\n",
       " 'saru',\n",
       " 'was',\n",
       " 'served',\n",
       " 'then',\n",
       " 'started',\n",
       " 'typical',\n",
       " 'baale',\n",
       " 'yele',\n",
       " 'uta',\n",
       " 'diffrerent',\n",
       " 'types',\n",
       " 'of',\n",
       " 'palya',\n",
       " 'kosambari',\n",
       " 'and',\n",
       " 'sides',\n",
       " 'then',\n",
       " 'came',\n",
       " 'masala',\n",
       " 'dosa',\n",
       " 'pulka',\n",
       " 'pulav',\n",
       " 'veg',\n",
       " 'rice',\n",
       " 'bath',\n",
       " 'masala',\n",
       " 'dosa',\n",
       " 'was',\n",
       " 'very',\n",
       " 'very',\n",
       " 'tasty',\n",
       " 'service',\n",
       " 'is',\n",
       " 'bit',\n",
       " 'fast',\n",
       " 'as',\n",
       " 'people',\n",
       " 'will',\n",
       " 'be',\n",
       " 'coming',\n",
       " 'but',\n",
       " 'they',\n",
       " 'will',\n",
       " 'make',\n",
       " 'it',\n",
       " 'slow',\n",
       " 'if',\n",
       " 'u',\n",
       " 'tell',\n",
       " 'them',\n",
       " 'to',\n",
       " 'then',\n",
       " 'comes',\n",
       " 'rice',\n",
       " 'with',\n",
       " 'sambar',\n",
       " 'rasam',\n",
       " 'daal',\n",
       " 'tambali',\n",
       " 'and',\n",
       " 'yes',\n",
       " 'dont',\n",
       " 'forget',\n",
       " 'to',\n",
       " 'eat',\n",
       " 'holige',\n",
       " 'payasam',\n",
       " 'and',\n",
       " 'icecream',\n",
       " 'service',\n",
       " 'is',\n",
       " 'very',\n",
       " 'nice',\n",
       " 'one',\n",
       " 'best',\n",
       " 'thing',\n",
       " 'is',\n",
       " 'all',\n",
       " 'of',\n",
       " 'this',\n",
       " 'comes',\n",
       " 'in',\n",
       " 'just',\n",
       " 'rs',\n",
       " 'and',\n",
       " 'its',\n",
       " 'unlimited',\n",
       " 'what',\n",
       " 'else',\n",
       " 'you',\n",
       " 'want',\n",
       " 'a',\n",
       " 'must',\n",
       " 'visit',\n",
       " 'place',\n",
       " 'for',\n",
       " 'south',\n",
       " 'indian',\n",
       " 'foodie',\n",
       " 'rated',\n",
       " 'rated',\n",
       " 'n',\n",
       " 'been',\n",
       " 'here',\n",
       " 'last',\n",
       " 'week',\n",
       " 'with',\n",
       " 'high',\n",
       " 'expectations',\n",
       " 'based',\n",
       " 'on',\n",
       " 'few',\n",
       " 'reviews',\n",
       " 'but',\n",
       " 'utterly',\n",
       " 'disappointed',\n",
       " 'with',\n",
       " 'the',\n",
       " 'food',\n",
       " 'quality',\n",
       " 'taste',\n",
       " 'i',\n",
       " 'feel',\n",
       " 'it',\n",
       " 's',\n",
       " 'an',\n",
       " 'overhyped',\n",
       " 'place',\n",
       " 'there',\n",
       " 'are',\n",
       " 'many',\n",
       " 'better',\n",
       " 'places',\n",
       " 'in',\n",
       " 'the',\n",
       " 'vicinity',\n",
       " 'for',\n",
       " 'plantain',\n",
       " 'leaf',\n",
       " 'meal',\n",
       " 'there',\n",
       " 'was',\n",
       " 'too',\n",
       " 'much',\n",
       " 'of',\n",
       " 'waiting',\n",
       " 'these',\n",
       " 'staffs',\n",
       " 'were',\n",
       " 'too',\n",
       " 'hurry',\n",
       " 'in',\n",
       " 'serving',\n",
       " 'food',\n",
       " 'asking',\n",
       " 'people',\n",
       " 'to',\n",
       " 'finish',\n",
       " 'meal',\n",
       " 'leave',\n",
       " 'quickly',\n",
       " 'i',\n",
       " 'can',\n",
       " 'understand',\n",
       " 'there',\n",
       " 'is',\n",
       " 'a',\n",
       " 'waiting',\n",
       " 'and',\n",
       " 'staffs',\n",
       " 'should',\n",
       " 'approach',\n",
       " 'in',\n",
       " 'a',\n",
       " 'positive',\n",
       " 'way',\n",
       " 'i',\n",
       " 'will',\n",
       " 'never',\n",
       " 'go',\n",
       " 'there',\n",
       " 'again',\n",
       " 'n',\n",
       " 'nbangaloreepicure',\n",
       " ...]"
      ]
     },
     "execution_count": 28,
     "metadata": {},
     "output_type": "execute_result"
    }
   ],
   "source": [
    "tkn.tokenize(qb_df.reviews_list[3])"
   ]
  },
  {
   "cell_type": "code",
   "execution_count": 29,
   "id": "8eb70d48",
   "metadata": {},
   "outputs": [],
   "source": [
    "sample = data[0:10000]"
   ]
  },
  {
   "cell_type": "code",
   "execution_count": 30,
   "id": "a2b4413b",
   "metadata": {},
   "outputs": [],
   "source": [
    "r_tkn = sample.reviews_list.apply(tkn.tokenize)"
   ]
  },
  {
   "cell_type": "code",
   "execution_count": 31,
   "id": "f7b523f9",
   "metadata": {},
   "outputs": [],
   "source": [
    "r_tkn1 = data.reviews_list.apply(tkn.tokenize)"
   ]
  },
  {
   "cell_type": "markdown",
   "id": "4ff7df34",
   "metadata": {},
   "source": [
    "## UNIGRAM ANALYSIS"
   ]
  },
  {
   "cell_type": "code",
   "execution_count": 32,
   "id": "4e91287d",
   "metadata": {},
   "outputs": [
    {
     "name": "stdout",
     "output_type": "stream",
     "text": [
      "['i', 'me', 'my', 'myself', 'we', 'our', 'ours', 'ourselves', 'you', \"you're\", \"you've\", \"you'll\", \"you'd\", 'your', 'yours', 'yourself', 'yourselves', 'he', 'him', 'his', 'himself', 'she', \"she's\", 'her', 'hers', 'herself', 'it', \"it's\", 'its', 'itself', 'they', 'them', 'their', 'theirs', 'themselves', 'what', 'which', 'who', 'whom', 'this', 'that', \"that'll\", 'these', 'those', 'am', 'is', 'are', 'was', 'were', 'be', 'been', 'being', 'have', 'has', 'had', 'having', 'do', 'does', 'did', 'doing', 'a', 'an', 'the', 'and', 'but', 'if', 'or', 'because', 'as', 'until', 'while', 'of', 'at', 'by', 'for', 'with', 'about', 'against', 'between', 'into', 'through', 'during', 'before', 'after', 'above', 'below', 'to', 'from', 'up', 'down', 'in', 'out', 'on', 'off', 'over', 'under', 'again', 'further', 'then', 'once', 'here', 'there', 'when', 'where', 'why', 'how', 'all', 'any', 'both', 'each', 'few', 'more', 'most', 'other', 'some', 'such', 'no', 'nor', 'not', 'only', 'own', 'same', 'so', 'than', 'too', 'very', 's', 't', 'can', 'will', 'just', 'don', \"don't\", 'should', \"should've\", 'now', 'd', 'll', 'm', 'o', 're', 've', 'y', 'ain', 'aren', \"aren't\", 'couldn', \"couldn't\", 'didn', \"didn't\", 'doesn', \"doesn't\", 'hadn', \"hadn't\", 'hasn', \"hasn't\", 'haven', \"haven't\", 'isn', \"isn't\", 'ma', 'mightn', \"mightn't\", 'mustn', \"mustn't\", 'needn', \"needn't\", 'shan', \"shan't\", 'shouldn', \"shouldn't\", 'wasn', \"wasn't\", 'weren', \"weren't\", 'won', \"won't\", 'wouldn', \"wouldn't\"]\n"
     ]
    }
   ],
   "source": [
    "stop = stopwords.words('english')\n",
    "print(stop)"
   ]
  },
  {
   "cell_type": "code",
   "execution_count": 33,
   "id": "bb440133",
   "metadata": {},
   "outputs": [
    {
     "name": "stdout",
     "output_type": "stream",
     "text": [
      "['i', 'me', 'my', 'myself', 'we', 'our', 'ours', 'ourselves', 'you', \"you're\", \"you've\", \"you'll\", \"you'd\", 'your', 'yours', 'yourself', 'yourselves', 'he', 'him', 'his', 'himself', 'she', \"she's\", 'her', 'hers', 'herself', 'it', \"it's\", 'its', 'itself', 'they', 'them', 'their', 'theirs', 'themselves', 'what', 'which', 'who', 'whom', 'this', 'that', \"that'll\", 'these', 'those', 'am', 'is', 'are', 'was', 'were', 'be', 'been', 'being', 'have', 'has', 'had', 'having', 'do', 'does', 'did', 'doing', 'a', 'an', 'the', 'and', 'but', 'if', 'or', 'because', 'as', 'until', 'while', 'of', 'at', 'by', 'for', 'with', 'about', 'against', 'between', 'into', 'through', 'during', 'before', 'after', 'above', 'below', 'to', 'from', 'up', 'down', 'in', 'out', 'on', 'off', 'over', 'under', 'again', 'further', 'then', 'once', 'here', 'there', 'when', 'where', 'why', 'how', 'all', 'any', 'both', 'each', 'few', 'more', 'most', 'other', 'some', 'such', 'no', 'nor', 'not', 'only', 'own', 'same', 'so', 'than', 'too', 'very', 's', 't', 'can', 'will', 'just', 'don', \"don't\", 'should', \"should've\", 'now', 'd', 'll', 'm', 'o', 're', 've', 'y', 'ain', 'aren', \"aren't\", 'couldn', \"couldn't\", 'didn', \"didn't\", 'doesn', \"doesn't\", 'hadn', \"hadn't\", 'hasn', \"hasn't\", 'haven', \"haven't\", 'isn', \"isn't\", 'ma', 'mightn', \"mightn't\", 'mustn', \"mustn't\", 'needn', \"needn't\", 'shan', \"shan't\", 'shouldn', \"shouldn't\", 'wasn', \"wasn't\", 'weren', \"weren't\", 'won', \"won't\", 'wouldn', \"wouldn't\", 'rated', 'Rated', 'nan', 'RATED', 'x', 'n']\n"
     ]
    }
   ],
   "source": [
    "stop.extend(['rated', 'Rated', 'nan' , 'RATED', 'x', 'n'])\n",
    "print(stop)"
   ]
  },
  {
   "cell_type": "code",
   "execution_count": 34,
   "id": "dfc59874",
   "metadata": {},
   "outputs": [],
   "source": [
    "r3 = r_tkn[3]"
   ]
  },
  {
   "cell_type": "code",
   "execution_count": 35,
   "id": "f5519f9b",
   "metadata": {},
   "outputs": [
    {
     "name": "stdout",
     "output_type": "stream",
     "text": [
      "['Rated', 'RATED', 'n', 'Great', 'food', 'and', 'proper', 'Karnataka', 'style', 'full', 'meals', 'Been', 'there', 'twice', 'and', 'was', 'fully', 'satisfied', 'Will', 'give', 'stars', 'if', 'it', 's', 'well', 'managed', 'Rated', 'RATED', 'n', 'Reached', 'the', 'place', 'at', 'pm', 'on', 'Saturday', 'Half', 'of', 'the', 'items', 'on', 'the', 'menu', 'were', 'over', 'What', 'was', 'annoying', 'was', 'is', 'the', 'food', 'was', 'cold', 'The', 'taste', 'was', 'also', 'very', 'average', 'Only', 'dosa', 'and', 'holige', 'were', 'good', 'There', 'were', 'very', 'few', 'people', 'in', 'the', 'restaurant', 'and', 'the', 'service', 'was', 'still', 'very', 'slow', 'The', 'waiters', 'were', 'all', 'standing', 'in', 'one', 'corner', 'and', 'talking', 'Had', 'to', 'call', 'them', 'repeatedly', 'Rated', 'RATED', 'n', 'Had', 'been', 'here', 'good', 'food', 'served', 'and', 'tasty', 'good', 'place', 'to', 'go', 'with', 'freinds', 'and', 'family', 'should', 'be', 'first', 'to', 'get', 'served', 'well', 'with', 'all', 'food', 'One', 'of', 'the', 'good', 'hotel', 'there', 'for', 'this', 'price', 'Rated', 'RATED', 'n', 'How', 'can', 'a', 'Udupi', 'restaurant', 'be', 'so', 'dirty', 'the', 'floor', 'the', 'walls', 'the', 'waiters', 'are', 'all', 'stained', 'in', 'food', 'Why', 'cant', 'they', 'clean', 'it', 'The', 'floor', 'even', 'had', 'decorative', 'colour', 'paper', 'every', 'where', 'and', 'lot', 'of', 'food', 'Now', 'coming', 'to', 'the', 'taste', 'of', 'the', 'food', 'it', 'was', 'pretty', 'decent', 'for', 'what', 'they', 'chargw', 'What', 'upset', 'us', 'was', 'the', 'menu', 'says', 'they', 'serve', 'thambuli', 'two', 'variety', 'of', 'rice', 'etc', 'but', 'they', 'were', 'all', 'over', 'at', 'but', 'they', 'still', 'charged', 'us', 'full', 'amount', 'Lastly', 'if', 'u', 'r', 'ok', 'to', 'b', 'seated', 'with', 'random', 'people', 'and', 'adjust', 'with', 'their', 'table', 'manners', 'burrping', 'etc', 'then', 'tis', 'place', 'is', 'decent', 'for', 'a', 'quick', 'veg', 'udupi', 'meals', 'Rated', 'RATED', 'n', 'Aadhuri', 'Udupi', 'bhojana', 'is', 'one', 'of', 'the', 'best', 'vegetarian', 'hotel', 'in', 'and', 'around', 'Banashankari', 'locality', 'nwere', 'we', 'can', 'enjoy', 'the', 'authentic', 'south', 'Karnataka', 'style', 'food', 'Rated', 'RATED', 'n', 'One', 'of', 'the', 'best', 'restaurants', 'for', 'unlimited', 'food', 'Price', 'for', 'one', 'full', 'unlimited', 'meal', 'is', 'and', 'the', 'service', 'is', 'awesome', 'here', 'If', 'you', 'x', 'x', 'x', 'x', 'x', 'x', 'x', 'x', 're', 'a', 'costalian', 'you', 'will', 'love', 'the', 'food', 'served', 'here', 'Rated', 'RATED', 'n', 'Been', 'here', 'a', 'couple', 'of', 'times', 'Highly', 'satisfying', 'on', 'both', 'the', 'ocassions', 'Great', 'food', 'Decent', 'service', 'At', 'price', 'of', 'per', 'person', 'it', 'is', 'of', 'a', 'great', 'value', 'The', 'staff', 'here', 'serves', 'in', 'a', 'traditional', 'Mysore', 'style', 'dresses', 'The', 'food', 'is', 'authentic', 'Karnataka', 'meals', 'I', 'really', 'liked', 'the', 'pineapple', 'pickle', 'chutney', 'They', 'serve', 'some', 'varities', 'of', 'rice', 'of', 'which', 'you', 'shouldn', 't', 'try', 'all', 'as', 'you', 'would', 'already', 'be', 'full', 'Roti', 'Dosa', 'were', 'decent', 'In', 'the', 'deserts', 'Payasam', 'Holige', 'were', 'good', 'nI', 'think', 'it', 'is', 'one', 'the', 'must', 'try', 'places', 'to', 'try', 'some', 'authentic', 'south', 'food', 'even', 'if', 'you', 'have', 'been', 'to', 'the', 'likes', 'of', 'Kamath', 'etc', 'this', 'one', 'is', 'a', 'little', 'different', 'Rated', 'RATED', 'n', 'Very', 'good', 'restorent', 'good', 'south', 'Indian', 'food', 'very', 'nice', 'all', 'food', 's', 'are', 'good', 'we', 'spent', 'good', 'time', 'and', 'food', 'in', 'this', 'hotel', 'value', 'of', 'money', 'we', 'loved', 'it', 'Rated', 'RATED', 'n', 'I', 'went', 'to', 'this', 'restaurant', 'on', 'Sunday', 'afternoon', 'It', 'was', 'a', 'bit', 'crowded', 'n', 'nIts', 'located', 'in', 'the', 'st', 'floor', 'Above', 'anna', 'kuteera', 'kathriguppe', 'n', 'nYou', 'need', 'to', 'take', 'food', 'coupon', 'in', 'the', 'ground', 'floor', 'itself', 'nit', 'was', 'rs', 'n', 'nTaste', 'wise', 'it', 'was', 'good', 'nService', 'was', 'slow', 'nNothing', 'exciting', 'different', 'in', 'the', 'menu', 'nWhatever', 'they', 'serve', 'its', 'good', 'nWorth', 'for', 'money', 'Rated', 'RATED', 'n', 'Awesome', 'place', 'worth', 'with', 'price', 'quality', 'quantity', 'service', 'hygiene', 'and', 'discipline', 'I', 'loved', 'it', 'wish', 'there', 'were', 'more', 'rating', 'stars', 'to', 'give', 'I', 'give', 'on', 'for', 'sure', 'Rated', 'RATED', 'n', 'Nice', 'food', 'good', 'ambiance', 'so', 'many', 'verity', 'of', 'food', 'this', 'time', 'i', 'was', 'in', 'hurry', 'so', 'next', 'review', 'will', 'be', 'detailed', 'one', 'Its', 'good', 'to', 'see', 'all', 'dishes', 'at', 'one', 'place', 'Rated', 'RATED', 'n', 'The', 'food', 'was', 'not', 'satisfactory', 'Not', 'one', 'item', 'served', 'could', 'be', 'eaten', 'again', 'Only', 'advantage', 'is', 'the', 'price', 'but', 'even', 'that', 'is', 'not', 'going', 'to', 'be', 'enough', 'to', 'make', 'me', 'visit', 'the', 'place', 'again', 'Dear', 'Udupi', 'staff', 'people', 'wouldn', 'x', 'x', 'x', 'x', 'x', 'x', 'x', 'x', 't', 'mind', 'if', 'the', 'food', 'quality', 'was', 'better', 'for', 'a', 'higher', 'price', 'and', 'please', 'get', 'more', 'fans', 'so', 'that', 'people', 'won', 'x', 'x', 'x', 'x', 'x', 'x', 'x', 'x', 't', 'have', 'to', 'deal', 'with', 'another', 'disappointment', 'of', 'sweating', 'while', 'eating', 'Rated', 'RATED', 'n', 'Excellent', 'quality', 'and', 'taste', 'more', 'variety', 'of', 'authentic', 'south', 'Indian', 'food', 'Excellent', 'service', 'Highly', 'recommended', 'Worth', 'the', 'money', 'we', 'pay', 'here', 'Rated', 'RATED', 'n', 'I', 'm', 'rating', 'only', 'because', 'of', 'the', 'large', 'number', 'of', 'items', 'they', 'serve', 'for', 'the', 'price', 'they', 'charge', 'While', 'the', 'taste', 'is', 'moderate', 'the', 'biggest', 'turn', 'off', 'is', 'the', 'poor', 'service', 'and', 'totally', 'unresponsive', 'staff', 'They', 'are', 'either', 'understaffed', 'or', 'poorly', 'trained', 'I', 'didn', 't', 'get', 'to', 'taste', 'a', 'few', 'items', 'thanks', 'to', 'their', 'ever', 'busy', 'staff', 'and', 'ended', 'eating', 'what', 'was', 'served', 'Please', 'learn', 'the', 'crowd', 'management', 'from', 'other', 'peers', 'like', 'maiyya', 'and', 'roti', 'ghar', 'Rated', 'RATED', 'n', 'One', 'of', 'my', 'colleagues', 'suggested', 'this', 'place', 'Went', 'there', 'at', 'pm', 'and', 'place', 'wasnt', 'crowded', 'Ambience', 'is', 'decent', 'and', 'cool', 'A', 'welcome', 'drink', 'appekai', 'saru', 'was', 'served', 'Then', 'started', 'typical', 'baale', 'yele', 'uta', 'Diffrerent', 'types', 'of', 'palya', 'kosambari', 'and', 'sides', 'Then', 'came', 'masala', 'dosa', 'pulka', 'pulav', 'veg', 'rice', 'bath', 'Masala', 'dosa', 'was', 'very', 'very', 'tasty', 'Service', 'is', 'bit', 'fast', 'as', 'people', 'will', 'be', 'coming', 'but', 'they', 'will', 'make', 'it', 'slow', 'if', 'u', 'tell', 'them', 'to', 'Then', 'comes', 'rice', 'with', 'sambar', 'rasam', 'daal', 'tambali', 'And', 'yes', 'dont', 'forget', 'to', 'eat', 'holige', 'payasam', 'and', 'icecream', 'Service', 'is', 'very', 'nice', 'One', 'best', 'thing', 'is', 'all', 'of', 'this', 'comes', 'in', 'just', 'rs', 'and', 'its', 'unlimited', 'What', 'else', 'you', 'want', 'A', 'must', 'visit', 'place', 'for', 'south', 'indian', 'foodie', 'Rated', 'RATED', 'n', 'Been', 'here', 'last', 'week', 'with', 'high', 'expectations', 'based', 'on', 'few', 'reviews', 'But', 'utterly', 'disappointed', 'with', 'the', 'food', 'quality', 'taste', 'I', 'feel', 'it', 's', 'an', 'overhyped', 'place', 'There', 'are', 'many', 'better', 'places', 'in', 'the', 'vicinity', 'for', 'Plantain', 'leaf', 'meal', 'There', 'was', 'too', 'much', 'of', 'waiting', 'these', 'staffs', 'were', 'too', 'hurry', 'in', 'serving', 'food', 'asking', 'people', 'to', 'finish', 'meal', 'leave', 'quickly', 'I', 'can', 'understand', 'there', 'is', 'a', 'waiting', 'and', 'staffs', 'should', 'approach', 'in', 'a', 'positive', 'way', 'I', 'will', 'never', 'go', 'there', 'again', 'n', 'nbangaloreepicure', 'com', 'Rated', 'RATED', 'n', 'I', 'have', 'a', 'confession', 'being', 'a', 'south', 'Indian', 'I', 'distaste', 'south', 'Indian', 'food', 'not', 'that', 'I', 'hate', 'it', 'I', 'don', 't', 'like', 'it', 'either', 'But', 'still', 'made', 'up', 'my', 'mind', 'on', 'Sankaranti', 'to', 'have', 'authentic', 'south', 'Indian', 'food', 'visited', 'Adduri', 'Udupi', 'Bhojana', 'because', 'it', 'was', 'close', 'to', 'my', 'place', 'I', 'just', 'had', 'a', 'look', 'at', 'the', 'menu', 'told', 'myself', 'that', 'I', 'can', 'do', 'it', 'I', 'am', 'not', 'blessed', 'with', 'a', 'tremendous', 'appetite', 'welcomed', 'with', 'the', 'mango', 'soup', 'followed', 'by', 'the', 'wide', 'variety', 'of', 'dishes', 'served', 'I', 'have', 'developed', 'the', 'new', 'love', 'for', 'Pongal', 'both', 'sweet', 'and', 'Khara', 'I', 'can', 'still', 'feel', 'the', 'taste', 'of', 'the', 'ghee', 'bursting', 'in', 'my', 'mouth', 'but', 'it', 'was', 'kai', 'holige', 'that', 'made', 'my', 'day', 'crisp', 'and', 'soft', 'not', 'to', 'forget', 'food', 'is', 'served', 'on', 'a', 'banana', 'leaf', 'that', 'adds', 'in', 'more', 'flavor', 'and', 'taste', 'waiters', 'are', 'attentive', 'and', 'responsive', 'The', 'customer', 's', 'needs', 'are', 'monitored', 'and', 'addressed', 'so', 'much', 'variety', 'for', 'just', 'Rs', 'without', 'compromising', 'on', 'quantity', 'and', 'quality', 'and', 'yes', 'it', 'is', 'unlimited', 'This', 'visit', 'turned', 'out', 'to', 'be', 'a', 'surprise', 'package', 'Rated', 'RATED', 'n', 'Food', 'is', 'good', 'nNo', 'parking', 'nAmbience', 'is', 'average', 'nOverall', 'its', 'value', 'for', 'money', 'if', 'you', 'looking', 'for', 'south', 'Indian', 'food', 'nPreferred', 'the', 'tiffin', 'items', 'Rated', 'RATED', 'n', 'Been', 'here', 'last', 'week', 'with', 'high', 'expectations', 'based', 'on', 'few', 'reviews', 'But', 'utterly', 'disappointed', 'with', 'the', 'food', 'quality', 'taste', 'I', 'feel', 'it', 's', 'an', 'overhyped', 'place', 'There', 'are', 'many', 'better', 'places', 'in', 'the', 'vicinity', 'for', 'Plantain', 'leaf', 'meal', 'There', 'was', 'too', 'much', 'of', 'waiting', 'these', 'staffs', 'were', 'too', 'hurry', 'in', 'serving', 'food', 'asking', 'people', 'to', 'finish', 'meal', 'leave', 'quickly', 'I', 'can', 'understand', 'there', 'is', 'a', 'waiting', 'and', 'staffs', 'should', 'approach', 'in', 'a', 'positive', 'way', 'I', 'will', 'never', 'go', 'there', 'again', 'n', 'nbangaloreepicure', 'com', 'Rated', 'RATED', 'n', 'I', 'have', 'a', 'confession', 'being', 'a', 'south', 'Indian', 'I', 'distaste', 'south', 'Indian', 'food', 'not', 'that', 'I', 'hate', 'it', 'I', 'don', 't', 'like', 'it', 'either', 'But', 'still', 'made', 'up', 'my', 'mind', 'on', 'Sankaranti', 'to', 'have', 'authentic', 'south', 'Indian', 'food', 'visited', 'Adduri', 'Udupi', 'Bhojana', 'because', 'it', 'was', 'close', 'to', 'my', 'place', 'I', 'just', 'had', 'a', 'look', 'at', 'the', 'menu', 'told', 'myself', 'that', 'I', 'can', 'do', 'it', 'I', 'am', 'not', 'blessed', 'with', 'a', 'tremendous', 'appetite', 'welcomed', 'with', 'the', 'mango', 'soup', 'followed', 'by', 'the', 'wide', 'variety', 'of', 'dishes', 'served', 'I', 'have', 'developed', 'the', 'new', 'love', 'for', 'Pongal', 'both', 'sweet', 'and', 'Khara', 'I', 'can', 'still', 'feel', 'the', 'taste', 'of', 'the', 'ghee', 'bursting', 'in', 'my', 'mouth', 'but', 'it', 'was', 'kai', 'holige', 'that', 'made', 'my', 'day', 'crisp', 'and', 'soft', 'not', 'to', 'forget', 'food', 'is', 'served', 'on', 'a', 'banana', 'leaf', 'that', 'adds', 'in', 'more', 'flavor', 'and', 'taste', 'waiters', 'are', 'attentive', 'and', 'responsive', 'The', 'customer', 's', 'needs', 'are', 'monitored', 'and', 'addressed', 'so', 'much', 'variety', 'for', 'just', 'Rs', 'without', 'compromising', 'on', 'quantity', 'and', 'quality', 'and', 'yes', 'it', 'is', 'unlimited', 'This', 'visit', 'turned', 'out', 'to', 'be', 'a', 'surprise', 'package', 'Rated', 'RATED', 'n', 'Food', 'is', 'good', 'nNo', 'parking', 'nAmbience', 'is', 'average', 'nOverall', 'its', 'value', 'for', 'money', 'if', 'you', 'looking', 'for', 'south', 'Indian', 'food', 'nPreferred', 'the', 'tiffin', 'items', 'Rated', 'RATED', 'n', 'Been', 'here', 'last', 'week', 'with', 'high', 'expectations', 'based', 'on', 'few', 'reviews', 'But', 'utterly', 'disappointed', 'with', 'the', 'food', 'quality', 'taste', 'I', 'feel', 'it', 's', 'an', 'overhyped', 'place', 'There', 'are', 'many', 'better', 'places', 'in', 'the', 'vicinity', 'for', 'Plantain', 'leaf', 'meal', 'There', 'was', 'too', 'much', 'of', 'waiting', 'these', 'staffs', 'were', 'too', 'hurry', 'in', 'serving', 'food', 'asking', 'people', 'to', 'finish', 'meal', 'leave', 'quickly', 'I', 'can', 'understand', 'there', 'is', 'a', 'waiting', 'and', 'staffs', 'should', 'approach', 'in', 'a', 'positive', 'way', 'I', 'will', 'never', 'go', 'there', 'again', 'n', 'nbangaloreepicure', 'com', 'Rated', 'RATED', 'n', 'I', 'have', 'a', 'confession', 'being', 'a', 'south', 'Indian', 'I', 'distaste', 'south', 'Indian', 'food', 'not', 'that', 'I', 'hate', 'it', 'I', 'don', 't', 'like', 'it', 'either', 'But', 'still', 'made', 'up', 'my', 'mind', 'on', 'Sankaranti', 'to', 'have', 'authentic', 'south', 'Indian', 'food', 'visited', 'Adduri', 'Udupi', 'Bhojana', 'because', 'it', 'was', 'close', 'to', 'my', 'place', 'I', 'just', 'had', 'a', 'look', 'at', 'the', 'menu', 'told', 'myself', 'that', 'I', 'can', 'do', 'it', 'I', 'am', 'not', 'blessed', 'with', 'a', 'tremendous', 'appetite', 'welcomed', 'with', 'the', 'mango', 'soup', 'followed', 'by', 'the', 'wide', 'variety', 'of', 'dishes', 'served', 'I', 'have', 'developed', 'the', 'new', 'love', 'for', 'Pongal', 'both', 'sweet', 'and', 'Khara', 'I', 'can', 'still', 'feel', 'the', 'taste', 'of', 'the', 'ghee', 'bursting', 'in', 'my', 'mouth', 'but', 'it', 'was', 'kai', 'holige', 'that', 'made', 'my', 'day', 'crisp', 'and', 'soft', 'not', 'to', 'forget', 'food', 'is', 'served', 'on', 'a', 'banana', 'leaf', 'that', 'adds', 'in', 'more', 'flavor', 'and', 'taste', 'waiters', 'are', 'attentive', 'and', 'responsive', 'The', 'customer', 's', 'needs', 'are', 'monitored', 'and', 'addressed', 'so', 'much', 'variety', 'for', 'just', 'Rs', 'without', 'compromising', 'on', 'quantity', 'and', 'quality', 'and', 'yes', 'it', 'is', 'unlimited', 'This', 'visit', 'turned', 'out', 'to', 'be', 'a', 'surprise', 'package', 'Rated', 'RATED', 'n', 'Food', 'is', 'good', 'nNo', 'parking', 'nAmbience', 'is', 'average', 'nOverall', 'its', 'value', 'for', 'money', 'if', 'you', 'looking', 'for', 'south', 'Indian', 'food', 'nPreferred', 'the', 'tiffin', 'items', 'Rated', 'RATED', 'n', 'Been', 'here', 'last', 'week', 'with', 'high', 'expectations', 'based', 'on', 'few', 'reviews', 'But', 'utterly', 'disappointed', 'with', 'the', 'food', 'quality', 'taste', 'I', 'feel', 'it', 's', 'an', 'overhyped', 'place', 'There', 'are', 'many', 'better', 'places', 'in', 'the', 'vicinity', 'for', 'Plantain', 'leaf', 'meal', 'There', 'was', 'too', 'much', 'of', 'waiting', 'these', 'staffs', 'were', 'too', 'hurry', 'in', 'serving', 'food', 'asking', 'people', 'to', 'finish', 'meal', 'leave', 'quickly', 'I', 'can', 'understand', 'there', 'is', 'a', 'waiting', 'and', 'staffs', 'should', 'approach', 'in', 'a', 'positive', 'way', 'I', 'will', 'never', 'go', 'there', 'again', 'n', 'nbangaloreepicure', 'com', 'Rated', 'RATED', 'n', 'I', 'have', 'a', 'confession', 'being', 'a', 'south', 'Indian', 'I', 'distaste', 'south', 'Indian', 'food', 'not', 'that', 'I', 'hate', 'it', 'I', 'don', 't', 'like', 'it', 'either', 'But', 'still', 'made', 'up', 'my', 'mind', 'on', 'Sankaranti', 'to', 'have', 'authentic', 'south', 'Indian', 'food', 'visited', 'Adduri', 'Udupi', 'Bhojana', 'because', 'it', 'was', 'close', 'to', 'my', 'place', 'I', 'just', 'had', 'a', 'look', 'at', 'the', 'menu', 'told', 'myself', 'that', 'I', 'can', 'do', 'it', 'I', 'am', 'not', 'blessed', 'with', 'a', 'tremendous', 'appetite', 'welcomed', 'with', 'the', 'mango', 'soup', 'followed', 'by', 'the', 'wide', 'variety', 'of', 'dishes', 'served', 'I', 'have', 'developed', 'the', 'new', 'love', 'for', 'Pongal', 'both', 'sweet', 'and', 'Khara', 'I', 'can', 'still', 'feel', 'the', 'taste', 'of', 'the', 'ghee', 'bursting', 'in', 'my', 'mouth', 'but', 'it', 'was', 'kai', 'holige', 'that', 'made', 'my', 'day', 'crisp', 'and', 'soft', 'not', 'to', 'forget', 'food', 'is', 'served', 'on', 'a', 'banana', 'leaf', 'that', 'adds', 'in', 'more', 'flavor', 'and', 'taste', 'waiters', 'are', 'attentive', 'and', 'responsive', 'The', 'customer', 's', 'needs', 'are', 'monitored', 'and', 'addressed', 'so', 'much', 'variety', 'for', 'just', 'Rs', 'without', 'compromising', 'on', 'quantity', 'and', 'quality', 'and', 'yes', 'it', 'is', 'unlimited', 'This', 'visit', 'turned', 'out', 'to', 'be', 'a', 'surprise', 'package', 'Rated', 'RATED', 'n', 'Food', 'is', 'good', 'nNo', 'parking', 'nAmbience', 'is', 'average', 'nOverall', 'its', 'value', 'for', 'money', 'if', 'you', 'looking', 'for', 'south', 'Indian', 'food', 'nPreferred', 'the', 'tiffin', 'items', 'Rated', 'RATED', 'n', 'Been', 'here', 'last', 'week', 'with', 'high', 'expectations', 'based', 'on', 'few', 'reviews', 'But', 'utterly', 'disappointed', 'with', 'the', 'food', 'quality', 'taste', 'I', 'feel', 'it', 's', 'an', 'overhyped', 'place', 'There', 'are', 'many', 'better', 'places', 'in', 'the', 'vicinity', 'for', 'Plantain', 'leaf', 'meal', 'There', 'was', 'too', 'much', 'of', 'waiting', 'these', 'staffs', 'were', 'too', 'hurry', 'in', 'serving', 'food', 'asking', 'people', 'to', 'finish', 'meal', 'leave', 'quickly', 'I', 'can', 'understand', 'there', 'is', 'a', 'waiting', 'and', 'staffs', 'should', 'approach', 'in', 'a', 'positive', 'way', 'I', 'will', 'never', 'go', 'there', 'again', 'n', 'nbangaloreepicure', 'com', 'Rated', 'RATED', 'n', 'I', 'have', 'a', 'confession', 'being', 'a', 'south', 'Indian', 'I', 'distaste', 'south', 'Indian', 'food', 'not', 'that', 'I', 'hate', 'it', 'I', 'don', 't', 'like', 'it', 'either', 'But', 'still', 'made', 'up', 'my', 'mind', 'on', 'Sankaranti', 'to', 'have', 'authentic', 'south', 'Indian', 'food', 'visited', 'Adduri', 'Udupi', 'Bhojana', 'because', 'it', 'was', 'close', 'to', 'my', 'place', 'I', 'just', 'had', 'a', 'look', 'at', 'the', 'menu', 'told', 'myself', 'that', 'I', 'can', 'do', 'it', 'I', 'am', 'not', 'blessed', 'with', 'a', 'tremendous', 'appetite', 'welcomed', 'with', 'the', 'mango', 'soup', 'followed', 'by', 'the', 'wide', 'variety', 'of', 'dishes', 'served', 'I', 'have', 'developed', 'the', 'new', 'love', 'for', 'Pongal', 'both', 'sweet', 'and', 'Khara', 'I', 'can', 'still', 'feel', 'the', 'taste', 'of', 'the', 'ghee', 'bursting', 'in', 'my', 'mouth', 'but', 'it', 'was', 'kai', 'holige', 'that', 'made', 'my', 'day', 'crisp', 'and', 'soft', 'not', 'to', 'forget', 'food', 'is', 'served', 'on', 'a', 'banana', 'leaf', 'that', 'adds', 'in', 'more', 'flavor', 'and', 'taste', 'waiters', 'are', 'attentive', 'and', 'responsive', 'The', 'customer', 's', 'needs', 'are', 'monitored', 'and', 'addressed', 'so', 'much', 'variety', 'for', 'just', 'Rs', 'without', 'compromising', 'on', 'quantity', 'and', 'quality', 'and', 'yes', 'it', 'is', 'unlimited', 'This', 'visit', 'turned', 'out', 'to', 'be', 'a', 'surprise', 'package', 'Rated', 'RATED', 'n', 'Food', 'is', 'good', 'nNo', 'parking', 'nAmbience', 'is', 'average', 'nOverall', 'its', 'value', 'for', 'money', 'if', 'you', 'looking', 'for', 'south', 'Indian', 'food', 'nPreferred', 'the', 'tiffin', 'items', 'Rated', 'RATED', 'n', 'Had', 'been', 'on', 'a', 'week', 'night', 'for', 'an', 'authentic', 'south', 'Indian', 'food', 'I', 'personally', 'love', 'being', 'served', 'on', 'banyan', 'leaf', 'The', 'waiters', 'are', 'all', 'dressed', 'up', 'in', 'traditional', 'Mysore', 'attire', 'wearing', 'with', 'a', 'peta', 'The', 'food', 'was', 'delicious', 'and', 'definitely', 'worth', 'it', 's', 'price', 'The', 'waiters', 'are', 'friendly', 'and', 'serve', 'u', 'well', 'with', 'a', 'smile', 'The', 'food', 'is', 'prepared', 'without', 'garlic', 'which', 'is', 'a', 'plus', 'point', 'attracting', 'many', 'senior', 'customers', 'Rated', 'RATED', 'n', 'Food', 'is', 'good', 'and', 'enjoyed', 'With', 'Rs', 'is', 'very', 'nice', 'nNote', 'It', 'happen', 'with', 'us', 'n', 'If', 'you', 'going', 'TWO', 'people', 'you', 'may', 'need', 'to', 'share', 'the', 'table', 'there', 'Its', 'almost', 'crowed', 'n', 'You', 'have', 'to', 'sit', 'where', 'they', 'ask', 'you', 'can', 't', 'choose', 'even', 'if', 'all', 'the', 'table', 'are', 'empty', 'nJust', 'wait', 'eat', 'and', 'come', 'back', 'Rated', 'RATED', 'n', 'Excellent', 'Ambience', 'with', 'delicious', 'meals', 'with', 'variety', 'types', 'Worth', 'paying', 'for', 'money', 'and', 'you', 'can', 'dine', 'out', 'if', 'you', 'are', 'with', 'more', 'friends', 'relatives', 'in', 'home', 'Rated', 'RATED', 'n', 'Very', 'good', 'and', 'Unlimited', 'especially', 'masala', 'dosa', 'Service', 'and', 'ambience', 'was', 'also', 'good', 'will', 'visit', 'again', 'with', 'friends', 'very', 'very', 'reasonble', 'and', 'wholesome', 'food', 'Rated', 'RATED', 'n', 'Aaaa', 'wt', 'to', 'tell', 'Unlimited', 'food', 'food', 'was', 'like', 'exactly', 'like', 'south', 'indian', 'marriage', 'food', 'soups', 'sides', 'masala', 'dosa', 'all', 'were', 'unlimited', 'for', 'just', 'except', 'ice', 'cream', 'in', 'the', 'end', 'they', 'give', 'a', 'water', 'bottle', 'and', 'main', 'thing', 'is', 'have', 'patience', 'to', 'get', 'place', 'to', 'sit', 'there', 'is', 'no', 'parking', 'place', 'of', 'this', 'outlet', 'and', 'difficult', 'to', 'park', 'in', 'front', 'of', 'the', 'restaurants']\n"
     ]
    }
   ],
   "source": [
    "print(r3)"
   ]
  },
  {
   "cell_type": "code",
   "execution_count": 36,
   "id": "1e2b7d82",
   "metadata": {},
   "outputs": [
    {
     "name": "stdout",
     "output_type": "stream",
     "text": [
      "['Great', 'food', 'proper', 'Karnataka', 'style', 'full', 'meals', 'Been', 'twice', 'fully', 'satisfied', 'Will', 'give', 'stars', 'well', 'managed', 'Reached', 'place', 'pm', 'Saturday', 'Half', 'items', 'menu', 'What', 'annoying', 'food', 'cold', 'The', 'taste', 'also', 'average', 'Only', 'dosa', 'holige', 'good', 'There', 'people', 'restaurant', 'service', 'still', 'slow', 'The', 'waiters', 'standing', 'one', 'corner', 'talking', 'Had', 'call', 'repeatedly', 'Had', 'good', 'food', 'served', 'tasty', 'good', 'place', 'go', 'freinds', 'family', 'first', 'get', 'served', 'well', 'food', 'One', 'good', 'hotel', 'price', 'How', 'Udupi', 'restaurant', 'dirty', 'floor', 'walls', 'waiters', 'stained', 'food', 'Why', 'cant', 'clean', 'The', 'floor', 'even', 'decorative', 'colour', 'paper', 'every', 'lot', 'food', 'Now', 'coming', 'taste', 'food', 'pretty', 'decent', 'chargw', 'What', 'upset', 'us', 'menu', 'says', 'serve', 'thambuli', 'two', 'variety', 'rice', 'etc', 'still', 'charged', 'us', 'full', 'amount', 'Lastly', 'u', 'r', 'ok', 'b', 'seated', 'random', 'people', 'adjust', 'table', 'manners', 'burrping', 'etc', 'tis', 'place', 'decent', 'quick', 'veg', 'udupi', 'meals', 'Aadhuri', 'Udupi', 'bhojana', 'one', 'best', 'vegetarian', 'hotel', 'around', 'Banashankari', 'locality', 'nwere', 'enjoy', 'authentic', 'south', 'Karnataka', 'style', 'food', 'One', 'best', 'restaurants', 'unlimited', 'food', 'Price', 'one', 'full', 'unlimited', 'meal', 'service', 'awesome', 'If', 'costalian', 'love', 'food', 'served', 'Been', 'couple', 'times', 'Highly', 'satisfying', 'ocassions', 'Great', 'food', 'Decent', 'service', 'At', 'price', 'per', 'person', 'great', 'value', 'The', 'staff', 'serves', 'traditional', 'Mysore', 'style', 'dresses', 'The', 'food', 'authentic', 'Karnataka', 'meals', 'I', 'really', 'liked', 'pineapple', 'pickle', 'chutney', 'They', 'serve', 'varities', 'rice', 'try', 'would', 'already', 'full', 'Roti', 'Dosa', 'decent', 'In', 'deserts', 'Payasam', 'Holige', 'good', 'nI', 'think', 'one', 'must', 'try', 'places', 'try', 'authentic', 'south', 'food', 'even', 'likes', 'Kamath', 'etc', 'one', 'little', 'different', 'Very', 'good', 'restorent', 'good', 'south', 'Indian', 'food', 'nice', 'food', 'good', 'spent', 'good', 'time', 'food', 'hotel', 'value', 'money', 'loved', 'I', 'went', 'restaurant', 'Sunday', 'afternoon', 'It', 'bit', 'crowded', 'nIts', 'located', 'st', 'floor', 'Above', 'anna', 'kuteera', 'kathriguppe', 'nYou', 'need', 'take', 'food', 'coupon', 'ground', 'floor', 'nit', 'rs', 'nTaste', 'wise', 'good', 'nService', 'slow', 'nNothing', 'exciting', 'different', 'menu', 'nWhatever', 'serve', 'good', 'nWorth', 'money', 'Awesome', 'place', 'worth', 'price', 'quality', 'quantity', 'service', 'hygiene', 'discipline', 'I', 'loved', 'wish', 'rating', 'stars', 'give', 'I', 'give', 'sure', 'Nice', 'food', 'good', 'ambiance', 'many', 'verity', 'food', 'time', 'hurry', 'next', 'review', 'detailed', 'one', 'Its', 'good', 'see', 'dishes', 'one', 'place', 'The', 'food', 'satisfactory', 'Not', 'one', 'item', 'served', 'could', 'eaten', 'Only', 'advantage', 'price', 'even', 'going', 'enough', 'make', 'visit', 'place', 'Dear', 'Udupi', 'staff', 'people', 'mind', 'food', 'quality', 'better', 'higher', 'price', 'please', 'get', 'fans', 'people', 'deal', 'another', 'disappointment', 'sweating', 'eating', 'Excellent', 'quality', 'taste', 'variety', 'authentic', 'south', 'Indian', 'food', 'Excellent', 'service', 'Highly', 'recommended', 'Worth', 'money', 'pay', 'I', 'rating', 'large', 'number', 'items', 'serve', 'price', 'charge', 'While', 'taste', 'moderate', 'biggest', 'turn', 'poor', 'service', 'totally', 'unresponsive', 'staff', 'They', 'either', 'understaffed', 'poorly', 'trained', 'I', 'get', 'taste', 'items', 'thanks', 'ever', 'busy', 'staff', 'ended', 'eating', 'served', 'Please', 'learn', 'crowd', 'management', 'peers', 'like', 'maiyya', 'roti', 'ghar', 'One', 'colleagues', 'suggested', 'place', 'Went', 'pm', 'place', 'wasnt', 'crowded', 'Ambience', 'decent', 'cool', 'A', 'welcome', 'drink', 'appekai', 'saru', 'served', 'Then', 'started', 'typical', 'baale', 'yele', 'uta', 'Diffrerent', 'types', 'palya', 'kosambari', 'sides', 'Then', 'came', 'masala', 'dosa', 'pulka', 'pulav', 'veg', 'rice', 'bath', 'Masala', 'dosa', 'tasty', 'Service', 'bit', 'fast', 'people', 'coming', 'make', 'slow', 'u', 'tell', 'Then', 'comes', 'rice', 'sambar', 'rasam', 'daal', 'tambali', 'And', 'yes', 'dont', 'forget', 'eat', 'holige', 'payasam', 'icecream', 'Service', 'nice', 'One', 'best', 'thing', 'comes', 'rs', 'unlimited', 'What', 'else', 'want', 'A', 'must', 'visit', 'place', 'south', 'indian', 'foodie', 'Been', 'last', 'week', 'high', 'expectations', 'based', 'reviews', 'But', 'utterly', 'disappointed', 'food', 'quality', 'taste', 'I', 'feel', 'overhyped', 'place', 'There', 'many', 'better', 'places', 'vicinity', 'Plantain', 'leaf', 'meal', 'There', 'much', 'waiting', 'staffs', 'hurry', 'serving', 'food', 'asking', 'people', 'finish', 'meal', 'leave', 'quickly', 'I', 'understand', 'waiting', 'staffs', 'approach', 'positive', 'way', 'I', 'never', 'go', 'nbangaloreepicure', 'com', 'I', 'confession', 'south', 'Indian', 'I', 'distaste', 'south', 'Indian', 'food', 'I', 'hate', 'I', 'like', 'either', 'But', 'still', 'made', 'mind', 'Sankaranti', 'authentic', 'south', 'Indian', 'food', 'visited', 'Adduri', 'Udupi', 'Bhojana', 'close', 'place', 'I', 'look', 'menu', 'told', 'I', 'I', 'blessed', 'tremendous', 'appetite', 'welcomed', 'mango', 'soup', 'followed', 'wide', 'variety', 'dishes', 'served', 'I', 'developed', 'new', 'love', 'Pongal', 'sweet', 'Khara', 'I', 'still', 'feel', 'taste', 'ghee', 'bursting', 'mouth', 'kai', 'holige', 'made', 'day', 'crisp', 'soft', 'forget', 'food', 'served', 'banana', 'leaf', 'adds', 'flavor', 'taste', 'waiters', 'attentive', 'responsive', 'The', 'customer', 'needs', 'monitored', 'addressed', 'much', 'variety', 'Rs', 'without', 'compromising', 'quantity', 'quality', 'yes', 'unlimited', 'This', 'visit', 'turned', 'surprise', 'package', 'Food', 'good', 'nNo', 'parking', 'nAmbience', 'average', 'nOverall', 'value', 'money', 'looking', 'south', 'Indian', 'food', 'nPreferred', 'tiffin', 'items', 'Been', 'last', 'week', 'high', 'expectations', 'based', 'reviews', 'But', 'utterly', 'disappointed', 'food', 'quality', 'taste', 'I', 'feel', 'overhyped', 'place', 'There', 'many', 'better', 'places', 'vicinity', 'Plantain', 'leaf', 'meal', 'There', 'much', 'waiting', 'staffs', 'hurry', 'serving', 'food', 'asking', 'people', 'finish', 'meal', 'leave', 'quickly', 'I', 'understand', 'waiting', 'staffs', 'approach', 'positive', 'way', 'I', 'never', 'go', 'nbangaloreepicure', 'com', 'I', 'confession', 'south', 'Indian', 'I', 'distaste', 'south', 'Indian', 'food', 'I', 'hate', 'I', 'like', 'either', 'But', 'still', 'made', 'mind', 'Sankaranti', 'authentic', 'south', 'Indian', 'food', 'visited', 'Adduri', 'Udupi', 'Bhojana', 'close', 'place', 'I', 'look', 'menu', 'told', 'I', 'I', 'blessed', 'tremendous', 'appetite', 'welcomed', 'mango', 'soup', 'followed', 'wide', 'variety', 'dishes', 'served', 'I', 'developed', 'new', 'love', 'Pongal', 'sweet', 'Khara', 'I', 'still', 'feel', 'taste', 'ghee', 'bursting', 'mouth', 'kai', 'holige', 'made', 'day', 'crisp', 'soft', 'forget', 'food', 'served', 'banana', 'leaf', 'adds', 'flavor', 'taste', 'waiters', 'attentive', 'responsive', 'The', 'customer', 'needs', 'monitored', 'addressed', 'much', 'variety', 'Rs', 'without', 'compromising', 'quantity', 'quality', 'yes', 'unlimited', 'This', 'visit', 'turned', 'surprise', 'package', 'Food', 'good', 'nNo', 'parking', 'nAmbience', 'average', 'nOverall', 'value', 'money', 'looking', 'south', 'Indian', 'food', 'nPreferred', 'tiffin', 'items', 'Been', 'last', 'week', 'high', 'expectations', 'based', 'reviews', 'But', 'utterly', 'disappointed', 'food', 'quality', 'taste', 'I', 'feel', 'overhyped', 'place', 'There', 'many', 'better', 'places', 'vicinity', 'Plantain', 'leaf', 'meal', 'There', 'much', 'waiting', 'staffs', 'hurry', 'serving', 'food', 'asking', 'people', 'finish', 'meal', 'leave', 'quickly', 'I', 'understand', 'waiting', 'staffs', 'approach', 'positive', 'way', 'I', 'never', 'go', 'nbangaloreepicure', 'com', 'I', 'confession', 'south', 'Indian', 'I', 'distaste', 'south', 'Indian', 'food', 'I', 'hate', 'I', 'like', 'either', 'But', 'still', 'made', 'mind', 'Sankaranti', 'authentic', 'south', 'Indian', 'food', 'visited', 'Adduri', 'Udupi', 'Bhojana', 'close', 'place', 'I', 'look', 'menu', 'told', 'I', 'I', 'blessed', 'tremendous', 'appetite', 'welcomed', 'mango', 'soup', 'followed', 'wide', 'variety', 'dishes', 'served', 'I', 'developed', 'new', 'love', 'Pongal', 'sweet', 'Khara', 'I', 'still', 'feel', 'taste', 'ghee', 'bursting', 'mouth', 'kai', 'holige', 'made', 'day', 'crisp', 'soft', 'forget', 'food', 'served', 'banana', 'leaf', 'adds', 'flavor', 'taste', 'waiters', 'attentive', 'responsive', 'The', 'customer', 'needs', 'monitored', 'addressed', 'much', 'variety', 'Rs', 'without', 'compromising', 'quantity', 'quality', 'yes', 'unlimited', 'This', 'visit', 'turned', 'surprise', 'package', 'Food', 'good', 'nNo', 'parking', 'nAmbience', 'average', 'nOverall', 'value', 'money', 'looking', 'south', 'Indian', 'food', 'nPreferred', 'tiffin', 'items', 'Been', 'last', 'week', 'high', 'expectations', 'based', 'reviews', 'But', 'utterly', 'disappointed', 'food', 'quality', 'taste', 'I', 'feel', 'overhyped', 'place', 'There', 'many', 'better', 'places', 'vicinity', 'Plantain', 'leaf', 'meal', 'There', 'much', 'waiting', 'staffs', 'hurry', 'serving', 'food', 'asking', 'people', 'finish', 'meal', 'leave', 'quickly', 'I', 'understand', 'waiting', 'staffs', 'approach', 'positive', 'way', 'I', 'never', 'go', 'nbangaloreepicure', 'com', 'I', 'confession', 'south', 'Indian', 'I', 'distaste', 'south', 'Indian', 'food', 'I', 'hate', 'I', 'like', 'either', 'But', 'still', 'made', 'mind', 'Sankaranti', 'authentic', 'south', 'Indian', 'food', 'visited', 'Adduri', 'Udupi', 'Bhojana', 'close', 'place', 'I', 'look', 'menu', 'told', 'I', 'I', 'blessed', 'tremendous', 'appetite', 'welcomed', 'mango', 'soup', 'followed', 'wide', 'variety', 'dishes', 'served', 'I', 'developed', 'new', 'love', 'Pongal', 'sweet', 'Khara', 'I', 'still', 'feel', 'taste', 'ghee', 'bursting', 'mouth', 'kai', 'holige', 'made', 'day', 'crisp', 'soft', 'forget', 'food', 'served', 'banana', 'leaf', 'adds', 'flavor', 'taste', 'waiters', 'attentive', 'responsive', 'The', 'customer', 'needs', 'monitored', 'addressed', 'much', 'variety', 'Rs', 'without', 'compromising', 'quantity', 'quality', 'yes', 'unlimited', 'This', 'visit', 'turned', 'surprise', 'package', 'Food', 'good', 'nNo', 'parking', 'nAmbience', 'average', 'nOverall', 'value', 'money', 'looking', 'south', 'Indian', 'food', 'nPreferred', 'tiffin', 'items', 'Been', 'last', 'week', 'high', 'expectations', 'based', 'reviews', 'But', 'utterly', 'disappointed', 'food', 'quality', 'taste', 'I', 'feel', 'overhyped', 'place', 'There', 'many', 'better', 'places', 'vicinity', 'Plantain', 'leaf', 'meal', 'There', 'much', 'waiting', 'staffs', 'hurry', 'serving', 'food', 'asking', 'people', 'finish', 'meal', 'leave', 'quickly', 'I', 'understand', 'waiting', 'staffs', 'approach', 'positive', 'way', 'I', 'never', 'go', 'nbangaloreepicure', 'com', 'I', 'confession', 'south', 'Indian', 'I', 'distaste', 'south', 'Indian', 'food', 'I', 'hate', 'I', 'like', 'either', 'But', 'still', 'made', 'mind', 'Sankaranti', 'authentic', 'south', 'Indian', 'food', 'visited', 'Adduri', 'Udupi', 'Bhojana', 'close', 'place', 'I', 'look', 'menu', 'told', 'I', 'I', 'blessed', 'tremendous', 'appetite', 'welcomed', 'mango', 'soup', 'followed', 'wide', 'variety', 'dishes', 'served', 'I', 'developed', 'new', 'love', 'Pongal', 'sweet', 'Khara', 'I', 'still', 'feel', 'taste', 'ghee', 'bursting', 'mouth', 'kai', 'holige', 'made', 'day', 'crisp', 'soft', 'forget', 'food', 'served', 'banana', 'leaf', 'adds', 'flavor', 'taste', 'waiters', 'attentive', 'responsive', 'The', 'customer', 'needs', 'monitored', 'addressed', 'much', 'variety', 'Rs', 'without', 'compromising', 'quantity', 'quality', 'yes', 'unlimited', 'This', 'visit', 'turned', 'surprise', 'package', 'Food', 'good', 'nNo', 'parking', 'nAmbience', 'average', 'nOverall', 'value', 'money', 'looking', 'south', 'Indian', 'food', 'nPreferred', 'tiffin', 'items', 'Had', 'week', 'night', 'authentic', 'south', 'Indian', 'food', 'I', 'personally', 'love', 'served', 'banyan', 'leaf', 'The', 'waiters', 'dressed', 'traditional', 'Mysore', 'attire', 'wearing', 'peta', 'The', 'food', 'delicious', 'definitely', 'worth', 'price', 'The', 'waiters', 'friendly', 'serve', 'u', 'well', 'smile', 'The', 'food', 'prepared', 'without', 'garlic', 'plus', 'point', 'attracting', 'many', 'senior', 'customers', 'Food', 'good', 'enjoyed', 'With', 'Rs', 'nice', 'nNote', 'It', 'happen', 'us', 'If', 'going', 'TWO', 'people', 'may', 'need', 'share', 'table', 'Its', 'almost', 'crowed', 'You', 'sit', 'ask', 'choose', 'even', 'table', 'empty', 'nJust', 'wait', 'eat', 'come', 'back', 'Excellent', 'Ambience', 'delicious', 'meals', 'variety', 'types', 'Worth', 'paying', 'money', 'dine', 'friends', 'relatives', 'home', 'Very', 'good', 'Unlimited', 'especially', 'masala', 'dosa', 'Service', 'ambience', 'also', 'good', 'visit', 'friends', 'reasonble', 'wholesome', 'food', 'Aaaa', 'wt', 'tell', 'Unlimited', 'food', 'food', 'like', 'exactly', 'like', 'south', 'indian', 'marriage', 'food', 'soups', 'sides', 'masala', 'dosa', 'unlimited', 'except', 'ice', 'cream', 'end', 'give', 'water', 'bottle', 'main', 'thing', 'patience', 'get', 'place', 'sit', 'parking', 'place', 'outlet', 'difficult', 'park', 'front', 'restaurants']\n"
     ]
    }
   ],
   "source": [
    "print([token for token in r3 if token not in stop])"
   ]
  },
  {
   "cell_type": "code",
   "execution_count": 37,
   "id": "c6e974e6",
   "metadata": {},
   "outputs": [],
   "source": [
    "r_tkn_clean1 = r_tkn.apply(lambda each_review : [token for token in each_review if token not in stop])"
   ]
  },
  {
   "cell_type": "code",
   "execution_count": 38,
   "id": "f7ee9982",
   "metadata": {},
   "outputs": [
    {
     "data": {
      "text/plain": [
       "0        [A, beautiful, place, dine, The, interiors, ta...\n",
       "1        [Had, dinner, family, Turned, good, choose, su...\n",
       "2        [Ambience, good, enough, pocket, friendly, caf...\n",
       "3        [Great, food, proper, Karnataka, style, full, ...\n",
       "4        [Very, good, restaurant, neighbourhood, Buffet...\n",
       "                               ...                        \n",
       "10046    [A, simplistic, joy, local, biryani, lovers, n...\n",
       "10047                                               [Good]\n",
       "10048    [Vry, gud, taste, something, different, must, ...\n",
       "10049                                                   []\n",
       "10050                                                   []\n",
       "Name: reviews_list, Length: 10000, dtype: object"
      ]
     },
     "execution_count": 38,
     "metadata": {},
     "output_type": "execute_result"
    }
   ],
   "source": [
    "r_tkn_clean1"
   ]
  },
  {
   "cell_type": "code",
   "execution_count": 39,
   "id": "e4660585",
   "metadata": {},
   "outputs": [
    {
     "data": {
      "text/plain": [
       "pandas.core.series.Series"
      ]
     },
     "execution_count": 39,
     "metadata": {},
     "output_type": "execute_result"
    }
   ],
   "source": [
    "type(r_tkn_clean1)"
   ]
  },
  {
   "cell_type": "code",
   "execution_count": 40,
   "id": "61dbf79e",
   "metadata": {},
   "outputs": [],
   "source": [
    "t_r_2D = list(r_tkn_clean1)"
   ]
  },
  {
   "cell_type": "code",
   "execution_count": 41,
   "metadata": {},
   "outputs": [],
   "source": [
    "t_r_1D = []\n",
    "\n",
    "for r in t_r_2D:\n",
    "    for word in r:\n",
    "        t_r_1D.append(word)"
   ]
  },
  {
   "cell_type": "code",
   "execution_count": 42,
   "id": "3dd20530",
   "metadata": {},
   "outputs": [
    {
     "data": {
      "text/plain": [
       "['A',\n",
       " 'beautiful',\n",
       " 'place',\n",
       " 'dine',\n",
       " 'The',\n",
       " 'interiors',\n",
       " 'take',\n",
       " 'back',\n",
       " 'Mughal',\n",
       " 'era',\n",
       " 'The',\n",
       " 'lightings',\n",
       " 'perfect',\n",
       " 'We',\n",
       " 'went',\n",
       " 'occasion',\n",
       " 'Christmas',\n",
       " 'limited',\n",
       " 'items',\n",
       " 'available',\n",
       " 'But',\n",
       " 'taste',\n",
       " 'service',\n",
       " 'compromised',\n",
       " 'The',\n",
       " 'complaint',\n",
       " 'breads',\n",
       " 'could',\n",
       " 'better',\n",
       " 'Would',\n",
       " 'surely',\n",
       " 'like',\n",
       " 'come',\n",
       " 'I',\n",
       " 'dinner',\n",
       " 'family',\n",
       " 'weekday',\n",
       " 'The',\n",
       " 'restaurant',\n",
       " 'completely',\n",
       " 'empty',\n",
       " 'Ambience',\n",
       " 'good',\n",
       " 'good',\n",
       " 'old',\n",
       " 'hindi',\n",
       " 'music',\n",
       " 'Seating',\n",
       " 'arrangement',\n",
       " 'good',\n",
       " 'We',\n",
       " 'ordered',\n",
       " 'masala',\n",
       " 'papad',\n",
       " 'panner',\n",
       " 'baby',\n",
       " 'corn',\n",
       " 'starters',\n",
       " 'lemon',\n",
       " 'corrionder',\n",
       " 'soup',\n",
       " 'butter',\n",
       " 'roti',\n",
       " 'olive',\n",
       " 'chilli',\n",
       " 'paratha',\n",
       " 'Food',\n",
       " 'fresh',\n",
       " 'good',\n",
       " 'service',\n",
       " 'good',\n",
       " 'Good',\n",
       " 'family',\n",
       " 'hangout',\n",
       " 'nCheers',\n",
       " 'Its',\n",
       " 'restaurant',\n",
       " 'near',\n",
       " 'Banashankari',\n",
       " 'BDA',\n",
       " 'Me',\n",
       " 'along',\n",
       " 'office',\n",
       " 'friends',\n",
       " 'visited',\n",
       " 'buffet',\n",
       " 'unfortunately',\n",
       " 'provide',\n",
       " 'veg',\n",
       " 'buffet',\n",
       " 'On',\n",
       " 'inquiring',\n",
       " 'said',\n",
       " 'place',\n",
       " 'mostly',\n",
       " 'visited',\n",
       " 'vegetarians',\n",
       " 'Anyways',\n",
       " 'ordered',\n",
       " 'ala',\n",
       " 'carte',\n",
       " 'items',\n",
       " 'took',\n",
       " 'ages',\n",
       " 'come',\n",
       " 'Food',\n",
       " 'ok',\n",
       " 'ok',\n",
       " 'Definitely',\n",
       " 'visiting',\n",
       " 'anymore',\n",
       " 'We',\n",
       " 'went',\n",
       " 'weekend',\n",
       " 'one',\n",
       " 'us',\n",
       " 'buffet',\n",
       " 'two',\n",
       " 'us',\n",
       " 'took',\n",
       " 'Ala',\n",
       " 'Carte',\n",
       " 'Firstly',\n",
       " 'ambience',\n",
       " 'service',\n",
       " 'place',\n",
       " 'great',\n",
       " 'The',\n",
       " 'buffet',\n",
       " 'lot',\n",
       " 'items',\n",
       " 'good',\n",
       " 'good',\n",
       " 'We',\n",
       " 'Pumpkin',\n",
       " 'Halwa',\n",
       " 'intm',\n",
       " 'dessert',\n",
       " 'amazing',\n",
       " 'Must',\n",
       " 'try',\n",
       " 'The',\n",
       " 'kulchas',\n",
       " 'great',\n",
       " 'Cheers',\n",
       " 'The',\n",
       " 'best',\n",
       " 'thing',\n",
       " 'place',\n",
       " 'ambiance',\n",
       " 'Second',\n",
       " 'best',\n",
       " 'thing',\n",
       " 'yummy',\n",
       " 'food',\n",
       " 'We',\n",
       " 'try',\n",
       " 'buffet',\n",
       " 'buffet',\n",
       " 'food',\n",
       " 'disappointed',\n",
       " 'us',\n",
       " 'nTest',\n",
       " 'nQuality',\n",
       " 'nService',\n",
       " 'Staff',\n",
       " 'professional',\n",
       " 'friendly',\n",
       " 'nOverall',\n",
       " 'experience',\n",
       " 'excellent',\n",
       " 'nsubirmajumder',\n",
       " 'wixsite',\n",
       " 'com',\n",
       " 'Great',\n",
       " 'food',\n",
       " 'pleasant',\n",
       " 'ambience',\n",
       " 'Expensive',\n",
       " 'Coll',\n",
       " 'place',\n",
       " 'chill',\n",
       " 'relax',\n",
       " 'nService',\n",
       " 'really',\n",
       " 'good',\n",
       " 'friendly',\n",
       " 'staff',\n",
       " 'nFood',\n",
       " 'nService',\n",
       " 'nAmbience',\n",
       " 'nOverall',\n",
       " 'Good',\n",
       " 'ambience',\n",
       " 'tasty',\n",
       " 'food',\n",
       " 'nCheese',\n",
       " 'chilli',\n",
       " 'paratha',\n",
       " 'Bhutta',\n",
       " 'palak',\n",
       " 'methi',\n",
       " 'curry',\n",
       " 'good',\n",
       " 'combo',\n",
       " 'nLemon',\n",
       " 'Chicken',\n",
       " 'starters',\n",
       " 'must',\n",
       " 'try',\n",
       " 'item',\n",
       " 'nEgg',\n",
       " 'fried',\n",
       " 'rice',\n",
       " 'also',\n",
       " 'quite',\n",
       " 'tasty',\n",
       " 'nIn',\n",
       " 'mocktails',\n",
       " 'recommend',\n",
       " 'Alice',\n",
       " 'Junoon',\n",
       " 'Do',\n",
       " 'miss',\n",
       " 'You',\n",
       " 'go',\n",
       " 'wrong',\n",
       " 'Jalsa',\n",
       " 'Never',\n",
       " 'fan',\n",
       " 'buffet',\n",
       " 'thus',\n",
       " 'always',\n",
       " 'order',\n",
       " 'alacarte',\n",
       " 'Service',\n",
       " 'times',\n",
       " 'slower',\n",
       " 'side',\n",
       " 'food',\n",
       " 'worth',\n",
       " 'wait',\n",
       " 'Overdelighted',\n",
       " 'service',\n",
       " 'food',\n",
       " 'provided',\n",
       " 'place',\n",
       " 'A',\n",
       " 'royal',\n",
       " 'ethnic',\n",
       " 'atmosphere',\n",
       " 'builds',\n",
       " 'strong',\n",
       " 'essence',\n",
       " 'India',\n",
       " 'also',\n",
       " 'quality',\n",
       " 'taste',\n",
       " 'food',\n",
       " 'truly',\n",
       " 'authentic',\n",
       " 'I',\n",
       " 'would',\n",
       " 'totally',\n",
       " 'recommend',\n",
       " 'visit',\n",
       " 'place',\n",
       " 'The',\n",
       " 'place',\n",
       " 'nice',\n",
       " 'comfortable',\n",
       " 'Food',\n",
       " 'wise',\n",
       " 'jalea',\n",
       " 'outlets',\n",
       " 'maintain',\n",
       " 'good',\n",
       " 'standard',\n",
       " 'The',\n",
       " 'soya',\n",
       " 'chaap',\n",
       " 'standout',\n",
       " 'dish',\n",
       " 'Clearly',\n",
       " 'one',\n",
       " 'trademark',\n",
       " 'dish',\n",
       " 'per',\n",
       " 'must',\n",
       " 'try',\n",
       " 'nThe',\n",
       " 'concern',\n",
       " 'parking',\n",
       " 'It',\n",
       " 'congested',\n",
       " 'limited',\n",
       " 'cars',\n",
       " 'The',\n",
       " 'basement',\n",
       " 'parking',\n",
       " 'steep',\n",
       " 'makes',\n",
       " 'cumbersome',\n",
       " 'The',\n",
       " 'place',\n",
       " 'nice',\n",
       " 'comfortable',\n",
       " 'Food',\n",
       " 'wise',\n",
       " 'jalea',\n",
       " 'outlets',\n",
       " 'maintain',\n",
       " 'good',\n",
       " 'standard',\n",
       " 'The',\n",
       " 'soya',\n",
       " 'chaap',\n",
       " 'standout',\n",
       " 'dish',\n",
       " 'Clearly',\n",
       " 'one',\n",
       " 'trademark',\n",
       " 'dish',\n",
       " 'per',\n",
       " 'must',\n",
       " 'try',\n",
       " 'nThe',\n",
       " 'concern',\n",
       " 'parking',\n",
       " 'It',\n",
       " 'congested',\n",
       " 'limited',\n",
       " 'cars',\n",
       " 'The',\n",
       " 'basement',\n",
       " 'parking',\n",
       " 'steep',\n",
       " 'makes',\n",
       " 'cumbersome',\n",
       " 'The',\n",
       " 'place',\n",
       " 'nice',\n",
       " 'comfortable',\n",
       " 'Food',\n",
       " 'wise',\n",
       " 'jalea',\n",
       " 'outlets',\n",
       " 'maintain',\n",
       " 'good',\n",
       " 'standard',\n",
       " 'The',\n",
       " 'soya',\n",
       " 'chaap',\n",
       " 'standout',\n",
       " 'dish',\n",
       " 'Clearly',\n",
       " 'one',\n",
       " 'trademark',\n",
       " 'dish',\n",
       " 'per',\n",
       " 'must',\n",
       " 'try',\n",
       " 'nThe',\n",
       " 'concern',\n",
       " 'parking',\n",
       " 'It',\n",
       " 'congested',\n",
       " 'limited',\n",
       " 'cars',\n",
       " 'The',\n",
       " 'basement',\n",
       " 'parking',\n",
       " 'steep',\n",
       " 'makes',\n",
       " 'cumbersome',\n",
       " 'Had',\n",
       " 'dinner',\n",
       " 'family',\n",
       " 'Turned',\n",
       " 'good',\n",
       " 'choose',\n",
       " 'suitable',\n",
       " 'ages',\n",
       " 'people',\n",
       " 'Can',\n",
       " 'try',\n",
       " 'place',\n",
       " 'We',\n",
       " 'liked',\n",
       " 'starters',\n",
       " 'Service',\n",
       " 'good',\n",
       " 'Prices',\n",
       " 'affordable',\n",
       " 'Will',\n",
       " 'recommend',\n",
       " 'restaurant',\n",
       " 'early',\n",
       " 'dinner',\n",
       " 'The',\n",
       " 'place',\n",
       " 'little',\n",
       " 'noisy',\n",
       " 'The',\n",
       " 'ambience',\n",
       " 'really',\n",
       " 'nice',\n",
       " 'staff',\n",
       " 'courteous',\n",
       " 'The',\n",
       " 'price',\n",
       " 'pretty',\n",
       " 'high',\n",
       " 'quantity',\n",
       " 'overall',\n",
       " 'experience',\n",
       " 'fine',\n",
       " 'The',\n",
       " 'quality',\n",
       " 'food',\n",
       " 'nice',\n",
       " 'nothing',\n",
       " 'extraordinary',\n",
       " 'They',\n",
       " 'also',\n",
       " 'buffet',\n",
       " 'veg',\n",
       " 'I',\n",
       " 'felt',\n",
       " 'good',\n",
       " 'little',\n",
       " 'expensive',\n",
       " 'quantity',\n",
       " 'serve',\n",
       " 'In',\n",
       " 'terms',\n",
       " 'taste',\n",
       " 'decent',\n",
       " 'There',\n",
       " 'nothing',\n",
       " 'much',\n",
       " 'talk',\n",
       " 'ambience',\n",
       " 'regular',\n",
       " 'casual',\n",
       " 'dining',\n",
       " 'restaurant',\n",
       " 'take',\n",
       " 'family',\n",
       " 'dinner',\n",
       " 'lunch',\n",
       " 'If',\n",
       " 'improve',\n",
       " 'quantity',\n",
       " 'may',\n",
       " 'reduce',\n",
       " 'price',\n",
       " 'bit',\n",
       " 'may',\n",
       " 'improve',\n",
       " 'presentation',\n",
       " 'food',\n",
       " 'might',\n",
       " 'Manage',\n",
       " 'get',\n",
       " 'repeat',\n",
       " 'customers',\n",
       " 'I',\n",
       " 'looking',\n",
       " 'quite',\n",
       " 'place',\n",
       " 'spend',\n",
       " 'time',\n",
       " 'family',\n",
       " 'well',\n",
       " 'wanted',\n",
       " 'try',\n",
       " 'new',\n",
       " 'place',\n",
       " 'Since',\n",
       " 'I',\n",
       " 'Banashankari',\n",
       " 'I',\n",
       " 'thought',\n",
       " 'trying',\n",
       " 'place',\n",
       " 'The',\n",
       " 'place',\n",
       " 'good',\n",
       " 'rating',\n",
       " 'part',\n",
       " 'Zomato',\n",
       " 'gold',\n",
       " 'So',\n",
       " 'I',\n",
       " 'decided',\n",
       " 'try',\n",
       " 'place',\n",
       " 'It',\n",
       " 'delite',\n",
       " 'see',\n",
       " 'friendly',\n",
       " 'staff',\n",
       " 'food',\n",
       " 'ordered',\n",
       " 'tasty',\n",
       " 'well',\n",
       " 'nFood',\n",
       " 'nAmbience',\n",
       " 'nFriendly',\n",
       " 'staff',\n",
       " 'nPocket',\n",
       " 'friendly',\n",
       " 'nWill',\n",
       " 'definitely',\n",
       " 'visit',\n",
       " 'Nice',\n",
       " 'place',\n",
       " 'dine',\n",
       " 'good',\n",
       " 'ambiance',\n",
       " 'Food',\n",
       " 'good',\n",
       " 'serving',\n",
       " 'time',\n",
       " 'also',\n",
       " 'good',\n",
       " 'neat',\n",
       " 'restrooms',\n",
       " 'arranged',\n",
       " 'tables',\n",
       " 'thing',\n",
       " 'went',\n",
       " 'lunch',\n",
       " 'noticed',\n",
       " 'kept',\n",
       " 'playing',\n",
       " 'one',\n",
       " 'music',\n",
       " 'back',\n",
       " 'back',\n",
       " 'little',\n",
       " 'annoying',\n",
       " 'Chicken',\n",
       " 'biriyani',\n",
       " 'good',\n",
       " 'chicken',\n",
       " 'fresh',\n",
       " 'tender',\n",
       " 'rice',\n",
       " 'well',\n",
       " 'cooked',\n",
       " 'overall',\n",
       " 'great',\n",
       " 'Mutton',\n",
       " 'biriyani',\n",
       " 'good',\n",
       " 'tasty',\n",
       " 'It',\n",
       " 'plenty',\n",
       " 'mutton',\n",
       " 'pieces',\n",
       " 'This',\n",
       " 'place',\n",
       " 'cool',\n",
       " 'good',\n",
       " 'ambience',\n",
       " 'slow',\n",
       " 'music',\n",
       " 'delicious',\n",
       " 'food',\n",
       " 'find',\n",
       " 'peace',\n",
       " 'Staff',\n",
       " 'friendly',\n",
       " 'maintained',\n",
       " 'place',\n",
       " 'clean',\n",
       " 'The',\n",
       " 'price',\n",
       " 'average',\n",
       " 'quantity',\n",
       " 'food',\n",
       " 'serve',\n",
       " 'nThom',\n",
       " 'yum',\n",
       " 'Thai',\n",
       " 'soup',\n",
       " 'best',\n",
       " 'treat',\n",
       " 'mouth',\n",
       " 'roti',\n",
       " 'soft',\n",
       " 'vilaythi',\n",
       " 'paneer',\n",
       " 'perfect',\n",
       " 'veggie',\n",
       " 'foodies',\n",
       " 'rice',\n",
       " 'tried',\n",
       " 'burnt',\n",
       " 'garlic',\n",
       " 'fried',\n",
       " 'rice',\n",
       " 'vegetables',\n",
       " 'perfect',\n",
       " 'thing',\n",
       " 'end',\n",
       " 'Quiet',\n",
       " 'good',\n",
       " 'family',\n",
       " 'type',\n",
       " 'place',\n",
       " 'calm',\n",
       " 'usually',\n",
       " 'find',\n",
       " 'crowd',\n",
       " 'panner',\n",
       " 'curry',\n",
       " 'deserts',\n",
       " 'tasted',\n",
       " 'wer',\n",
       " 'really',\n",
       " 'good',\n",
       " 'found',\n",
       " 'little',\n",
       " 'expensive',\n",
       " 'I',\n",
       " 'bad',\n",
       " 'experience',\n",
       " 'nI',\n",
       " 'know',\n",
       " 'la',\n",
       " 'carte',\n",
       " 'buffet',\n",
       " 'worst',\n",
       " 'They',\n",
       " 'gave',\n",
       " 'us',\n",
       " 'complementary',\n",
       " 'drink',\n",
       " 'momos',\n",
       " 'buffet',\n",
       " 'The',\n",
       " 'momos',\n",
       " 'really',\n",
       " 'good',\n",
       " 'nThe',\n",
       " 'number',\n",
       " 'varieties',\n",
       " 'first',\n",
       " 'disappointing',\n",
       " 'The',\n",
       " 'service',\n",
       " 'slow',\n",
       " 'They',\n",
       " 'refilled',\n",
       " 'food',\n",
       " 'slowly',\n",
       " 'The',\n",
       " 'starters',\n",
       " 'okay',\n",
       " 'The',\n",
       " 'main',\n",
       " 'course',\n",
       " 'also',\n",
       " 'There',\n",
       " 'two',\n",
       " 'gravies',\n",
       " 'roti',\n",
       " 'rice',\n",
       " 'raitha',\n",
       " 'They',\n",
       " 'chats',\n",
       " 'sev',\n",
       " 'puri',\n",
       " 'pan',\n",
       " 'puri',\n",
       " 'average',\n",
       " 'But',\n",
       " 'desert',\n",
       " 'disappointing',\n",
       " 'They',\n",
       " 'gulab',\n",
       " 'Jamun',\n",
       " 'chocolate',\n",
       " 'cake',\n",
       " 'The',\n",
       " 'jamun',\n",
       " 'cooked',\n",
       " 'inside',\n",
       " 'There',\n",
       " 'cold',\n",
       " 'blob',\n",
       " 'raw',\n",
       " 'dough',\n",
       " 'inside',\n",
       " 'The',\n",
       " 'chocolate',\n",
       " 'cake',\n",
       " 'also',\n",
       " 'really',\n",
       " 'hard',\n",
       " 'good',\n",
       " 'nOverall',\n",
       " 'buffet',\n",
       " 'bad',\n",
       " 'experience',\n",
       " 'Food',\n",
       " 'nAmbience',\n",
       " 'nStaff',\n",
       " 'nOne',\n",
       " 'good',\n",
       " 'places',\n",
       " 'try',\n",
       " 'north',\n",
       " 'Indian',\n",
       " 'food',\n",
       " 'depends',\n",
       " 'ur',\n",
       " 'taste',\n",
       " 'buds',\n",
       " 'Not',\n",
       " 'everyone',\n",
       " 'like',\n",
       " 'items',\n",
       " 'Specially',\n",
       " 'u',\n",
       " 'r',\n",
       " 'particular',\n",
       " 'abt',\n",
       " 'sweet',\n",
       " 'spicy',\n",
       " 'food',\n",
       " 'nThere',\n",
       " 'buffet',\n",
       " 'available',\n",
       " 'nWe',\n",
       " 'ordered',\n",
       " 'paneer',\n",
       " 'uttar',\n",
       " 'dakshin',\n",
       " 'paneer',\n",
       " 'kurchan',\n",
       " 'amazing',\n",
       " 'The',\n",
       " 'Gobi',\n",
       " 'hara',\n",
       " 'pyaz',\n",
       " 'mix',\n",
       " 'veg',\n",
       " 'average',\n",
       " 'A',\n",
       " 'decent',\n",
       " 'place',\n",
       " 'family',\n",
       " 'lunch',\n",
       " 'dinner',\n",
       " 'well',\n",
       " 'arranged',\n",
       " 'simple',\n",
       " 'manner',\n",
       " 'Food',\n",
       " 'tasty',\n",
       " 'crew',\n",
       " 'helpful',\n",
       " 'understanding',\n",
       " 'Great',\n",
       " 'place',\n",
       " 'heavy',\n",
       " 'lunch',\n",
       " 'Good',\n",
       " 'service',\n",
       " 'nThe',\n",
       " 'chicken',\n",
       " 'biryani',\n",
       " 'undoubtedly',\n",
       " 'one',\n",
       " 'best',\n",
       " 'I',\n",
       " 'Biriyani',\n",
       " 'Lassi',\n",
       " 'would',\n",
       " 'suggested',\n",
       " 'combo',\n",
       " 'Buffet',\n",
       " 'talk',\n",
       " 'place',\n",
       " 'try',\n",
       " 'according',\n",
       " 'appetite',\n",
       " 'A',\n",
       " 'nice',\n",
       " 'place',\n",
       " 'Its',\n",
       " 'one',\n",
       " 'restaurant',\n",
       " 'near',\n",
       " 'katriguppe',\n",
       " 'found',\n",
       " 'really',\n",
       " 'good',\n",
       " 'Good',\n",
       " 'variety',\n",
       " 'Chinese',\n",
       " 'thai',\n",
       " 'dishes',\n",
       " 'Service',\n",
       " 'good',\n",
       " 'good',\n",
       " 'place',\n",
       " 'hangout',\n",
       " 'family',\n",
       " 'peaceful',\n",
       " 'place',\n",
       " 'noise',\n",
       " 'really',\n",
       " 'less',\n",
       " 'good',\n",
       " 'view',\n",
       " 'Spice',\n",
       " 'elephant',\n",
       " 'soup',\n",
       " 'SPL',\n",
       " 'almost',\n",
       " 'manchow',\n",
       " 'flavour',\n",
       " 'soup',\n",
       " 'Just',\n",
       " 'medium',\n",
       " 'spicy',\n",
       " 'nLasooni',\n",
       " 'fish',\n",
       " 'tikka',\n",
       " 'awesome',\n",
       " 'nI',\n",
       " 'remember',\n",
       " 'dessert',\n",
       " 'name',\n",
       " 'I',\n",
       " 'attached',\n",
       " 'photo',\n",
       " 'It',\n",
       " 'vanilla',\n",
       " 'ice',\n",
       " 'inside',\n",
       " 'wafers',\n",
       " 'Wafer',\n",
       " 'hell',\n",
       " 'hard',\n",
       " 'egg',\n",
       " 'smell',\n",
       " 'chewy',\n",
       " 'Nightmare',\n",
       " 'dessert',\n",
       " 'nTable',\n",
       " 'leg',\n",
       " 'space',\n",
       " 'bad',\n",
       " 'I',\n",
       " 'uncomfortable',\n",
       " 'whole',\n",
       " 'time',\n",
       " 'kept',\n",
       " 'adjusting',\n",
       " 'legs',\n",
       " 'nNo',\n",
       " 'parking',\n",
       " 'nFor',\n",
       " 'taste',\n",
       " 'felt',\n",
       " 'costly',\n",
       " 'Zomato',\n",
       " 'gold',\n",
       " 'partner',\n",
       " 'price',\n",
       " 'It',\n",
       " 'insane',\n",
       " 'They',\n",
       " 'really',\n",
       " 'nice',\n",
       " 'food',\n",
       " 'small',\n",
       " 'place',\n",
       " 'courteous',\n",
       " 'staff',\n",
       " 'cheap',\n",
       " 'food',\n",
       " 'ambience',\n",
       " 'Cost',\n",
       " 'soups',\n",
       " 'Starters',\n",
       " 'Main',\n",
       " 'course',\n",
       " 'Cost',\n",
       " 'two',\n",
       " 'us',\n",
       " 'Ambience',\n",
       " 'good',\n",
       " 'enough',\n",
       " 'pocket',\n",
       " 'friendly',\n",
       " 'cafe',\n",
       " 'quantity',\n",
       " 'good',\n",
       " 'desserts',\n",
       " 'good',\n",
       " 'enough',\n",
       " 'nWent',\n",
       " 'quick',\n",
       " 'bite',\n",
       " 'friends',\n",
       " 'nThe',\n",
       " 'ambience',\n",
       " 'corporate',\n",
       " 'feel',\n",
       " 'I',\n",
       " 'would',\n",
       " 'say',\n",
       " 'unique',\n",
       " 'nTried',\n",
       " 'nachos',\n",
       " 'pasta',\n",
       " 'churros',\n",
       " 'lasagne',\n",
       " 'nNachos',\n",
       " 'pathetic',\n",
       " 'Seriously',\n",
       " 'order',\n",
       " 'nPasta',\n",
       " 'okayish',\n",
       " 'nLasagne',\n",
       " 'good',\n",
       " 'nNutella',\n",
       " 'churros',\n",
       " 'best',\n",
       " 'nOverall',\n",
       " 'okayish',\n",
       " 'experience',\n",
       " 'nPeace',\n",
       " 'First',\n",
       " 'big',\n",
       " 'thanks',\n",
       " 'staff',\n",
       " 'Cafe',\n",
       " 'Very',\n",
       " 'polite',\n",
       " 'courteous',\n",
       " 'nI',\n",
       " 'mins',\n",
       " 'closing',\n",
       " 'time',\n",
       " 'Without',\n",
       " 'discomfort',\n",
       " 'hesitation',\n",
       " 'staff',\n",
       " 'welcomed',\n",
       " 'warm',\n",
       " 'smile',\n",
       " 'said',\n",
       " 'still',\n",
       " 'open',\n",
       " 'though',\n",
       " 'preparing',\n",
       " 'close',\n",
       " 'cafe',\n",
       " 'day',\n",
       " 'nQuickly',\n",
       " 'ordered',\n",
       " 'Thai',\n",
       " 'green',\n",
       " 'curry',\n",
       " 'served',\n",
       " 'rice',\n",
       " 'They',\n",
       " 'got',\n",
       " 'within',\n",
       " 'mins',\n",
       " 'hot',\n",
       " 'freshly',\n",
       " 'made',\n",
       " 'nIt',\n",
       " 'tasty',\n",
       " 'taste',\n",
       " 'coconut',\n",
       " 'milk',\n",
       " 'Not',\n",
       " 'spicy',\n",
       " 'mild',\n",
       " 'spicy',\n",
       " 'nI',\n",
       " 'saw',\n",
       " 'yummy',\n",
       " 'looking',\n",
       " 'dessert',\n",
       " 'menu',\n",
       " 'go',\n",
       " 'try',\n",
       " 'nA',\n",
       " 'good',\n",
       " ...]"
      ]
     },
     "execution_count": 42,
     "metadata": {},
     "output_type": "execute_result"
    }
   ],
   "source": [
    "t_r_1D"
   ]
  },
  {
   "cell_type": "code",
   "execution_count": 43,
   "id": "79a11f6c",
   "metadata": {},
   "outputs": [],
   "source": [
    "fd = FreqDist()"
   ]
  },
  {
   "cell_type": "code",
   "execution_count": 44,
   "id": "9cd12a23",
   "metadata": {},
   "outputs": [],
   "source": [
    "for word in t_r_1D:\n",
    "    fd[word] = fd[word] + 1"
   ]
  },
  {
   "cell_type": "code",
   "execution_count": 45,
   "id": "9ea29830",
   "metadata": {},
   "outputs": [
    {
     "data": {
      "text/plain": [
       "[('place', 139173),\n",
       " ('I', 137965),\n",
       " ('good', 134232),\n",
       " ('food', 126195),\n",
       " ('The', 97479),\n",
       " ('chicken', 46887),\n",
       " ('service', 41216),\n",
       " ('taste', 40063),\n",
       " ('ordered', 39651),\n",
       " ('great', 34402),\n",
       " ('really', 33942),\n",
       " ('time', 33052),\n",
       " ('try', 32415),\n",
       " ('one', 32079),\n",
       " ('ambience', 31703),\n",
       " ('like', 30679),\n",
       " ('also', 30647),\n",
       " ('It', 30487),\n",
       " ('visit', 27355),\n",
       " ('restaurant', 26421)]"
      ]
     },
     "execution_count": 45,
     "metadata": {},
     "output_type": "execute_result"
    }
   ],
   "source": [
    "fd.most_common(20)"
   ]
  },
  {
   "cell_type": "code",
   "execution_count": 46,
   "id": "aad847e8",
   "metadata": {},
   "outputs": [
    {
     "data": {
      "text/plain": [
       "<Axes: xlabel='Samples', ylabel='Counts'>"
      ]
     },
     "execution_count": 46,
     "metadata": {},
     "output_type": "execute_result"
    },
    {
     "data": {
      "image/png": "[encoded data removed]",
      "text/plain": [
       "<Figure size 640x480 with 1 Axes>"
      ]
     },
     "metadata": {},
     "output_type": "display_data"
    }
   ],
   "source": [
    "fd.plot(25)"
   ]
  },
  {
   "cell_type": "code",
   "execution_count": 47,
   "id": "c3d27331",
   "metadata": {},
   "outputs": [
    {
     "data": {
      "image/png": "[encoded data removed]",
      "text/plain": [
       "<Figure size 640x480 with 1 Axes>"
      ]
     },
     "metadata": {},
     "output_type": "display_data"
    }
   ],
   "source": [
    "fd.plot(25)\n",
    "plt.xticks(rotation = 45)\n",
    "plt.tight_layout()\n",
    "plt.show()"
   ]
  },
  {
   "cell_type": "code",
   "execution_count": 48,
   "id": "933149c9",
   "metadata": {},
   "outputs": [],
   "source": [
    "m_c = fd.most_common(25)\n",
    "df1 = pd.DataFrame(m_c, columns=[\"word\", \"count\"])"
   ]
  },
  {
   "cell_type": "code",
   "execution_count": 49,
   "id": "df95707f",
   "metadata": {},
   "outputs": [
    {
     "data": {
      "application/vnd.plotly.v1+json": {
       "config": {
        "plotlyServerURL": "https://plot.ly"
       },
       "data": [
        {
         "hovertemplate": "word=%{x}<br>count=%{y}<extra></extra>",
         "legendgroup": "",
         "line": {
          "color": "#636efa",
          "dash": "solid"
         },
         "marker": {
          "symbol": "circle"
         },
         "mode": "lines+markers",
         "name": "",
         "orientation": "v",
         "showlegend": false,
         "type": "scatter",
         "x": [
          "place",
          "I",
          "good",
          "food",
          "The",
          "chicken",
          "service",
          "taste",
          "ordered",
          "great",
          "really",
          "time",
          "try",
          "one",
          "ambience",
          "like",
          "also",
          "It",
          "visit",
          "restaurant",
          "We",
          "nice",
          "nThe",
          "best",
          "well"
         ],
         "xaxis": "x",
         "y": [
          139173,
          137965,
          134232,
          126195,
          97479,
          46887,
          41216,
          40063,
          39651,
          34402,
          33942,
          33052,
          32415,
          32079,
          31703,
          30679,
          30647,
          30487,
          27355,
          26421,
          25949,
          25665,
          25217,
          24886,
          23605
         ],
         "yaxis": "y"
        }
       ],
       "layout": {
        "legend": {
         "tracegroupgap": 0
        },
        "template": {
         "data": {
          "bar": [
           {
            "error_x": {
             "color": "#2a3f5f"
            },
            "error_y": {
             "color": "#2a3f5f"
            },
            "marker": {
             "line": {
              "color": "#E5ECF6",
              "width": 0.5
             },
             "pattern": {
              "fillmode": "overlay",
              "size": 10,
              "solidity": 0.2
             }
            },
            "type": "bar"
           }
          ],
          "barpolar": [
           {
            "marker": {
             "line": {
              "color": "#E5ECF6",
              "width": 0.5
             },
             "pattern": {
              "fillmode": "overlay",
              "size": 10,
              "solidity": 0.2
             }
            },
            "type": "barpolar"
           }
          ],
          "carpet": [
           {
            "aaxis": {
             "endlinecolor": "#2a3f5f",
             "gridcolor": "white",
             "linecolor": "white",
             "minorgridcolor": "white",
             "startlinecolor": "#2a3f5f"
            },
            "baxis": {
             "endlinecolor": "#2a3f5f",
             "gridcolor": "white",
             "linecolor": "white",
             "minorgridcolor": "white",
             "startlinecolor": "#2a3f5f"
            },
            "type": "carpet"
           }
          ],
          "choropleth": [
           {
            "colorbar": {
             "outlinewidth": 0,
             "ticks": ""
            },
            "type": "choropleth"
           }
          ],
          "contour": [
           {
            "colorbar": {
             "outlinewidth": 0,
             "ticks": ""
            },
            "colorscale": [
             [
              0,
              "#0d0887"
             ],
             [
              0.1111111111111111,
              "#46039f"
             ],
             [
              0.2222222222222222,
              "#7201a8"
             ],
             [
              0.3333333333333333,
              "#9c179e"
             ],
             [
              0.4444444444444444,
              "#bd3786"
             ],
             [
              0.5555555555555556,
              "#d8576b"
             ],
             [
              0.6666666666666666,
              "#ed7953"
             ],
             [
              0.7777777777777778,
              "#fb9f3a"
             ],
             [
              0.8888888888888888,
              "#fdca26"
             ],
             [
              1,
              "#f0f921"
             ]
            ],
            "type": "contour"
           }
          ],
          "contourcarpet": [
           {
            "colorbar": {
             "outlinewidth": 0,
             "ticks": ""
            },
            "type": "contourcarpet"
           }
          ],
          "heatmap": [
           {
            "colorbar": {
             "outlinewidth": 0,
             "ticks": ""
            },
            "colorscale": [
             [
              0,
              "#0d0887"
             ],
             [
              0.1111111111111111,
              "#46039f"
             ],
             [
              0.2222222222222222,
              "#7201a8"
             ],
             [
              0.3333333333333333,
              "#9c179e"
             ],
             [
              0.4444444444444444,
              "#bd3786"
             ],
             [
              0.5555555555555556,
              "#d8576b"
             ],
             [
              0.6666666666666666,
              "#ed7953"
             ],
             [
              0.7777777777777778,
              "#fb9f3a"
             ],
             [
              0.8888888888888888,
              "#fdca26"
             ],
             [
              1,
              "#f0f921"
             ]
            ],
            "type": "heatmap"
           }
          ],
          "heatmapgl": [
           {
            "colorbar": {
             "outlinewidth": 0,
             "ticks": ""
            },
            "colorscale": [
             [
              0,
              "#0d0887"
             ],
             [
              0.1111111111111111,
              "#46039f"
             ],
             [
              0.2222222222222222,
              "#7201a8"
             ],
             [
              0.3333333333333333,
              "#9c179e"
             ],
             [
              0.4444444444444444,
              "#bd3786"
             ],
             [
              0.5555555555555556,
              "#d8576b"
             ],
             [
              0.6666666666666666,
              "#ed7953"
             ],
             [
              0.7777777777777778,
              "#fb9f3a"
             ],
             [
              0.8888888888888888,
              "#fdca26"
             ],
             [
              1,
              "#f0f921"
             ]
            ],
            "type": "heatmapgl"
           }
          ],
          "histogram": [
           {
            "marker": {
             "pattern": {
              "fillmode": "overlay",
              "size": 10,
              "solidity": 0.2
             }
            },
            "type": "histogram"
           }
          ],
          "histogram2d": [
           {
            "colorbar": {
             "outlinewidth": 0,
             "ticks": ""
            },
            "colorscale": [
             [
              0,
              "#0d0887"
             ],
             [
              0.1111111111111111,
              "#46039f"
             ],
             [
              0.2222222222222222,
              "#7201a8"
             ],
             [
              0.3333333333333333,
              "#9c179e"
             ],
             [
              0.4444444444444444,
              "#bd3786"
             ],
             [
              0.5555555555555556,
              "#d8576b"
             ],
             [
              0.6666666666666666,
              "#ed7953"
             ],
             [
              0.7777777777777778,
              "#fb9f3a"
             ],
             [
              0.8888888888888888,
              "#fdca26"
             ],
             [
              1,
              "#f0f921"
             ]
            ],
            "type": "histogram2d"
           }
          ],
          "histogram2dcontour": [
           {
            "colorbar": {
             "outlinewidth": 0,
             "ticks": ""
            },
            "colorscale": [
             [
              0,
              "#0d0887"
             ],
             [
              0.1111111111111111,
              "#46039f"
             ],
             [
              0.2222222222222222,
              "#7201a8"
             ],
             [
              0.3333333333333333,
              "#9c179e"
             ],
             [
              0.4444444444444444,
              "#bd3786"
             ],
             [
              0.5555555555555556,
              "#d8576b"
             ],
             [
              0.6666666666666666,
              "#ed7953"
             ],
             [
              0.7777777777777778,
              "#fb9f3a"
             ],
             [
              0.8888888888888888,
              "#fdca26"
             ],
             [
              1,
              "#f0f921"
             ]
            ],
            "type": "histogram2dcontour"
           }
          ],
          "mesh3d": [
           {
            "colorbar": {
             "outlinewidth": 0,
             "ticks": ""
            },
            "type": "mesh3d"
           }
          ],
          "parcoords": [
           {
            "line": {
             "colorbar": {
              "outlinewidth": 0,
              "ticks": ""
             }
            },
            "type": "parcoords"
           }
          ],
          "pie": [
           {
            "automargin": true,
            "type": "pie"
           }
          ],
          "scatter": [
           {
            "fillpattern": {
             "fillmode": "overlay",
             "size": 10,
             "solidity": 0.2
            },
            "type": "scatter"
           }
          ],
          "scatter3d": [
           {
            "line": {
             "colorbar": {
              "outlinewidth": 0,
              "ticks": ""
             }
            },
            "marker": {
             "colorbar": {
              "outlinewidth": 0,
              "ticks": ""
             }
            },
            "type": "scatter3d"
           }
          ],
          "scattercarpet": [
           {
            "marker": {
             "colorbar": {
              "outlinewidth": 0,
              "ticks": ""
             }
            },
            "type": "scattercarpet"
           }
          ],
          "scattergeo": [
           {
            "marker": {
             "colorbar": {
              "outlinewidth": 0,
              "ticks": ""
             }
            },
            "type": "scattergeo"
           }
          ],
          "scattergl": [
           {
            "marker": {
             "colorbar": {
              "outlinewidth": 0,
              "ticks": ""
             }
            },
            "type": "scattergl"
           }
          ],
          "scattermapbox": [
           {
            "marker": {
             "colorbar": {
              "outlinewidth": 0,
              "ticks": ""
             }
            },
            "type": "scattermapbox"
           }
          ],
          "scatterpolar": [
           {
            "marker": {
             "colorbar": {
              "outlinewidth": 0,
              "ticks": ""
             }
            },
            "type": "scatterpolar"
           }
          ],
          "scatterpolargl": [
           {
            "marker": {
             "colorbar": {
              "outlinewidth": 0,
              "ticks": ""
             }
            },
            "type": "scatterpolargl"
           }
          ],
          "scatterternary": [
           {
            "marker": {
             "colorbar": {
              "outlinewidth": 0,
              "ticks": ""
             }
            },
            "type": "scatterternary"
           }
          ],
          "surface": [
           {
            "colorbar": {
             "outlinewidth": 0,
             "ticks": ""
            },
            "colorscale": [
             [
              0,
              "#0d0887"
             ],
             [
              0.1111111111111111,
              "#46039f"
             ],
             [
              0.2222222222222222,
              "#7201a8"
             ],
             [
              0.3333333333333333,
              "#9c179e"
             ],
             [
              0.4444444444444444,
              "#bd3786"
             ],
             [
              0.5555555555555556,
              "#d8576b"
             ],
             [
              0.6666666666666666,
              "#ed7953"
             ],
             [
              0.7777777777777778,
              "#fb9f3a"
             ],
             [
              0.8888888888888888,
              "#fdca26"
             ],
             [
              1,
              "#f0f921"
             ]
            ],
            "type": "surface"
           }
          ],
          "table": [
           {
            "cells": {
             "fill": {
              "color": "#EBF0F8"
             },
             "line": {
              "color": "white"
             }
            },
            "header": {
             "fill": {
              "color": "#C8D4E3"
             },
             "line": {
              "color": "white"
             }
            },
            "type": "table"
           }
          ]
         },
         "layout": {
          "annotationdefaults": {
           "arrowcolor": "#2a3f5f",
           "arrowhead": 0,
           "arrowwidth": 1
          },
          "autotypenumbers": "strict",
          "coloraxis": {
           "colorbar": {
            "outlinewidth": 0,
            "ticks": ""
           }
          },
          "colorscale": {
           "diverging": [
            [
             0,
             "#8e0152"
            ],
            [
             0.1,
             "#c51b7d"
            ],
            [
             0.2,
             "#de77ae"
            ],
            [
             0.3,
             "#f1b6da"
            ],
            [
             0.4,
             "#fde0ef"
            ],
            [
             0.5,
             "#f7f7f7"
            ],
            [
             0.6,
             "#e6f5d0"
            ],
            [
             0.7,
             "#b8e186"
            ],
            [
             0.8,
             "#7fbc41"
            ],
            [
             0.9,
             "#4d9221"
            ],
            [
             1,
             "#276419"
            ]
           ],
           "sequential": [
            [
             0,
             "#0d0887"
            ],
            [
             0.1111111111111111,
             "#46039f"
            ],
            [
             0.2222222222222222,
             "#7201a8"
            ],
            [
             0.3333333333333333,
             "#9c179e"
            ],
            [
             0.4444444444444444,
             "#bd3786"
            ],
            [
             0.5555555555555556,
             "#d8576b"
            ],
            [
             0.6666666666666666,
             "#ed7953"
            ],
            [
             0.7777777777777778,
             "#fb9f3a"
            ],
            [
             0.8888888888888888,
             "#fdca26"
            ],
            [
             1,
             "#f0f921"
            ]
           ],
           "sequentialminus": [
            [
             0,
             "#0d0887"
            ],
            [
             0.1111111111111111,
             "#46039f"
            ],
            [
             0.2222222222222222,
             "#7201a8"
            ],
            [
             0.3333333333333333,
             "#9c179e"
            ],
            [
             0.4444444444444444,
             "#bd3786"
            ],
            [
             0.5555555555555556,
             "#d8576b"
            ],
            [
             0.6666666666666666,
             "#ed7953"
            ],
            [
             0.7777777777777778,
             "#fb9f3a"
            ],
            [
             0.8888888888888888,
             "#fdca26"
            ],
            [
             1,
             "#f0f921"
            ]
           ]
          },
          "colorway": [
           "#636efa",
           "#EF553B",
           "#00cc96",
           "#ab63fa",
           "#FFA15A",
           "#19d3f3",
           "#FF6692",
           "#B6E880",
           "#FF97FF",
           "#FECB52"
          ],
          "font": {
           "color": "#2a3f5f"
          },
          "geo": {
           "bgcolor": "white",
           "lakecolor": "white",
           "landcolor": "#E5ECF6",
           "showlakes": true,
           "showland": true,
           "subunitcolor": "white"
          },
          "hoverlabel": {
           "align": "left"
          },
          "hovermode": "closest",
          "mapbox": {
           "style": "light"
          },
          "paper_bgcolor": "white",
          "plot_bgcolor": "#E5ECF6",
          "polar": {
           "angularaxis": {
            "gridcolor": "white",
            "linecolor": "white",
            "ticks": ""
           },
           "bgcolor": "#E5ECF6",
           "radialaxis": {
            "gridcolor": "white",
            "linecolor": "white",
            "ticks": ""
           }
          },
          "scene": {
           "xaxis": {
            "backgroundcolor": "#E5ECF6",
            "gridcolor": "white",
            "gridwidth": 2,
            "linecolor": "white",
            "showbackground": true,
            "ticks": "",
            "zerolinecolor": "white"
           },
           "yaxis": {
            "backgroundcolor": "#E5ECF6",
            "gridcolor": "white",
            "gridwidth": 2,
            "linecolor": "white",
            "showbackground": true,
            "ticks": "",
            "zerolinecolor": "white"
           },
           "zaxis": {
            "backgroundcolor": "#E5ECF6",
            "gridcolor": "white",
            "gridwidth": 2,
            "linecolor": "white",
            "showbackground": true,
            "ticks": "",
            "zerolinecolor": "white"
           }
          },
          "shapedefaults": {
           "line": {
            "color": "#2a3f5f"
           }
          },
          "ternary": {
           "aaxis": {
            "gridcolor": "white",
            "linecolor": "white",
            "ticks": ""
           },
           "baxis": {
            "gridcolor": "white",
            "linecolor": "white",
            "ticks": ""
           },
           "bgcolor": "#E5ECF6",
           "caxis": {
            "gridcolor": "white",
            "linecolor": "white",
            "ticks": ""
           }
          },
          "title": {
           "x": 0.05
          },
          "xaxis": {
           "automargin": true,
           "gridcolor": "white",
           "linecolor": "white",
           "ticks": "",
           "title": {
            "standoff": 15
           },
           "zerolinecolor": "white",
           "zerolinewidth": 2
          },
          "yaxis": {
           "automargin": true,
           "gridcolor": "white",
           "linecolor": "white",
           "ticks": "",
           "title": {
            "standoff": 15
           },
           "zerolinecolor": "white",
           "zerolinewidth": 2
          }
         }
        },
        "title": {
         "text": "Top 25 Most Common Words",
         "x": 0.5
        },
        "xaxis": {
         "anchor": "y",
         "domain": [
          0,
          1
         ],
         "tickangle": -45,
         "title": {
          "text": "Word"
         }
        },
        "yaxis": {
         "anchor": "x",
         "domain": [
          0,
          1
         ],
         "title": {
          "text": "Frequency"
         }
        }
       }
      }
     },
     "metadata": {},
     "output_type": "display_data"
    }
   ],
   "source": [
    "fig = px.line(df1, x=\"word\", y=\"count\", markers=True, title=\"Top 25 Most Common Words\")\n",
    "fig.update_traces(mode=\"lines+markers\")  # Show both lines and markers\n",
    "fig.update_layout(\n",
    "    xaxis_title=\"Word\",\n",
    "    yaxis_title=\"Frequency\",\n",
    "    xaxis=dict(tickangle=-45),  # Rotate x-axis labels\n",
    "    title_x=0.5  # Center the title\n",
    ")\n",
    "fig.show()\n"
   ]
  },
  {
   "cell_type": "markdown",
   "id": "6a5bf031",
   "metadata": {},
   "source": [
    "## Bi-gram & Trigram Analysis on Data"
   ]
  },
  {
   "cell_type": "code",
   "execution_count": 50,
   "id": "2d83a794",
   "metadata": {},
   "outputs": [],
   "source": [
    "bg = bigrams(t_r_1D)"
   ]
  },
  {
   "cell_type": "code",
   "execution_count": 51,
   "id": "c6f25a70",
   "metadata": {},
   "outputs": [],
   "source": [
    "fd_bg = FreqDist()\n",
    "\n",
    "for b in bg:\n",
    "    fd_bg[b] = fd_bg[b] + 1"
   ]
  },
  {
   "cell_type": "code",
   "execution_count": 52,
   "id": "5ba4f956",
   "metadata": {},
   "outputs": [
    {
     "data": {
      "text/plain": [
       "[(('The', 'food'), 10497),\n",
       " (('I', 'ordered'), 10159),\n",
       " (('really', 'good'), 9575),\n",
       " (('This', 'place'), 8208),\n",
       " (('must', 'try'), 7824),\n",
       " (('I', 'would'), 7353),\n",
       " (('We', 'ordered'), 7223),\n",
       " (('visit', 'place'), 6897),\n",
       " (('food', 'good'), 6823),\n",
       " (('good', 'food'), 6482),\n",
       " (('The', 'place'), 6158),\n",
       " (('main', 'course'), 5544),\n",
       " (('non', 'veg'), 5364),\n",
       " (('good', 'place'), 5339),\n",
       " (('ice', 'cream'), 5287),\n",
       " (('also', 'good'), 5083),\n",
       " (('The', 'ambience'), 4798),\n",
       " (('I', 'tried'), 4523),\n",
       " (('good', 'I'), 4139),\n",
       " (('good', 'The'), 4078),\n",
       " (('food', 'I'), 3998),\n",
       " (('place', 'I'), 3896),\n",
       " (('The', 'service'), 3830),\n",
       " (('one', 'best'), 3711),\n",
       " (('must', 'visit'), 3658)]"
      ]
     },
     "execution_count": 52,
     "metadata": {},
     "output_type": "execute_result"
    }
   ],
   "source": [
    "fd_bg.most_common(25)"
   ]
  },
  {
   "cell_type": "code",
   "execution_count": 53,
   "id": "d0ae1f37",
   "metadata": {},
   "outputs": [
    {
     "data": {
      "text/plain": [
       "[(('The', 'food'), 10497),\n",
       " (('I', 'ordered'), 10159),\n",
       " (('really', 'good'), 9575),\n",
       " (('This', 'place'), 8208),\n",
       " (('must', 'try'), 7824),\n",
       " (('I', 'would'), 7353),\n",
       " (('We', 'ordered'), 7223),\n",
       " (('visit', 'place'), 6897),\n",
       " (('food', 'good'), 6823),\n",
       " (('good', 'food'), 6482),\n",
       " (('The', 'place'), 6158),\n",
       " (('main', 'course'), 5544),\n",
       " (('non', 'veg'), 5364),\n",
       " (('good', 'place'), 5339),\n",
       " (('ice', 'cream'), 5287),\n",
       " (('also', 'good'), 5083),\n",
       " (('The', 'ambience'), 4798),\n",
       " (('I', 'tried'), 4523),\n",
       " (('good', 'I'), 4139),\n",
       " (('good', 'The'), 4078),\n",
       " (('food', 'I'), 3998),\n",
       " (('place', 'I'), 3896),\n",
       " (('The', 'service'), 3830),\n",
       " (('one', 'best'), 3711),\n",
       " (('must', 'visit'), 3658),\n",
       " (('I', 'love'), 3529),\n",
       " (('quality', 'food'), 3510),\n",
       " (('nWe', 'ordered'), 3490),\n",
       " (('time', 'I'), 3398),\n",
       " (('nice', 'place'), 3290),\n",
       " (('The', 'staff'), 3286),\n",
       " (('taste', 'good'), 3275),\n",
       " (('pretty', 'good'), 3270),\n",
       " (('fried', 'rice'), 3127),\n",
       " (('pocket', 'friendly'), 3097),\n",
       " (('place', 'good'), 3083),\n",
       " (('I', 'loved'), 3078),\n",
       " (('good', 'service'), 3036),\n",
       " (('value', 'money'), 2966),\n",
       " (('place', 'hangout'), 2883),\n",
       " (('good', 'taste'), 2866),\n",
       " (('I', 'like'), 2828),\n",
       " (('I', 'visited'), 2824),\n",
       " (('service', 'good'), 2806),\n",
       " (('great', 'place'), 2708),\n",
       " (('good', 'experience'), 2589),\n",
       " (('nThe', 'food'), 2546),\n",
       " (('ambience', 'good'), 2543),\n",
       " (('first', 'time'), 2533),\n",
       " (('visited', 'place'), 2521),\n",
       " (('chicken', 'biryani'), 2457),\n",
       " (('North', 'Indian'), 2439),\n",
       " (('food', 'The'), 2436),\n",
       " (('I', 'went'), 2416),\n",
       " (('I', 'really'), 2407),\n",
       " (('place', 'The'), 2393),\n",
       " (('recommend', 'place'), 2322),\n",
       " (('I', 'think'), 2271),\n",
       " (('I', 'liked'), 2242),\n",
       " (('One', 'best'), 2225),\n",
       " (('food', 'quality'), 2223),\n",
       " (('Must', 'try'), 2210),\n",
       " (('The', 'best'), 2182),\n",
       " (('I', 'ever'), 2171),\n",
       " (('long', 'time'), 2156),\n",
       " (('really', 'nice'), 2108),\n",
       " (('I', 'got'), 2059),\n",
       " (('nValue', 'money'), 2054),\n",
       " (('food', 'great'), 2051),\n",
       " (('tasted', 'good'), 2049),\n",
       " (('ordered', 'chicken'), 2039),\n",
       " (('best', 'place'), 2021),\n",
       " (('Food', 'good'), 2019),\n",
       " (('food', 'really'), 1992),\n",
       " (('home', 'delivery'), 1992),\n",
       " (('Good', 'place'), 1986),\n",
       " (('We', 'went'), 1981),\n",
       " (('I', 'felt'), 1961),\n",
       " (('Indian', 'food'), 1960),\n",
       " (('nFood', 'nService'), 1953),\n",
       " (('Good', 'food'), 1925),\n",
       " (('nAmbience', 'nService'), 1924),\n",
       " (('great', 'food'), 1924),\n",
       " (('quite', 'good'), 1917),\n",
       " (('try', 'place'), 1913),\n",
       " (('food', 'service'), 1879),\n",
       " (('good', 'ambience'), 1873),\n",
       " (('place', 'hang'), 1861),\n",
       " (('The', 'taste'), 1857),\n",
       " (('place', 'visit'), 1856),\n",
       " (('would', 'recommend'), 1849),\n",
       " (('The', 'chicken'), 1826),\n",
       " (('We', 'tried'), 1822),\n",
       " (('tasty', 'food'), 1810),\n",
       " (('worth', 'money'), 1746),\n",
       " (('nThe', 'service'), 1739),\n",
       " (('Nice', 'place'), 1738),\n",
       " (('best', 'part'), 1707),\n",
       " (('go', 'place'), 1687),\n",
       " (('next', 'time'), 1663)]"
      ]
     },
     "execution_count": 53,
     "metadata": {},
     "output_type": "execute_result"
    }
   ],
   "source": [
    "fd_bg.most_common(100)"
   ]
  },
  {
   "cell_type": "code",
   "execution_count": 54,
   "id": "3841d8e4",
   "metadata": {},
   "outputs": [],
   "source": [
    "tg = trigrams(t_r_1D)"
   ]
  },
  {
   "cell_type": "code",
   "execution_count": 55,
   "id": "f7839c69",
   "metadata": {},
   "outputs": [],
   "source": [
    "fd_tg = FreqDist()\n",
    "\n",
    "for t in tg:\n",
    "    fd_tg[t] = fd_bg[t] + 1"
   ]
  },
  {
   "cell_type": "code",
   "execution_count": 56,
   "id": "9206210c",
   "metadata": {},
   "outputs": [
    {
     "data": {
      "text/plain": [
       "[(('A', 'beautiful', 'place'), 1),\n",
       " (('beautiful', 'place', 'dine'), 1),\n",
       " (('place', 'dine', 'The'), 1),\n",
       " (('dine', 'The', 'interiors'), 1),\n",
       " (('The', 'interiors', 'take'), 1),\n",
       " (('interiors', 'take', 'back'), 1),\n",
       " (('take', 'back', 'Mughal'), 1),\n",
       " (('back', 'Mughal', 'era'), 1),\n",
       " (('Mughal', 'era', 'The'), 1),\n",
       " (('era', 'The', 'lightings'), 1),\n",
       " (('The', 'lightings', 'perfect'), 1),\n",
       " (('lightings', 'perfect', 'We'), 1),\n",
       " (('perfect', 'We', 'went'), 1),\n",
       " (('We', 'went', 'occasion'), 1),\n",
       " (('went', 'occasion', 'Christmas'), 1),\n",
       " (('occasion', 'Christmas', 'limited'), 1),\n",
       " (('Christmas', 'limited', 'items'), 1),\n",
       " (('limited', 'items', 'available'), 1),\n",
       " (('items', 'available', 'But'), 1),\n",
       " (('available', 'But', 'taste'), 1),\n",
       " (('But', 'taste', 'service'), 1),\n",
       " (('taste', 'service', 'compromised'), 1),\n",
       " (('service', 'compromised', 'The'), 1),\n",
       " (('compromised', 'The', 'complaint'), 1),\n",
       " (('The', 'complaint', 'breads'), 1),\n",
       " (('complaint', 'breads', 'could'), 1),\n",
       " (('breads', 'could', 'better'), 1),\n",
       " (('could', 'better', 'Would'), 1),\n",
       " (('better', 'Would', 'surely'), 1),\n",
       " (('Would', 'surely', 'like'), 1),\n",
       " (('surely', 'like', 'come'), 1),\n",
       " (('like', 'come', 'I'), 1),\n",
       " (('come', 'I', 'dinner'), 1),\n",
       " (('I', 'dinner', 'family'), 1),\n",
       " (('dinner', 'family', 'weekday'), 1),\n",
       " (('family', 'weekday', 'The'), 1),\n",
       " (('weekday', 'The', 'restaurant'), 1),\n",
       " (('The', 'restaurant', 'completely'), 1),\n",
       " (('restaurant', 'completely', 'empty'), 1),\n",
       " (('completely', 'empty', 'Ambience'), 1),\n",
       " (('empty', 'Ambience', 'good'), 1),\n",
       " (('Ambience', 'good', 'good'), 1),\n",
       " (('good', 'good', 'old'), 1),\n",
       " (('good', 'old', 'hindi'), 1),\n",
       " (('old', 'hindi', 'music'), 1),\n",
       " (('hindi', 'music', 'Seating'), 1),\n",
       " (('music', 'Seating', 'arrangement'), 1),\n",
       " (('Seating', 'arrangement', 'good'), 1),\n",
       " (('arrangement', 'good', 'We'), 1),\n",
       " (('good', 'We', 'ordered'), 1)]"
      ]
     },
     "execution_count": 56,
     "metadata": {},
     "output_type": "execute_result"
    }
   ],
   "source": [
    "fd_tg.most_common(50)"
   ]
  },
  {
   "cell_type": "markdown",
   "id": "db685bff",
   "metadata": {},
   "source": [
    "## Extracting Geographical-coordinates"
   ]
  },
  {
   "cell_type": "code",
   "execution_count": 57,
   "id": "5106c19f",
   "metadata": {},
   "outputs": [
    {
     "data": {
      "text/plain": [
       "0                      Banashankari\n",
       "1                      Banashankari\n",
       "2                      Banashankari\n",
       "3                      Banashankari\n",
       "4                      Basavanagudi\n",
       "                    ...            \n",
       "51712                    Whitefield\n",
       "51713                    Whitefield\n",
       "51714                    Whitefield\n",
       "51715    ITPL Main Road, Whitefield\n",
       "51716    ITPL Main Road, Whitefield\n",
       "Name: location, Length: 51717, dtype: object"
      ]
     },
     "execution_count": 57,
     "metadata": {},
     "output_type": "execute_result"
    }
   ],
   "source": [
    "df.location"
   ]
  },
  {
   "cell_type": "code",
   "execution_count": 58,
   "id": "1a4baade",
   "metadata": {},
   "outputs": [
    {
     "data": {
      "text/plain": [
       "94"
      ]
     },
     "execution_count": 58,
     "metadata": {},
     "output_type": "execute_result"
    }
   ],
   "source": [
    "len(df.location.unique())"
   ]
  },
  {
   "cell_type": "code",
   "execution_count": 59,
   "id": "a2455b36",
   "metadata": {},
   "outputs": [],
   "source": [
    "df.location = df.location + \", Bangalore, Karnataka, India\""
   ]
  },
  {
   "cell_type": "code",
   "execution_count": 60,
   "id": "c112816a",
   "metadata": {},
   "outputs": [
    {
     "data": {
      "text/plain": [
       "array(['Banashankari, Bangalore, Karnataka, India',\n",
       "       'Basavanagudi, Bangalore, Karnataka, India',\n",
       "       'Mysore Road, Bangalore, Karnataka, India',\n",
       "       'Jayanagar, Bangalore, Karnataka, India',\n",
       "       'Kumaraswamy Layout, Bangalore, Karnataka, India',\n",
       "       'Rajarajeshwari Nagar, Bangalore, Karnataka, India',\n",
       "       'Vijay Nagar, Bangalore, Karnataka, India',\n",
       "       'Uttarahalli, Bangalore, Karnataka, India',\n",
       "       'JP Nagar, Bangalore, Karnataka, India',\n",
       "       'South Bangalore, Bangalore, Karnataka, India',\n",
       "       'City Market, Bangalore, Karnataka, India',\n",
       "       'Nagarbhavi, Bangalore, Karnataka, India',\n",
       "       'Bannerghatta Road, Bangalore, Karnataka, India',\n",
       "       'BTM, Bangalore, Karnataka, India',\n",
       "       'Kanakapura Road, Bangalore, Karnataka, India',\n",
       "       'Bommanahalli, Bangalore, Karnataka, India', nan,\n",
       "       'CV Raman Nagar, Bangalore, Karnataka, India',\n",
       "       'Electronic City, Bangalore, Karnataka, India',\n",
       "       'HSR, Bangalore, Karnataka, India',\n",
       "       'Marathahalli, Bangalore, Karnataka, India',\n",
       "       'Sarjapur Road, Bangalore, Karnataka, India',\n",
       "       'Wilson Garden, Bangalore, Karnataka, India',\n",
       "       'Shanti Nagar, Bangalore, Karnataka, India',\n",
       "       'Koramangala 5th Block, Bangalore, Karnataka, India',\n",
       "       'Koramangala 8th Block, Bangalore, Karnataka, India',\n",
       "       'Richmond Road, Bangalore, Karnataka, India',\n",
       "       'Koramangala 7th Block, Bangalore, Karnataka, India',\n",
       "       'Jalahalli, Bangalore, Karnataka, India',\n",
       "       'Koramangala 4th Block, Bangalore, Karnataka, India',\n",
       "       'Bellandur, Bangalore, Karnataka, India',\n",
       "       'Whitefield, Bangalore, Karnataka, India',\n",
       "       'East Bangalore, Bangalore, Karnataka, India',\n",
       "       'Old Airport Road, Bangalore, Karnataka, India',\n",
       "       'Indiranagar, Bangalore, Karnataka, India',\n",
       "       'Koramangala 1st Block, Bangalore, Karnataka, India',\n",
       "       'Frazer Town, Bangalore, Karnataka, India',\n",
       "       'RT Nagar, Bangalore, Karnataka, India',\n",
       "       'MG Road, Bangalore, Karnataka, India',\n",
       "       'Brigade Road, Bangalore, Karnataka, India',\n",
       "       'Lavelle Road, Bangalore, Karnataka, India',\n",
       "       'Church Street, Bangalore, Karnataka, India',\n",
       "       'Ulsoor, Bangalore, Karnataka, India',\n",
       "       'Residency Road, Bangalore, Karnataka, India',\n",
       "       'Shivajinagar, Bangalore, Karnataka, India',\n",
       "       'Infantry Road, Bangalore, Karnataka, India',\n",
       "       'St. Marks Road, Bangalore, Karnataka, India',\n",
       "       'Cunningham Road, Bangalore, Karnataka, India',\n",
       "       'Race Course Road, Bangalore, Karnataka, India',\n",
       "       'Commercial Street, Bangalore, Karnataka, India',\n",
       "       'Vasanth Nagar, Bangalore, Karnataka, India',\n",
       "       'HBR Layout, Bangalore, Karnataka, India',\n",
       "       'Domlur, Bangalore, Karnataka, India',\n",
       "       'Ejipura, Bangalore, Karnataka, India',\n",
       "       'Jeevan Bhima Nagar, Bangalore, Karnataka, India',\n",
       "       'Old Madras Road, Bangalore, Karnataka, India',\n",
       "       'Malleshwaram, Bangalore, Karnataka, India',\n",
       "       'Seshadripuram, Bangalore, Karnataka, India',\n",
       "       'Kammanahalli, Bangalore, Karnataka, India',\n",
       "       'Koramangala 6th Block, Bangalore, Karnataka, India',\n",
       "       'Majestic, Bangalore, Karnataka, India',\n",
       "       'Langford Town, Bangalore, Karnataka, India',\n",
       "       'Central Bangalore, Bangalore, Karnataka, India',\n",
       "       'Sanjay Nagar, Bangalore, Karnataka, India',\n",
       "       'Brookefield, Bangalore, Karnataka, India',\n",
       "       'ITPL Main Road, Whitefield, Bangalore, Karnataka, India',\n",
       "       'Varthur Main Road, Whitefield, Bangalore, Karnataka, India',\n",
       "       'KR Puram, Bangalore, Karnataka, India',\n",
       "       'Koramangala 2nd Block, Bangalore, Karnataka, India',\n",
       "       'Koramangala 3rd Block, Bangalore, Karnataka, India',\n",
       "       'Koramangala, Bangalore, Karnataka, India',\n",
       "       'Hosur Road, Bangalore, Karnataka, India',\n",
       "       'Rajajinagar, Bangalore, Karnataka, India',\n",
       "       'Banaswadi, Bangalore, Karnataka, India',\n",
       "       'North Bangalore, Bangalore, Karnataka, India',\n",
       "       'Nagawara, Bangalore, Karnataka, India',\n",
       "       'Hennur, Bangalore, Karnataka, India',\n",
       "       'Kalyan Nagar, Bangalore, Karnataka, India',\n",
       "       'New BEL Road, Bangalore, Karnataka, India',\n",
       "       'Jakkur, Bangalore, Karnataka, India',\n",
       "       'Rammurthy Nagar, Bangalore, Karnataka, India',\n",
       "       'Thippasandra, Bangalore, Karnataka, India',\n",
       "       'Kaggadasapura, Bangalore, Karnataka, India',\n",
       "       'Hebbal, Bangalore, Karnataka, India',\n",
       "       'Kengeri, Bangalore, Karnataka, India',\n",
       "       'Sankey Road, Bangalore, Karnataka, India',\n",
       "       'Sadashiv Nagar, Bangalore, Karnataka, India',\n",
       "       'Basaveshwara Nagar, Bangalore, Karnataka, India',\n",
       "       'Yeshwantpur, Bangalore, Karnataka, India',\n",
       "       'West Bangalore, Bangalore, Karnataka, India',\n",
       "       'Magadi Road, Bangalore, Karnataka, India',\n",
       "       'Yelahanka, Bangalore, Karnataka, India',\n",
       "       'Sahakara Nagar, Bangalore, Karnataka, India',\n",
       "       'Peenya, Bangalore, Karnataka, India'], dtype=object)"
      ]
     },
     "execution_count": 60,
     "metadata": {},
     "output_type": "execute_result"
    }
   ],
   "source": [
    "df.location.unique()"
   ]
  },
  {
   "cell_type": "code",
   "execution_count": 61,
   "id": "e59d16a7",
   "metadata": {},
   "outputs": [],
   "source": [
    "df_c = df.copy()"
   ]
  },
  {
   "cell_type": "code",
   "execution_count": 62,
   "id": "fa2cde6e",
   "metadata": {},
   "outputs": [
    {
     "data": {
      "text/plain": [
       "0                Banashankari, Bangalore, Karnataka, India\n",
       "1                Banashankari, Bangalore, Karnataka, India\n",
       "2                Banashankari, Bangalore, Karnataka, India\n",
       "3                Banashankari, Bangalore, Karnataka, India\n",
       "4                Basavanagudi, Bangalore, Karnataka, India\n",
       "                               ...                        \n",
       "51712              Whitefield, Bangalore, Karnataka, India\n",
       "51713              Whitefield, Bangalore, Karnataka, India\n",
       "51714              Whitefield, Bangalore, Karnataka, India\n",
       "51715    ITPL Main Road, Whitefield, Bangalore, Karnata...\n",
       "51716    ITPL Main Road, Whitefield, Bangalore, Karnata...\n",
       "Name: location, Length: 51717, dtype: object"
      ]
     },
     "execution_count": 62,
     "metadata": {},
     "output_type": "execute_result"
    }
   ],
   "source": [
    "df_c.location"
   ]
  },
  {
   "cell_type": "code",
   "execution_count": 63,
   "id": "ac68fa2e",
   "metadata": {},
   "outputs": [
    {
     "data": {
      "text/plain": [
       "np.int64(21)"
      ]
     },
     "execution_count": 63,
     "metadata": {},
     "output_type": "execute_result"
    }
   ],
   "source": [
    "df_c.location.isnull().sum()"
   ]
  },
  {
   "cell_type": "code",
   "execution_count": 64,
   "metadata": {},
   "outputs": [],
   "source": [
    "df_c = df_c.dropna(subset=['location'])"
   ]
  },
  {
   "cell_type": "code",
   "execution_count": 65,
   "metadata": {},
   "outputs": [],
   "source": [
    "ldf = pd.DataFrame(df_c.location.unique())"
   ]
  },
  {
   "cell_type": "code",
   "execution_count": 66,
   "id": "9e79e092",
   "metadata": {},
   "outputs": [
    {
     "data": {
      "text/html": [
       "<div>\n",
       "<style scoped>\n",
       "    .dataframe tbody tr th:only-of-type {\n",
       "        vertical-align: middle;\n",
       "    }\n",
       "\n",
       "    .dataframe tbody tr th {\n",
       "        vertical-align: top;\n",
       "    }\n",
       "\n",
       "    .dataframe thead th {\n",
       "        text-align: right;\n",
       "    }\n",
       "</style>\n",
       "<table border=\"1\" class=\"dataframe\">\n",
       "  <thead>\n",
       "    <tr style=\"text-align: right;\">\n",
       "      <th></th>\n",
       "      <th>0</th>\n",
       "    </tr>\n",
       "  </thead>\n",
       "  <tbody>\n",
       "    <tr>\n",
       "      <th>0</th>\n",
       "      <td>Banashankari, Bangalore, Karnataka, India</td>\n",
       "    </tr>\n",
       "    <tr>\n",
       "      <th>1</th>\n",
       "      <td>Basavanagudi, Bangalore, Karnataka, India</td>\n",
       "    </tr>\n",
       "    <tr>\n",
       "      <th>2</th>\n",
       "      <td>Mysore Road, Bangalore, Karnataka, India</td>\n",
       "    </tr>\n",
       "    <tr>\n",
       "      <th>3</th>\n",
       "      <td>Jayanagar, Bangalore, Karnataka, India</td>\n",
       "    </tr>\n",
       "    <tr>\n",
       "      <th>4</th>\n",
       "      <td>Kumaraswamy Layout, Bangalore, Karnataka, India</td>\n",
       "    </tr>\n",
       "    <tr>\n",
       "      <th>...</th>\n",
       "      <td>...</td>\n",
       "    </tr>\n",
       "    <tr>\n",
       "      <th>88</th>\n",
       "      <td>West Bangalore, Bangalore, Karnataka, India</td>\n",
       "    </tr>\n",
       "    <tr>\n",
       "      <th>89</th>\n",
       "      <td>Magadi Road, Bangalore, Karnataka, India</td>\n",
       "    </tr>\n",
       "    <tr>\n",
       "      <th>90</th>\n",
       "      <td>Yelahanka, Bangalore, Karnataka, India</td>\n",
       "    </tr>\n",
       "    <tr>\n",
       "      <th>91</th>\n",
       "      <td>Sahakara Nagar, Bangalore, Karnataka, India</td>\n",
       "    </tr>\n",
       "    <tr>\n",
       "      <th>92</th>\n",
       "      <td>Peenya, Bangalore, Karnataka, India</td>\n",
       "    </tr>\n",
       "  </tbody>\n",
       "</table>\n",
       "<p>93 rows × 1 columns</p>\n",
       "</div>"
      ],
      "text/plain": [
       "                                                  0\n",
       "0         Banashankari, Bangalore, Karnataka, India\n",
       "1         Basavanagudi, Bangalore, Karnataka, India\n",
       "2          Mysore Road, Bangalore, Karnataka, India\n",
       "3            Jayanagar, Bangalore, Karnataka, India\n",
       "4   Kumaraswamy Layout, Bangalore, Karnataka, India\n",
       "..                                              ...\n",
       "88      West Bangalore, Bangalore, Karnataka, India\n",
       "89         Magadi Road, Bangalore, Karnataka, India\n",
       "90           Yelahanka, Bangalore, Karnataka, India\n",
       "91      Sahakara Nagar, Bangalore, Karnataka, India\n",
       "92              Peenya, Bangalore, Karnataka, India\n",
       "\n",
       "[93 rows x 1 columns]"
      ]
     },
     "execution_count": 66,
     "metadata": {},
     "output_type": "execute_result"
    }
   ],
   "source": [
    "ldf"
   ]
  },
  {
   "cell_type": "code",
   "execution_count": 67,
   "id": "4ba29d17",
   "metadata": {},
   "outputs": [],
   "source": [
    "ldf.columns = ['name']"
   ]
  },
  {
   "cell_type": "code",
   "execution_count": 68,
   "id": "7279f347",
   "metadata": {},
   "outputs": [],
   "source": [
    "geolocator = Nominatim(user_agent=\"app\", timeout = None)"
   ]
  },
  {
   "cell_type": "code",
   "execution_count": 69,
   "id": "4e50fbac",
   "metadata": {},
   "outputs": [],
   "source": [
    "lat = []\n",
    "lon = []\n",
    "\n",
    "for location in ldf['name']:\n",
    "    location = geolocator.geocode(location)\n",
    "    if location is None:\n",
    "        lat.append(np.nan)\n",
    "        lon.append(np.nan)\n",
    "    else:\n",
    "        lat.append(location.latitude)\n",
    "        lon.append(location.longitude)\n"
   ]
  },
  {
   "cell_type": "code",
   "execution_count": 70,
   "id": "faf75214",
   "metadata": {},
   "outputs": [],
   "source": [
    "ldf['Latitude'] = lat\n",
    "ldf['Longitude'] = lon"
   ]
  },
  {
   "cell_type": "code",
   "execution_count": 71,
   "id": "73ac952f",
   "metadata": {},
   "outputs": [
    {
     "data": {
      "text/html": [
       "<div>\n",
       "<style scoped>\n",
       "    .dataframe tbody tr th:only-of-type {\n",
       "        vertical-align: middle;\n",
       "    }\n",
       "\n",
       "    .dataframe tbody tr th {\n",
       "        vertical-align: top;\n",
       "    }\n",
       "\n",
       "    .dataframe thead th {\n",
       "        text-align: right;\n",
       "    }\n",
       "</style>\n",
       "<table border=\"1\" class=\"dataframe\">\n",
       "  <thead>\n",
       "    <tr style=\"text-align: right;\">\n",
       "      <th></th>\n",
       "      <th>name</th>\n",
       "      <th>Latitude</th>\n",
       "      <th>Longitude</th>\n",
       "    </tr>\n",
       "  </thead>\n",
       "  <tbody>\n",
       "    <tr>\n",
       "      <th>0</th>\n",
       "      <td>Banashankari, Bangalore, Karnataka, India</td>\n",
       "      <td>12.939333</td>\n",
       "      <td>77.553982</td>\n",
       "    </tr>\n",
       "    <tr>\n",
       "      <th>1</th>\n",
       "      <td>Basavanagudi, Bangalore, Karnataka, India</td>\n",
       "      <td>12.941726</td>\n",
       "      <td>77.575502</td>\n",
       "    </tr>\n",
       "    <tr>\n",
       "      <th>2</th>\n",
       "      <td>Mysore Road, Bangalore, Karnataka, India</td>\n",
       "      <td>12.956754</td>\n",
       "      <td>77.549375</td>\n",
       "    </tr>\n",
       "    <tr>\n",
       "      <th>3</th>\n",
       "      <td>Jayanagar, Bangalore, Karnataka, India</td>\n",
       "      <td>12.939904</td>\n",
       "      <td>77.582638</td>\n",
       "    </tr>\n",
       "    <tr>\n",
       "      <th>4</th>\n",
       "      <td>Kumaraswamy Layout, Bangalore, Karnataka, India</td>\n",
       "      <td>12.906768</td>\n",
       "      <td>77.559502</td>\n",
       "    </tr>\n",
       "    <tr>\n",
       "      <th>...</th>\n",
       "      <td>...</td>\n",
       "      <td>...</td>\n",
       "      <td>...</td>\n",
       "    </tr>\n",
       "    <tr>\n",
       "      <th>88</th>\n",
       "      <td>West Bangalore, Bangalore, Karnataka, India</td>\n",
       "      <td>13.009652</td>\n",
       "      <td>77.553054</td>\n",
       "    </tr>\n",
       "    <tr>\n",
       "      <th>89</th>\n",
       "      <td>Magadi Road, Bangalore, Karnataka, India</td>\n",
       "      <td>12.975653</td>\n",
       "      <td>77.555355</td>\n",
       "    </tr>\n",
       "    <tr>\n",
       "      <th>90</th>\n",
       "      <td>Yelahanka, Bangalore, Karnataka, India</td>\n",
       "      <td>13.107915</td>\n",
       "      <td>77.585524</td>\n",
       "    </tr>\n",
       "    <tr>\n",
       "      <th>91</th>\n",
       "      <td>Sahakara Nagar, Bangalore, Karnataka, India</td>\n",
       "      <td>13.062147</td>\n",
       "      <td>77.580061</td>\n",
       "    </tr>\n",
       "    <tr>\n",
       "      <th>92</th>\n",
       "      <td>Peenya, Bangalore, Karnataka, India</td>\n",
       "      <td>13.033051</td>\n",
       "      <td>77.533223</td>\n",
       "    </tr>\n",
       "  </tbody>\n",
       "</table>\n",
       "<p>93 rows × 3 columns</p>\n",
       "</div>"
      ],
      "text/plain": [
       "                                               name   Latitude  Longitude\n",
       "0         Banashankari, Bangalore, Karnataka, India  12.939333  77.553982\n",
       "1         Basavanagudi, Bangalore, Karnataka, India  12.941726  77.575502\n",
       "2          Mysore Road, Bangalore, Karnataka, India  12.956754  77.549375\n",
       "3            Jayanagar, Bangalore, Karnataka, India  12.939904  77.582638\n",
       "4   Kumaraswamy Layout, Bangalore, Karnataka, India  12.906768  77.559502\n",
       "..                                              ...        ...        ...\n",
       "88      West Bangalore, Bangalore, Karnataka, India  13.009652  77.553054\n",
       "89         Magadi Road, Bangalore, Karnataka, India  12.975653  77.555355\n",
       "90           Yelahanka, Bangalore, Karnataka, India  13.107915  77.585524\n",
       "91      Sahakara Nagar, Bangalore, Karnataka, India  13.062147  77.580061\n",
       "92              Peenya, Bangalore, Karnataka, India  13.033051  77.533223\n",
       "\n",
       "[93 rows x 3 columns]"
      ]
     },
     "execution_count": 71,
     "metadata": {},
     "output_type": "execute_result"
    }
   ],
   "source": [
    "ldf"
   ]
  },
  {
   "cell_type": "markdown",
   "id": "4a37d9db",
   "metadata": {},
   "source": [
    "## Geographical Analysis"
   ]
  },
  {
   "cell_type": "code",
   "execution_count": 72,
   "id": "a61d9621",
   "metadata": {},
   "outputs": [
    {
     "data": {
      "text/plain": [
       "name         0\n",
       "Latitude     2\n",
       "Longitude    2\n",
       "dtype: int64"
      ]
     },
     "execution_count": 72,
     "metadata": {},
     "output_type": "execute_result"
    }
   ],
   "source": [
    "ldf.isnull().sum()"
   ]
  },
  {
   "cell_type": "code",
   "execution_count": 73,
   "id": "830e1464",
   "metadata": {},
   "outputs": [
    {
     "data": {
      "text/html": [
       "<div>\n",
       "<style scoped>\n",
       "    .dataframe tbody tr th:only-of-type {\n",
       "        vertical-align: middle;\n",
       "    }\n",
       "\n",
       "    .dataframe tbody tr th {\n",
       "        vertical-align: top;\n",
       "    }\n",
       "\n",
       "    .dataframe thead th {\n",
       "        text-align: right;\n",
       "    }\n",
       "</style>\n",
       "<table border=\"1\" class=\"dataframe\">\n",
       "  <thead>\n",
       "    <tr style=\"text-align: right;\">\n",
       "      <th></th>\n",
       "      <th>name</th>\n",
       "      <th>Latitude</th>\n",
       "      <th>Longitude</th>\n",
       "    </tr>\n",
       "  </thead>\n",
       "  <tbody>\n",
       "    <tr>\n",
       "      <th>79</th>\n",
       "      <td>Rammurthy Nagar, Bangalore, Karnataka, India</td>\n",
       "      <td>NaN</td>\n",
       "      <td>NaN</td>\n",
       "    </tr>\n",
       "    <tr>\n",
       "      <th>85</th>\n",
       "      <td>Sadashiv Nagar, Bangalore, Karnataka, India</td>\n",
       "      <td>NaN</td>\n",
       "      <td>NaN</td>\n",
       "    </tr>\n",
       "  </tbody>\n",
       "</table>\n",
       "</div>"
      ],
      "text/plain": [
       "                                            name  Latitude  Longitude\n",
       "79  Rammurthy Nagar, Bangalore, Karnataka, India       NaN        NaN\n",
       "85   Sadashiv Nagar, Bangalore, Karnataka, India       NaN        NaN"
      ]
     },
     "execution_count": 73,
     "metadata": {},
     "output_type": "execute_result"
    }
   ],
   "source": [
    "ldf[ldf['Latitude'].isna()]"
   ]
  },
  {
   "cell_type": "code",
   "execution_count": 74,
   "metadata": {},
   "outputs": [
    {
     "name": "stdout",
     "output_type": "stream",
     "text": [
      "name         St. Marks Road, Bangalore, Karnataka, India\n",
      "Latitude                                       12.975801\n",
      "Longitude                                      77.601692\n",
      "Name: 45, dtype: object\n"
     ]
    }
   ],
   "source": [
    "row_46 = ldf.iloc[45] \n",
    "print(row_46)"
   ]
  },
  {
   "cell_type": "code",
   "execution_count": 75,
   "id": "62e4aa10",
   "metadata": {},
   "outputs": [
    {
     "name": "stderr",
     "output_type": "stream",
     "text": [
      "C:\\Users\\palab\\AppData\\Local\\Temp\\ipykernel_9212\\237769718.py:1: FutureWarning:\n",
      "\n",
      "ChainedAssignmentError: behaviour will change in pandas 3.0!\n",
      "You are setting values through chained assignment. Currently this works in certain cases, but when using Copy-on-Write (which will become the default behaviour in pandas 3.0) this will never work to update the original DataFrame or Series, because the intermediate object on which we are setting values will behave as a copy.\n",
      "A typical example is when you are setting values in a column of a DataFrame, like:\n",
      "\n",
      "df[\"col\"][row_indexer] = value\n",
      "\n",
      "Use `df.loc[row_indexer, \"col\"] = values` instead, to perform the assignment in a single step and ensure this keeps updating the original `df`.\n",
      "\n",
      "See the caveats in the documentation: https://pandas.pydata.org/pandas-docs/stable/user_guide/indexing.html#returning-a-view-versus-a-copy\n",
      "\n",
      "\n",
      "C:\\Users\\palab\\AppData\\Local\\Temp\\ipykernel_9212\\237769718.py:1: SettingWithCopyWarning:\n",
      "\n",
      "\n",
      "A value is trying to be set on a copy of a slice from a DataFrame\n",
      "\n",
      "See the caveats in the documentation: https://pandas.pydata.org/pandas-docs/stable/user_guide/indexing.html#returning-a-view-versus-a-copy\n",
      "\n",
      "C:\\Users\\palab\\AppData\\Local\\Temp\\ipykernel_9212\\237769718.py:2: FutureWarning:\n",
      "\n",
      "ChainedAssignmentError: behaviour will change in pandas 3.0!\n",
      "You are setting values through chained assignment. Currently this works in certain cases, but when using Copy-on-Write (which will become the default behaviour in pandas 3.0) this will never work to update the original DataFrame or Series, because the intermediate object on which we are setting values will behave as a copy.\n",
      "A typical example is when you are setting values in a column of a DataFrame, like:\n",
      "\n",
      "df[\"col\"][row_indexer] = value\n",
      "\n",
      "Use `df.loc[row_indexer, \"col\"] = values` instead, to perform the assignment in a single step and ensure this keeps updating the original `df`.\n",
      "\n",
      "See the caveats in the documentation: https://pandas.pydata.org/pandas-docs/stable/user_guide/indexing.html#returning-a-view-versus-a-copy\n",
      "\n",
      "\n",
      "C:\\Users\\palab\\AppData\\Local\\Temp\\ipykernel_9212\\237769718.py:2: SettingWithCopyWarning:\n",
      "\n",
      "\n",
      "A value is trying to be set on a copy of a slice from a DataFrame\n",
      "\n",
      "See the caveats in the documentation: https://pandas.pydata.org/pandas-docs/stable/user_guide/indexing.html#returning-a-view-versus-a-copy\n",
      "\n"
     ]
    }
   ],
   "source": [
    "ldf['Latitude'] [79] = 13.0163\n",
    "ldf['Longitude'] [79] = 77.6785"
   ]
  },
  {
   "cell_type": "code",
   "execution_count": 76,
   "id": "731ff42c",
   "metadata": {},
   "outputs": [
    {
     "name": "stderr",
     "output_type": "stream",
     "text": [
      "C:\\Users\\palab\\AppData\\Local\\Temp\\ipykernel_9212\\536469150.py:1: FutureWarning:\n",
      "\n",
      "ChainedAssignmentError: behaviour will change in pandas 3.0!\n",
      "You are setting values through chained assignment. Currently this works in certain cases, but when using Copy-on-Write (which will become the default behaviour in pandas 3.0) this will never work to update the original DataFrame or Series, because the intermediate object on which we are setting values will behave as a copy.\n",
      "A typical example is when you are setting values in a column of a DataFrame, like:\n",
      "\n",
      "df[\"col\"][row_indexer] = value\n",
      "\n",
      "Use `df.loc[row_indexer, \"col\"] = values` instead, to perform the assignment in a single step and ensure this keeps updating the original `df`.\n",
      "\n",
      "See the caveats in the documentation: https://pandas.pydata.org/pandas-docs/stable/user_guide/indexing.html#returning-a-view-versus-a-copy\n",
      "\n",
      "\n",
      "C:\\Users\\palab\\AppData\\Local\\Temp\\ipykernel_9212\\536469150.py:1: SettingWithCopyWarning:\n",
      "\n",
      "\n",
      "A value is trying to be set on a copy of a slice from a DataFrame\n",
      "\n",
      "See the caveats in the documentation: https://pandas.pydata.org/pandas-docs/stable/user_guide/indexing.html#returning-a-view-versus-a-copy\n",
      "\n",
      "C:\\Users\\palab\\AppData\\Local\\Temp\\ipykernel_9212\\536469150.py:2: FutureWarning:\n",
      "\n",
      "ChainedAssignmentError: behaviour will change in pandas 3.0!\n",
      "You are setting values through chained assignment. Currently this works in certain cases, but when using Copy-on-Write (which will become the default behaviour in pandas 3.0) this will never work to update the original DataFrame or Series, because the intermediate object on which we are setting values will behave as a copy.\n",
      "A typical example is when you are setting values in a column of a DataFrame, like:\n",
      "\n",
      "df[\"col\"][row_indexer] = value\n",
      "\n",
      "Use `df.loc[row_indexer, \"col\"] = values` instead, to perform the assignment in a single step and ensure this keeps updating the original `df`.\n",
      "\n",
      "See the caveats in the documentation: https://pandas.pydata.org/pandas-docs/stable/user_guide/indexing.html#returning-a-view-versus-a-copy\n",
      "\n",
      "\n",
      "C:\\Users\\palab\\AppData\\Local\\Temp\\ipykernel_9212\\536469150.py:2: SettingWithCopyWarning:\n",
      "\n",
      "\n",
      "A value is trying to be set on a copy of a slice from a DataFrame\n",
      "\n",
      "See the caveats in the documentation: https://pandas.pydata.org/pandas-docs/stable/user_guide/indexing.html#returning-a-view-versus-a-copy\n",
      "\n"
     ]
    }
   ],
   "source": [
    "ldf['Latitude'] [85] = 13.0068\n",
    "ldf['Longitude'] [85] = 77.5813"
   ]
  },
  {
   "cell_type": "markdown",
   "id": "3239289f",
   "metadata": {},
   "source": [
    "## Geographical Heat maps"
   ]
  },
  {
   "cell_type": "code",
   "execution_count": 77,
   "id": "dcfab5ec",
   "metadata": {},
   "outputs": [
    {
     "data": {
      "text/plain": [
       "np.int64(45)"
      ]
     },
     "execution_count": 77,
     "metadata": {},
     "output_type": "execute_result"
    }
   ],
   "source": [
    "df.cuisines.isnull().sum()"
   ]
  },
  {
   "cell_type": "code",
   "execution_count": 80,
   "id": "871b325a",
   "metadata": {},
   "outputs": [],
   "source": [
    "df = df.dropna(subset=['cuisines'])"
   ]
  },
  {
   "cell_type": "code",
   "execution_count": 81,
   "id": "067aeb3c",
   "metadata": {},
   "outputs": [],
   "source": [
    "n_in = df[df.cuisines.str.contains('North Indian')]"
   ]
  },
  {
   "cell_type": "code",
   "execution_count": 82,
   "id": "da2a7e08",
   "metadata": {},
   "outputs": [
    {
     "data": {
      "text/plain": [
       "(21085, 18)"
      ]
     },
     "execution_count": 82,
     "metadata": {},
     "output_type": "execute_result"
    }
   ],
   "source": [
    "n_in.shape"
   ]
  },
  {
   "cell_type": "code",
   "execution_count": 83,
   "id": "5654d0fd",
   "metadata": {},
   "outputs": [],
   "source": [
    "n_in_r = n_in.location.value_counts().reset_index().rename(columns = {'location': 'name', \"count\": \"count\"})"
   ]
  },
  {
   "cell_type": "code",
   "execution_count": 84,
   "id": "b9d37786",
   "metadata": {},
   "outputs": [
    {
     "data": {
      "text/html": [
       "<div>\n",
       "<style scoped>\n",
       "    .dataframe tbody tr th:only-of-type {\n",
       "        vertical-align: middle;\n",
       "    }\n",
       "\n",
       "    .dataframe tbody tr th {\n",
       "        vertical-align: top;\n",
       "    }\n",
       "\n",
       "    .dataframe thead th {\n",
       "        text-align: right;\n",
       "    }\n",
       "</style>\n",
       "<table border=\"1\" class=\"dataframe\">\n",
       "  <thead>\n",
       "    <tr style=\"text-align: right;\">\n",
       "      <th></th>\n",
       "      <th>name</th>\n",
       "      <th>count</th>\n",
       "    </tr>\n",
       "  </thead>\n",
       "  <tbody>\n",
       "    <tr>\n",
       "      <th>0</th>\n",
       "      <td>BTM, Bangalore, Karnataka, India</td>\n",
       "      <td>2469</td>\n",
       "    </tr>\n",
       "    <tr>\n",
       "      <th>1</th>\n",
       "      <td>HSR, Bangalore, Karnataka, India</td>\n",
       "      <td>1123</td>\n",
       "    </tr>\n",
       "    <tr>\n",
       "      <th>2</th>\n",
       "      <td>Whitefield, Bangalore, Karnataka, India</td>\n",
       "      <td>1059</td>\n",
       "    </tr>\n",
       "    <tr>\n",
       "      <th>3</th>\n",
       "      <td>Marathahalli, Bangalore, Karnataka, India</td>\n",
       "      <td>1038</td>\n",
       "    </tr>\n",
       "    <tr>\n",
       "      <th>4</th>\n",
       "      <td>JP Nagar, Bangalore, Karnataka, India</td>\n",
       "      <td>958</td>\n",
       "    </tr>\n",
       "    <tr>\n",
       "      <th>...</th>\n",
       "      <td>...</td>\n",
       "      <td>...</td>\n",
       "    </tr>\n",
       "    <tr>\n",
       "      <th>85</th>\n",
       "      <td>Hebbal, Bangalore, Karnataka, India</td>\n",
       "      <td>4</td>\n",
       "    </tr>\n",
       "    <tr>\n",
       "      <th>86</th>\n",
       "      <td>Jakkur, Bangalore, Karnataka, India</td>\n",
       "      <td>3</td>\n",
       "    </tr>\n",
       "    <tr>\n",
       "      <th>87</th>\n",
       "      <td>Central Bangalore, Bangalore, Karnataka, India</td>\n",
       "      <td>2</td>\n",
       "    </tr>\n",
       "    <tr>\n",
       "      <th>88</th>\n",
       "      <td>West Bangalore, Bangalore, Karnataka, India</td>\n",
       "      <td>1</td>\n",
       "    </tr>\n",
       "    <tr>\n",
       "      <th>89</th>\n",
       "      <td>Peenya, Bangalore, Karnataka, India</td>\n",
       "      <td>1</td>\n",
       "    </tr>\n",
       "  </tbody>\n",
       "</table>\n",
       "<p>90 rows × 2 columns</p>\n",
       "</div>"
      ],
      "text/plain": [
       "                                              name  count\n",
       "0                 BTM, Bangalore, Karnataka, India   2469\n",
       "1                 HSR, Bangalore, Karnataka, India   1123\n",
       "2          Whitefield, Bangalore, Karnataka, India   1059\n",
       "3        Marathahalli, Bangalore, Karnataka, India   1038\n",
       "4            JP Nagar, Bangalore, Karnataka, India    958\n",
       "..                                             ...    ...\n",
       "85             Hebbal, Bangalore, Karnataka, India      4\n",
       "86             Jakkur, Bangalore, Karnataka, India      3\n",
       "87  Central Bangalore, Bangalore, Karnataka, India      2\n",
       "88     West Bangalore, Bangalore, Karnataka, India      1\n",
       "89             Peenya, Bangalore, Karnataka, India      1\n",
       "\n",
       "[90 rows x 2 columns]"
      ]
     },
     "execution_count": 84,
     "metadata": {},
     "output_type": "execute_result"
    }
   ],
   "source": [
    "n_in_r"
   ]
  },
  {
   "cell_type": "code",
   "execution_count": 85,
   "id": "cd5c692b",
   "metadata": {},
   "outputs": [
    {
     "data": {
      "text/html": [
       "<div>\n",
       "<style scoped>\n",
       "    .dataframe tbody tr th:only-of-type {\n",
       "        vertical-align: middle;\n",
       "    }\n",
       "\n",
       "    .dataframe tbody tr th {\n",
       "        vertical-align: top;\n",
       "    }\n",
       "\n",
       "    .dataframe thead th {\n",
       "        text-align: right;\n",
       "    }\n",
       "</style>\n",
       "<table border=\"1\" class=\"dataframe\">\n",
       "  <thead>\n",
       "    <tr style=\"text-align: right;\">\n",
       "      <th></th>\n",
       "      <th>name</th>\n",
       "      <th>count</th>\n",
       "      <th>Latitude</th>\n",
       "      <th>Longitude</th>\n",
       "    </tr>\n",
       "  </thead>\n",
       "  <tbody>\n",
       "    <tr>\n",
       "      <th>0</th>\n",
       "      <td>BTM, Bangalore, Karnataka, India</td>\n",
       "      <td>2469</td>\n",
       "      <td>12.916360</td>\n",
       "      <td>77.604733</td>\n",
       "    </tr>\n",
       "    <tr>\n",
       "      <th>1</th>\n",
       "      <td>HSR, Bangalore, Karnataka, India</td>\n",
       "      <td>1123</td>\n",
       "      <td>12.900563</td>\n",
       "      <td>77.649475</td>\n",
       "    </tr>\n",
       "    <tr>\n",
       "      <th>2</th>\n",
       "      <td>Whitefield, Bangalore, Karnataka, India</td>\n",
       "      <td>1059</td>\n",
       "      <td>12.969637</td>\n",
       "      <td>77.749745</td>\n",
       "    </tr>\n",
       "    <tr>\n",
       "      <th>3</th>\n",
       "      <td>Marathahalli, Bangalore, Karnataka, India</td>\n",
       "      <td>1038</td>\n",
       "      <td>12.955257</td>\n",
       "      <td>77.698416</td>\n",
       "    </tr>\n",
       "    <tr>\n",
       "      <th>4</th>\n",
       "      <td>JP Nagar, Bangalore, Karnataka, India</td>\n",
       "      <td>958</td>\n",
       "      <td>12.909694</td>\n",
       "      <td>77.586607</td>\n",
       "    </tr>\n",
       "    <tr>\n",
       "      <th>...</th>\n",
       "      <td>...</td>\n",
       "      <td>...</td>\n",
       "      <td>...</td>\n",
       "      <td>...</td>\n",
       "    </tr>\n",
       "    <tr>\n",
       "      <th>85</th>\n",
       "      <td>Hebbal, Bangalore, Karnataka, India</td>\n",
       "      <td>4</td>\n",
       "      <td>13.038218</td>\n",
       "      <td>77.591900</td>\n",
       "    </tr>\n",
       "    <tr>\n",
       "      <th>86</th>\n",
       "      <td>Jakkur, Bangalore, Karnataka, India</td>\n",
       "      <td>3</td>\n",
       "      <td>13.078474</td>\n",
       "      <td>77.606894</td>\n",
       "    </tr>\n",
       "    <tr>\n",
       "      <th>87</th>\n",
       "      <td>Central Bangalore, Bangalore, Karnataka, India</td>\n",
       "      <td>2</td>\n",
       "      <td>12.973393</td>\n",
       "      <td>77.611247</td>\n",
       "    </tr>\n",
       "    <tr>\n",
       "      <th>88</th>\n",
       "      <td>West Bangalore, Bangalore, Karnataka, India</td>\n",
       "      <td>1</td>\n",
       "      <td>13.009652</td>\n",
       "      <td>77.553054</td>\n",
       "    </tr>\n",
       "    <tr>\n",
       "      <th>89</th>\n",
       "      <td>Peenya, Bangalore, Karnataka, India</td>\n",
       "      <td>1</td>\n",
       "      <td>13.033051</td>\n",
       "      <td>77.533223</td>\n",
       "    </tr>\n",
       "  </tbody>\n",
       "</table>\n",
       "<p>90 rows × 4 columns</p>\n",
       "</div>"
      ],
      "text/plain": [
       "                                              name  count   Latitude  \\\n",
       "0                 BTM, Bangalore, Karnataka, India   2469  12.916360   \n",
       "1                 HSR, Bangalore, Karnataka, India   1123  12.900563   \n",
       "2          Whitefield, Bangalore, Karnataka, India   1059  12.969637   \n",
       "3        Marathahalli, Bangalore, Karnataka, India   1038  12.955257   \n",
       "4            JP Nagar, Bangalore, Karnataka, India    958  12.909694   \n",
       "..                                             ...    ...        ...   \n",
       "85             Hebbal, Bangalore, Karnataka, India      4  13.038218   \n",
       "86             Jakkur, Bangalore, Karnataka, India      3  13.078474   \n",
       "87  Central Bangalore, Bangalore, Karnataka, India      2  12.973393   \n",
       "88     West Bangalore, Bangalore, Karnataka, India      1  13.009652   \n",
       "89             Peenya, Bangalore, Karnataka, India      1  13.033051   \n",
       "\n",
       "    Longitude  \n",
       "0   77.604733  \n",
       "1   77.649475  \n",
       "2   77.749745  \n",
       "3   77.698416  \n",
       "4   77.586607  \n",
       "..        ...  \n",
       "85  77.591900  \n",
       "86  77.606894  \n",
       "87  77.611247  \n",
       "88  77.553054  \n",
       "89  77.533223  \n",
       "\n",
       "[90 rows x 4 columns]"
      ]
     },
     "execution_count": 85,
     "metadata": {},
     "output_type": "execute_result"
    }
   ],
   "source": [
    "heatmap_n = n_in_r.merge(ldf, on='name', how= 'left')\n",
    "heatmap_n"
   ]
  },
  {
   "cell_type": "code",
   "execution_count": 86,
   "id": "6644833b",
   "metadata": {},
   "outputs": [],
   "source": [
    "basemap = folium.Map()\n",
    "basemap1 = folium.Map()"
   ]
  },
  {
   "cell_type": "code",
   "execution_count": 87,
   "metadata": {},
   "outputs": [
    {
     "data": {
      "text/plain": [
       "<folium.plugins.heat_map.HeatMap at 0x2633c9cc6b0>"
      ]
     },
     "execution_count": 87,
     "metadata": {},
     "output_type": "execute_result"
    }
   ],
   "source": [
    "HeatMap(heatmap_n[['Latitude', 'Longitude', \"count\"]]).add_to(basemap1)"
   ]
  },
  {
   "cell_type": "code",
   "execution_count": 88,
   "id": "bcd432c4",
   "metadata": {},
   "outputs": [
    {
     "data": {
      "text/html": [
       "<div style=\"width:100%;\"><div style=\"position:relative;width:100%;height:0;padding-bottom:60%;\"><span style=\"color:#565656\">Make this Notebook Trusted to load map: File -> Trust Notebook</span><iframe srcdoc=\"&lt;!DOCTYPE html&gt;\n",
       "&lt;html&gt;\n",
       "&lt;head&gt;\n",
       "    \n",
       "    &lt;meta http-equiv=&quot;content-type&quot; content=&quot;text/html; charset=UTF-8&quot; /&gt;\n",
       "    \n",
       "        &lt;script&gt;\n",
       "            L_NO_TOUCH = false;\n",
       "            L_DISABLE_3D = false;\n",
       "        &lt;/script&gt;\n",
       "    \n",
       "    &lt;style&gt;html, body {width: 100%;height: 100%;margin: 0;padding: 0;}&lt;/style&gt;\n",
       "    &lt;style&gt;#map {position:absolute;top:0;bottom:0;right:0;left:0;}&lt;/style&gt;\n",
       "    &lt;script src=&quot;https://cdn.jsdelivr.net/npm/leaflet@1.9.3/dist/leaflet.js&quot;&gt;&lt;/script&gt;\n",
       "    &lt;script src=&quot;https://code.jquery.com/jquery-3.7.1.min.js&quot;&gt;&lt;/script&gt;\n",
       "    &lt;script src=&quot;https://cdn.jsdelivr.net/npm/bootstrap@5.2.2/dist/js/bootstrap.bundle.min.js&quot;&gt;&lt;/script&gt;\n",
       "    &lt;script src=&quot;https://cdnjs.cloudflare.com/ajax/libs/Leaflet.awesome-markers/2.0.2/leaflet.awesome-markers.js&quot;&gt;&lt;/script&gt;\n",
       "    &lt;link rel=&quot;stylesheet&quot; href=&quot;https://cdn.jsdelivr.net/npm/leaflet@1.9.3/dist/leaflet.css&quot;/&gt;\n",
       "    &lt;link rel=&quot;stylesheet&quot; href=&quot;https://cdn.jsdelivr.net/npm/bootstrap@5.2.2/dist/css/bootstrap.min.css&quot;/&gt;\n",
       "    &lt;link rel=&quot;stylesheet&quot; href=&quot;https://netdna.bootstrapcdn.com/bootstrap/3.0.0/css/bootstrap-glyphicons.css&quot;/&gt;\n",
       "    &lt;link rel=&quot;stylesheet&quot; href=&quot;https://cdn.jsdelivr.net/npm/@fortawesome/fontawesome-free@6.2.0/css/all.min.css&quot;/&gt;\n",
       "    &lt;link rel=&quot;stylesheet&quot; href=&quot;https://cdnjs.cloudflare.com/ajax/libs/Leaflet.awesome-markers/2.0.2/leaflet.awesome-markers.css&quot;/&gt;\n",
       "    &lt;link rel=&quot;stylesheet&quot; href=&quot;https://cdn.jsdelivr.net/gh/python-visualization/folium/folium/templates/leaflet.awesome.rotate.min.css&quot;/&gt;\n",
       "    \n",
       "            &lt;meta name=&quot;viewport&quot; content=&quot;width=device-width,\n",
       "                initial-scale=1.0, maximum-scale=1.0, user-scalable=no&quot; /&gt;\n",
       "            &lt;style&gt;\n",
       "                #map_e7ebf9586e5f98919e3f5c58544a9437 {\n",
       "                    position: relative;\n",
       "                    width: 100.0%;\n",
       "                    height: 100.0%;\n",
       "                    left: 0.0%;\n",
       "                    top: 0.0%;\n",
       "                }\n",
       "                .leaflet-container { font-size: 1rem; }\n",
       "            &lt;/style&gt;\n",
       "        \n",
       "    &lt;script src=&quot;https://cdn.jsdelivr.net/gh/python-visualization/folium@main/folium/templates/leaflet_heat.min.js&quot;&gt;&lt;/script&gt;\n",
       "&lt;/head&gt;\n",
       "&lt;body&gt;\n",
       "    \n",
       "    \n",
       "            &lt;div class=&quot;folium-map&quot; id=&quot;map_e7ebf9586e5f98919e3f5c58544a9437&quot; &gt;&lt;/div&gt;\n",
       "        \n",
       "&lt;/body&gt;\n",
       "&lt;script&gt;\n",
       "    \n",
       "    \n",
       "            var map_e7ebf9586e5f98919e3f5c58544a9437 = L.map(\n",
       "                &quot;map_e7ebf9586e5f98919e3f5c58544a9437&quot;,\n",
       "                {\n",
       "                    center: [0.0, 0.0],\n",
       "                    crs: L.CRS.EPSG3857,\n",
       "                    zoom: 1,\n",
       "                    zoomControl: true,\n",
       "                    preferCanvas: false,\n",
       "                }\n",
       "            );\n",
       "\n",
       "            \n",
       "\n",
       "        \n",
       "    \n",
       "            var tile_layer_1e838a62d171321f2c943b56c71efd70 = L.tileLayer(\n",
       "                &quot;https://tile.openstreetmap.org/{z}/{x}/{y}.png&quot;,\n",
       "                {&quot;attribution&quot;: &quot;\\u0026copy; \\u003ca href=\\&quot;https://www.openstreetmap.org/copyright\\&quot;\\u003eOpenStreetMap\\u003c/a\\u003e contributors&quot;, &quot;detectRetina&quot;: false, &quot;maxNativeZoom&quot;: 19, &quot;maxZoom&quot;: 19, &quot;minZoom&quot;: 0, &quot;noWrap&quot;: false, &quot;opacity&quot;: 1, &quot;subdomains&quot;: &quot;abc&quot;, &quot;tms&quot;: false}\n",
       "            );\n",
       "        \n",
       "    \n",
       "            tile_layer_1e838a62d171321f2c943b56c71efd70.addTo(map_e7ebf9586e5f98919e3f5c58544a9437);\n",
       "        \n",
       "    \n",
       "            var heat_map_05271deaebbd51007e82fd6b7dd73c10 = L.heatLayer(\n",
       "                [[12.9163603, 77.604733, 2469.0], [12.90056335, 77.64947470503677, 1123.0], [12.9696365, 77.7497448, 1059.0], [12.9552572, 77.6984163, 1038.0], [12.9096941, 77.5866067, 958.0], [12.9348429, 77.6189768, 755.0], [12.951855665820787, 77.60401135701308, 701.0], [12.9962979, 77.5452778, 678.0], [12.848759900000001, 77.64825295827616, 675.0], [12.9399039, 77.5826382, 664.0], [12.93103185, 77.6782471, 659.0], [12.9277245, 77.6327822, 601.0], [12.924013794074499, 77.6530859615482, 529.0], [12.9390255, 77.6238477, 408.0], [12.9364846, 77.6134783, 390.0], [12.9778793, 77.6246697, 376.0], [12.9755264, 77.6067902, 359.0], [12.9327778, 77.6294052, 351.0], [12.972130698784724, 77.6070157287404, 323.0], [12.970046503824042, 77.61697208567577, 312.0], [12.9393328, 77.5539819, 309.0], [12.96381425, 77.72243691580387, 282.0], [12.986391, 77.6075416, 272.0], [13.026398235874993, 77.57183477342015, 267.0], [13.0221416, 77.6403368, 262.0], [13.0005359, 77.5496996, 230.0], [13.0058357, 77.6281321, 227.0], [12.990433971145098, 77.59082718947293, 224.0], [12.9575547, 77.5979099, 223.0], [13.0027353, 77.5703253, 215.0], [12.971195095841258, 77.60543949905883, 214.0], [12.9606321, 77.64249975, 214.0], [12.9467081, 77.6286805, 202.0], [12.9986827, 77.615525, 201.0], [12.9624669, 77.6381958, 199.0], [12.9417261, 77.5755021, 189.0], [13.0093455, 77.6377094, 175.0], [12.975700066194872, 77.60208311450552, 173.0], [12.9489339, 77.5968273, 132.0], [12.9089453, 77.6239038, 129.0], [12.972227072739638, 77.59866491535907, 128.0], [12.9934283, 77.5902145, 127.0], [12.975801449285402, 77.60169240479877, 121.0], [12.9678074, 77.6568367, 117.0], [12.9408685, 77.617338, 103.0], [12.9067683, 77.5595021, 98.0], [13.0422794, 77.6248577, 96.0], [12.9282918, 77.6254034, 84.0], [12.9931876, 77.5753419, 83.0], [12.973936, 77.6509982, 78.0], [12.982242261028464, 77.60826495187648, 76.0], [12.983856079729964, 77.58023300041461, 76.0], [12.961198894117535, 77.60650758548101, 73.0], [13.02383, 77.5529215, 72.0], [12.9783547, 77.5728609, 69.0], [13.0258087, 77.6305067, 68.0], [12.99118045, 77.54489175084052, 65.0], [12.982966688666712, 77.59650883259856, 61.0], [12.9243692, 77.6242433, 58.0], [12.965717999999999, 77.5762705372058, 58.0], [13.0358698, 77.6323597, 51.0], [13.0227204, 77.595715, 51.0], [12.9876393, 77.7377718, 50.0], [12.9567133, 77.74520818950934, 47.0], [12.9846713, 77.6790908, 47.0], [12.9660722, 77.6125940647638, 35.0], [12.9578658, 77.6958748, 34.0], [12.864107149999999, 77.55441638924378, 31.0], [12.985098650000001, 77.66311735, 30.0], [12.957998, 77.6037312, 22.0], [13.0068, 77.5813, 20.0], [13.0394104, 77.5197351, 19.0], [12.938579180158806, 77.63398649456117, 19.0], [13.00819200134182, 77.57214260977713, 17.0], [12.9367159, 77.5753743, 16.0], [13.0163, 77.6785, 14.0], [12.9739905, 77.61449005854067, 14.0], [12.9055682, 77.5455438, 13.0], [13.0621474, 77.58006135480495, 13.0], [13.007516, 77.695935, 12.0], [12.9756527, 77.5553548, 12.0], [12.956753612862983, 77.5493748478081, 11.0], [12.98571175, 77.6450805, 7.0], [13.0439323, 77.6254268017299, 6.0], [13.00196975, 77.52883895255425, 5.0], [13.0382184, 77.5919, 4.0], [13.0784743, 77.6068938, 3.0], [12.97339325, 77.61124684880099, 2.0], [13.0096524, 77.5530535343493, 1.0], [13.0330515, 77.5332233, 1.0]],\n",
       "                {&quot;blur&quot;: 15, &quot;maxZoom&quot;: 18, &quot;minOpacity&quot;: 0.5, &quot;radius&quot;: 25}\n",
       "            );\n",
       "        \n",
       "    \n",
       "            heat_map_05271deaebbd51007e82fd6b7dd73c10.addTo(map_e7ebf9586e5f98919e3f5c58544a9437);\n",
       "        \n",
       "&lt;/script&gt;\n",
       "&lt;/html&gt;\" style=\"position:absolute;width:100%;height:100%;left:0;top:0;border:none !important;\" allowfullscreen webkitallowfullscreen mozallowfullscreen></iframe></div></div>"
      ],
      "text/plain": [
       "<folium.folium.Map at 0x2633c9cf470>"
      ]
     },
     "execution_count": 88,
     "metadata": {},
     "output_type": "execute_result"
    }
   ],
   "source": [
    "basemap1"
   ]
  },
  {
   "cell_type": "code",
   "execution_count": null,
   "id": "2e556308",
   "metadata": {},
   "outputs": [],
   "source": []
  },
  {
   "cell_type": "code",
   "execution_count": 89,
   "id": "a083d039",
   "metadata": {},
   "outputs": [],
   "source": [
    "s_in = df[df.cuisines.str.contains('South Indian')]"
   ]
  },
  {
   "cell_type": "code",
   "execution_count": 90,
   "id": "841461fd",
   "metadata": {},
   "outputs": [
    {
     "data": {
      "text/plain": [
       "(8644, 18)"
      ]
     },
     "execution_count": 90,
     "metadata": {},
     "output_type": "execute_result"
    }
   ],
   "source": [
    "s_in.shape"
   ]
  },
  {
   "cell_type": "code",
   "execution_count": 91,
   "id": "3756d653",
   "metadata": {},
   "outputs": [
    {
     "data": {
      "text/plain": [
       "location\n",
       "BTM, Bangalore, Karnataka, India                815\n",
       "JP Nagar, Bangalore, Karnataka, India           437\n",
       "HSR, Bangalore, Karnataka, India                436\n",
       "Jayanagar, Bangalore, Karnataka, India          416\n",
       "Whitefield, Bangalore, Karnataka, India         308\n",
       "                                               ... \n",
       "Jakkur, Bangalore, Karnataka, India               3\n",
       "Old Madras Road, Bangalore, Karnataka, India      2\n",
       "North Bangalore, Bangalore, Karnataka, India      1\n",
       "South Bangalore, Bangalore, Karnataka, India      1\n",
       "Hebbal, Bangalore, Karnataka, India               1\n",
       "Name: count, Length: 86, dtype: int64"
      ]
     },
     "execution_count": 91,
     "metadata": {},
     "output_type": "execute_result"
    }
   ],
   "source": [
    "s_in.location.value_counts()"
   ]
  },
  {
   "cell_type": "code",
   "execution_count": 92,
   "id": "eeabde70",
   "metadata": {},
   "outputs": [
    {
     "data": {
      "text/html": [
       "<div>\n",
       "<style scoped>\n",
       "    .dataframe tbody tr th:only-of-type {\n",
       "        vertical-align: middle;\n",
       "    }\n",
       "\n",
       "    .dataframe tbody tr th {\n",
       "        vertical-align: top;\n",
       "    }\n",
       "\n",
       "    .dataframe thead th {\n",
       "        text-align: right;\n",
       "    }\n",
       "</style>\n",
       "<table border=\"1\" class=\"dataframe\">\n",
       "  <thead>\n",
       "    <tr style=\"text-align: right;\">\n",
       "      <th></th>\n",
       "      <th>name</th>\n",
       "      <th>count</th>\n",
       "    </tr>\n",
       "  </thead>\n",
       "  <tbody>\n",
       "    <tr>\n",
       "      <th>0</th>\n",
       "      <td>BTM, Bangalore, Karnataka, India</td>\n",
       "      <td>815</td>\n",
       "    </tr>\n",
       "    <tr>\n",
       "      <th>1</th>\n",
       "      <td>JP Nagar, Bangalore, Karnataka, India</td>\n",
       "      <td>437</td>\n",
       "    </tr>\n",
       "    <tr>\n",
       "      <th>2</th>\n",
       "      <td>HSR, Bangalore, Karnataka, India</td>\n",
       "      <td>436</td>\n",
       "    </tr>\n",
       "    <tr>\n",
       "      <th>3</th>\n",
       "      <td>Jayanagar, Bangalore, Karnataka, India</td>\n",
       "      <td>416</td>\n",
       "    </tr>\n",
       "    <tr>\n",
       "      <th>4</th>\n",
       "      <td>Whitefield, Bangalore, Karnataka, India</td>\n",
       "      <td>308</td>\n",
       "    </tr>\n",
       "    <tr>\n",
       "      <th>...</th>\n",
       "      <td>...</td>\n",
       "      <td>...</td>\n",
       "    </tr>\n",
       "    <tr>\n",
       "      <th>81</th>\n",
       "      <td>Jakkur, Bangalore, Karnataka, India</td>\n",
       "      <td>3</td>\n",
       "    </tr>\n",
       "    <tr>\n",
       "      <th>82</th>\n",
       "      <td>Old Madras Road, Bangalore, Karnataka, India</td>\n",
       "      <td>2</td>\n",
       "    </tr>\n",
       "    <tr>\n",
       "      <th>83</th>\n",
       "      <td>North Bangalore, Bangalore, Karnataka, India</td>\n",
       "      <td>1</td>\n",
       "    </tr>\n",
       "    <tr>\n",
       "      <th>84</th>\n",
       "      <td>South Bangalore, Bangalore, Karnataka, India</td>\n",
       "      <td>1</td>\n",
       "    </tr>\n",
       "    <tr>\n",
       "      <th>85</th>\n",
       "      <td>Hebbal, Bangalore, Karnataka, India</td>\n",
       "      <td>1</td>\n",
       "    </tr>\n",
       "  </tbody>\n",
       "</table>\n",
       "<p>86 rows × 2 columns</p>\n",
       "</div>"
      ],
      "text/plain": [
       "                                            name  count\n",
       "0               BTM, Bangalore, Karnataka, India    815\n",
       "1          JP Nagar, Bangalore, Karnataka, India    437\n",
       "2               HSR, Bangalore, Karnataka, India    436\n",
       "3         Jayanagar, Bangalore, Karnataka, India    416\n",
       "4        Whitefield, Bangalore, Karnataka, India    308\n",
       "..                                           ...    ...\n",
       "81           Jakkur, Bangalore, Karnataka, India      3\n",
       "82  Old Madras Road, Bangalore, Karnataka, India      2\n",
       "83  North Bangalore, Bangalore, Karnataka, India      1\n",
       "84  South Bangalore, Bangalore, Karnataka, India      1\n",
       "85           Hebbal, Bangalore, Karnataka, India      1\n",
       "\n",
       "[86 rows x 2 columns]"
      ]
     },
     "execution_count": 92,
     "metadata": {},
     "output_type": "execute_result"
    }
   ],
   "source": [
    "s_in_r = s_in.location.value_counts().reset_index().rename(columns = {'location': 'name', \"count\": \"count\"})\n",
    "s_in_r"
   ]
  },
  {
   "cell_type": "code",
   "execution_count": 93,
   "id": "107be632",
   "metadata": {},
   "outputs": [
    {
     "data": {
      "text/html": [
       "<div>\n",
       "<style scoped>\n",
       "    .dataframe tbody tr th:only-of-type {\n",
       "        vertical-align: middle;\n",
       "    }\n",
       "\n",
       "    .dataframe tbody tr th {\n",
       "        vertical-align: top;\n",
       "    }\n",
       "\n",
       "    .dataframe thead th {\n",
       "        text-align: right;\n",
       "    }\n",
       "</style>\n",
       "<table border=\"1\" class=\"dataframe\">\n",
       "  <thead>\n",
       "    <tr style=\"text-align: right;\">\n",
       "      <th></th>\n",
       "      <th>name</th>\n",
       "      <th>count</th>\n",
       "      <th>Latitude</th>\n",
       "      <th>Longitude</th>\n",
       "    </tr>\n",
       "  </thead>\n",
       "  <tbody>\n",
       "    <tr>\n",
       "      <th>0</th>\n",
       "      <td>BTM, Bangalore, Karnataka, India</td>\n",
       "      <td>815</td>\n",
       "      <td>12.916360</td>\n",
       "      <td>77.604733</td>\n",
       "    </tr>\n",
       "    <tr>\n",
       "      <th>1</th>\n",
       "      <td>JP Nagar, Bangalore, Karnataka, India</td>\n",
       "      <td>437</td>\n",
       "      <td>12.909694</td>\n",
       "      <td>77.586607</td>\n",
       "    </tr>\n",
       "    <tr>\n",
       "      <th>2</th>\n",
       "      <td>HSR, Bangalore, Karnataka, India</td>\n",
       "      <td>436</td>\n",
       "      <td>12.900563</td>\n",
       "      <td>77.649475</td>\n",
       "    </tr>\n",
       "    <tr>\n",
       "      <th>3</th>\n",
       "      <td>Jayanagar, Bangalore, Karnataka, India</td>\n",
       "      <td>416</td>\n",
       "      <td>12.939904</td>\n",
       "      <td>77.582638</td>\n",
       "    </tr>\n",
       "    <tr>\n",
       "      <th>4</th>\n",
       "      <td>Whitefield, Bangalore, Karnataka, India</td>\n",
       "      <td>308</td>\n",
       "      <td>12.969637</td>\n",
       "      <td>77.749745</td>\n",
       "    </tr>\n",
       "    <tr>\n",
       "      <th>...</th>\n",
       "      <td>...</td>\n",
       "      <td>...</td>\n",
       "      <td>...</td>\n",
       "      <td>...</td>\n",
       "    </tr>\n",
       "    <tr>\n",
       "      <th>81</th>\n",
       "      <td>Jakkur, Bangalore, Karnataka, India</td>\n",
       "      <td>3</td>\n",
       "      <td>13.078474</td>\n",
       "      <td>77.606894</td>\n",
       "    </tr>\n",
       "    <tr>\n",
       "      <th>82</th>\n",
       "      <td>Old Madras Road, Bangalore, Karnataka, India</td>\n",
       "      <td>2</td>\n",
       "      <td>12.985712</td>\n",
       "      <td>77.645081</td>\n",
       "    </tr>\n",
       "    <tr>\n",
       "      <th>83</th>\n",
       "      <td>North Bangalore, Bangalore, Karnataka, India</td>\n",
       "      <td>1</td>\n",
       "      <td>13.043932</td>\n",
       "      <td>77.625427</td>\n",
       "    </tr>\n",
       "    <tr>\n",
       "      <th>84</th>\n",
       "      <td>South Bangalore, Bangalore, Karnataka, India</td>\n",
       "      <td>1</td>\n",
       "      <td>12.864107</td>\n",
       "      <td>77.554416</td>\n",
       "    </tr>\n",
       "    <tr>\n",
       "      <th>85</th>\n",
       "      <td>Hebbal, Bangalore, Karnataka, India</td>\n",
       "      <td>1</td>\n",
       "      <td>13.038218</td>\n",
       "      <td>77.591900</td>\n",
       "    </tr>\n",
       "  </tbody>\n",
       "</table>\n",
       "<p>86 rows × 4 columns</p>\n",
       "</div>"
      ],
      "text/plain": [
       "                                            name  count   Latitude  Longitude\n",
       "0               BTM, Bangalore, Karnataka, India    815  12.916360  77.604733\n",
       "1          JP Nagar, Bangalore, Karnataka, India    437  12.909694  77.586607\n",
       "2               HSR, Bangalore, Karnataka, India    436  12.900563  77.649475\n",
       "3         Jayanagar, Bangalore, Karnataka, India    416  12.939904  77.582638\n",
       "4        Whitefield, Bangalore, Karnataka, India    308  12.969637  77.749745\n",
       "..                                           ...    ...        ...        ...\n",
       "81           Jakkur, Bangalore, Karnataka, India      3  13.078474  77.606894\n",
       "82  Old Madras Road, Bangalore, Karnataka, India      2  12.985712  77.645081\n",
       "83  North Bangalore, Bangalore, Karnataka, India      1  13.043932  77.625427\n",
       "84  South Bangalore, Bangalore, Karnataka, India      1  12.864107  77.554416\n",
       "85           Hebbal, Bangalore, Karnataka, India      1  13.038218  77.591900\n",
       "\n",
       "[86 rows x 4 columns]"
      ]
     },
     "execution_count": 93,
     "metadata": {},
     "output_type": "execute_result"
    }
   ],
   "source": [
    "heatmap_s = s_in_r.merge(ldf, on='name', how= 'left')\n",
    "heatmap_s"
   ]
  },
  {
   "cell_type": "code",
   "execution_count": 94,
   "id": "54779ed9",
   "metadata": {},
   "outputs": [
    {
     "data": {
      "text/plain": [
       "<folium.plugins.heat_map.HeatMap at 0x26347eac740>"
      ]
     },
     "execution_count": 94,
     "metadata": {},
     "output_type": "execute_result"
    }
   ],
   "source": [
    "HeatMap(heatmap_s[['Latitude', 'Longitude', \"count\"]]).add_to(basemap)"
   ]
  },
  {
   "cell_type": "code",
   "execution_count": 95,
   "id": "73ee9554",
   "metadata": {},
   "outputs": [
    {
     "data": {
      "text/html": [
       "<div style=\"width:100%;\"><div style=\"position:relative;width:100%;height:0;padding-bottom:60%;\"><span style=\"color:#565656\">Make this Notebook Trusted to load map: File -> Trust Notebook</span><iframe srcdoc=\"&lt;!DOCTYPE html&gt;\n",
       "&lt;html&gt;\n",
       "&lt;head&gt;\n",
       "    \n",
       "    &lt;meta http-equiv=&quot;content-type&quot; content=&quot;text/html; charset=UTF-8&quot; /&gt;\n",
       "    \n",
       "        &lt;script&gt;\n",
       "            L_NO_TOUCH = false;\n",
       "            L_DISABLE_3D = false;\n",
       "        &lt;/script&gt;\n",
       "    \n",
       "    &lt;style&gt;html, body {width: 100%;height: 100%;margin: 0;padding: 0;}&lt;/style&gt;\n",
       "    &lt;style&gt;#map {position:absolute;top:0;bottom:0;right:0;left:0;}&lt;/style&gt;\n",
       "    &lt;script src=&quot;https://cdn.jsdelivr.net/npm/leaflet@1.9.3/dist/leaflet.js&quot;&gt;&lt;/script&gt;\n",
       "    &lt;script src=&quot;https://code.jquery.com/jquery-3.7.1.min.js&quot;&gt;&lt;/script&gt;\n",
       "    &lt;script src=&quot;https://cdn.jsdelivr.net/npm/bootstrap@5.2.2/dist/js/bootstrap.bundle.min.js&quot;&gt;&lt;/script&gt;\n",
       "    &lt;script src=&quot;https://cdnjs.cloudflare.com/ajax/libs/Leaflet.awesome-markers/2.0.2/leaflet.awesome-markers.js&quot;&gt;&lt;/script&gt;\n",
       "    &lt;link rel=&quot;stylesheet&quot; href=&quot;https://cdn.jsdelivr.net/npm/leaflet@1.9.3/dist/leaflet.css&quot;/&gt;\n",
       "    &lt;link rel=&quot;stylesheet&quot; href=&quot;https://cdn.jsdelivr.net/npm/bootstrap@5.2.2/dist/css/bootstrap.min.css&quot;/&gt;\n",
       "    &lt;link rel=&quot;stylesheet&quot; href=&quot;https://netdna.bootstrapcdn.com/bootstrap/3.0.0/css/bootstrap-glyphicons.css&quot;/&gt;\n",
       "    &lt;link rel=&quot;stylesheet&quot; href=&quot;https://cdn.jsdelivr.net/npm/@fortawesome/fontawesome-free@6.2.0/css/all.min.css&quot;/&gt;\n",
       "    &lt;link rel=&quot;stylesheet&quot; href=&quot;https://cdnjs.cloudflare.com/ajax/libs/Leaflet.awesome-markers/2.0.2/leaflet.awesome-markers.css&quot;/&gt;\n",
       "    &lt;link rel=&quot;stylesheet&quot; href=&quot;https://cdn.jsdelivr.net/gh/python-visualization/folium/folium/templates/leaflet.awesome.rotate.min.css&quot;/&gt;\n",
       "    \n",
       "            &lt;meta name=&quot;viewport&quot; content=&quot;width=device-width,\n",
       "                initial-scale=1.0, maximum-scale=1.0, user-scalable=no&quot; /&gt;\n",
       "            &lt;style&gt;\n",
       "                #map_5d65362a6c343a5fd2bd7278f76dbfbc {\n",
       "                    position: relative;\n",
       "                    width: 100.0%;\n",
       "                    height: 100.0%;\n",
       "                    left: 0.0%;\n",
       "                    top: 0.0%;\n",
       "                }\n",
       "                .leaflet-container { font-size: 1rem; }\n",
       "            &lt;/style&gt;\n",
       "        \n",
       "    &lt;script src=&quot;https://cdn.jsdelivr.net/gh/python-visualization/folium@main/folium/templates/leaflet_heat.min.js&quot;&gt;&lt;/script&gt;\n",
       "&lt;/head&gt;\n",
       "&lt;body&gt;\n",
       "    \n",
       "    \n",
       "            &lt;div class=&quot;folium-map&quot; id=&quot;map_5d65362a6c343a5fd2bd7278f76dbfbc&quot; &gt;&lt;/div&gt;\n",
       "        \n",
       "&lt;/body&gt;\n",
       "&lt;script&gt;\n",
       "    \n",
       "    \n",
       "            var map_5d65362a6c343a5fd2bd7278f76dbfbc = L.map(\n",
       "                &quot;map_5d65362a6c343a5fd2bd7278f76dbfbc&quot;,\n",
       "                {\n",
       "                    center: [0.0, 0.0],\n",
       "                    crs: L.CRS.EPSG3857,\n",
       "                    zoom: 1,\n",
       "                    zoomControl: true,\n",
       "                    preferCanvas: false,\n",
       "                }\n",
       "            );\n",
       "\n",
       "            \n",
       "\n",
       "        \n",
       "    \n",
       "            var tile_layer_1f20711f20fcdbe44a6743fe907c220e = L.tileLayer(\n",
       "                &quot;https://tile.openstreetmap.org/{z}/{x}/{y}.png&quot;,\n",
       "                {&quot;attribution&quot;: &quot;\\u0026copy; \\u003ca href=\\&quot;https://www.openstreetmap.org/copyright\\&quot;\\u003eOpenStreetMap\\u003c/a\\u003e contributors&quot;, &quot;detectRetina&quot;: false, &quot;maxNativeZoom&quot;: 19, &quot;maxZoom&quot;: 19, &quot;minZoom&quot;: 0, &quot;noWrap&quot;: false, &quot;opacity&quot;: 1, &quot;subdomains&quot;: &quot;abc&quot;, &quot;tms&quot;: false}\n",
       "            );\n",
       "        \n",
       "    \n",
       "            tile_layer_1f20711f20fcdbe44a6743fe907c220e.addTo(map_5d65362a6c343a5fd2bd7278f76dbfbc);\n",
       "        \n",
       "    \n",
       "            var heat_map_987b37651774e25685d0acc764af33d5 = L.heatLayer(\n",
       "                [[12.9163603, 77.604733, 815.0], [12.9096941, 77.5866067, 437.0], [12.90056335, 77.64947470503677, 436.0], [12.9399039, 77.5826382, 416.0], [12.9696365, 77.7497448, 308.0], [12.848759900000001, 77.64825295827616, 308.0], [12.951855665820787, 77.60401135701308, 302.0], [12.9552572, 77.6984163, 293.0], [12.9393328, 77.5539819, 242.0], [12.9962979, 77.5452778, 235.0], [12.9417261, 77.5755021, 218.0], [13.0005359, 77.5496996, 217.0], [12.972130698784724, 77.6070157287404, 211.0], [12.9277245, 77.6327822, 187.0], [12.93103185, 77.6782471, 183.0], [12.9778793, 77.6246697, 182.0], [12.924013794074499, 77.6530859615482, 180.0], [12.9390255, 77.6238477, 164.0], [12.986391, 77.6075416, 160.0], [13.0027353, 77.5703253, 160.0], [12.9348429, 77.6189768, 155.0], [13.0058357, 77.6281321, 155.0], [12.9575547, 77.5979099, 153.0], [12.970046503824042, 77.61697208567577, 149.0], [12.96381425, 77.72243691580387, 133.0], [13.0093455, 77.6377094, 117.0], [12.9327778, 77.6294052, 102.0], [12.9364846, 77.6134783, 102.0], [12.990433971145098, 77.59082718947293, 99.0], [12.9986827, 77.615525, 92.0], [13.026398235874993, 77.57183477342015, 92.0], [12.9783547, 77.5728609, 88.0], [12.971195095841258, 77.60543949905883, 85.0], [13.0221416, 77.6403368, 85.0], [12.9755264, 77.6067902, 82.0], [12.9606321, 77.64249975, 69.0], [12.9624669, 77.6381958, 65.0], [12.9408685, 77.617338, 62.0], [12.9934283, 77.5902145, 59.0], [12.965717999999999, 77.5762705372058, 56.0], [12.983856079729964, 77.58023300041461, 51.0], [12.9089453, 77.6239038, 48.0], [12.975700066194872, 77.60208311450552, 46.0], [12.9678074, 77.6568367, 46.0], [12.9489339, 77.5968273, 44.0], [12.982242261028464, 77.60826495187648, 44.0], [12.99118045, 77.54489175084052, 41.0], [12.9467081, 77.6286805, 40.0], [12.9067683, 77.5595021, 38.0], [12.973936, 77.6509982, 37.0], [12.975801449285402, 77.60169240479877, 37.0], [12.9660722, 77.6125940647638, 35.0], [13.02383, 77.5529215, 35.0], [12.982966688666712, 77.59650883259856, 33.0], [12.961198894117535, 77.60650758548101, 32.0], [13.0422794, 77.6248577, 31.0], [13.0358698, 77.6323597, 29.0], [12.9567133, 77.74520818950934, 26.0], [13.0258087, 77.6305067, 25.0], [12.9931876, 77.5753419, 22.0], [12.9846713, 77.6790908, 22.0], [13.0227204, 77.595715, 18.0], [12.9243692, 77.6242433, 18.0], [12.9756527, 77.5553548, 17.0], [12.956753612862983, 77.5493748478081, 17.0], [12.972227072739638, 77.59866491535907, 16.0], [12.9282918, 77.6254034, 16.0], [12.985098650000001, 77.66311735, 14.0], [13.0394104, 77.5197351, 13.0], [13.0621474, 77.58006135480495, 13.0], [12.9367159, 77.5753743, 12.0], [12.9876393, 77.7377718, 10.0], [12.9578658, 77.6958748, 10.0], [13.0068, 77.5813, 9.0], [13.00196975, 77.52883895255425, 8.0], [13.0163, 77.6785, 7.0], [13.007516, 77.695935, 6.0], [13.00819200134182, 77.57214260977713, 5.0], [12.9055682, 77.5455438, 4.0], [13.107915, 77.58552385971772, 4.0], [12.9739905, 77.61449005854067, 3.0], [13.0784743, 77.6068938, 3.0], [12.98571175, 77.6450805, 2.0], [13.0439323, 77.6254268017299, 1.0], [12.864107149999999, 77.55441638924378, 1.0], [13.0382184, 77.5919, 1.0]],\n",
       "                {&quot;blur&quot;: 15, &quot;maxZoom&quot;: 18, &quot;minOpacity&quot;: 0.5, &quot;radius&quot;: 25}\n",
       "            );\n",
       "        \n",
       "    \n",
       "            heat_map_987b37651774e25685d0acc764af33d5.addTo(map_5d65362a6c343a5fd2bd7278f76dbfbc);\n",
       "        \n",
       "&lt;/script&gt;\n",
       "&lt;/html&gt;\" style=\"position:absolute;width:100%;height:100%;left:0;top:0;border:none !important;\" allowfullscreen webkitallowfullscreen mozallowfullscreen></iframe></div></div>"
      ],
      "text/plain": [
       "<folium.folium.Map at 0x2633c6e9280>"
      ]
     },
     "execution_count": 95,
     "metadata": {},
     "output_type": "execute_result"
    }
   ],
   "source": [
    "basemap"
   ]
  },
  {
   "cell_type": "markdown",
   "id": "355d6630",
   "metadata": {},
   "source": [
    " ## Automate Data Analysis"
   ]
  },
  {
   "cell_type": "code",
   "execution_count": 96,
   "id": "7a58c9ea",
   "metadata": {},
   "outputs": [],
   "source": [
    "def get_heatmap(cuisine):\n",
    "    cuisine_df = df[df['cuisines'].str.contains(cuisine)]\n",
    "    \n",
    "    c_res_c = cuisine_df.location.value_counts().reset_index().rename(columns = {'location': 'name', \"count\": \"count\"})\n",
    "    heatmap_c = c_res_c.merge(ldf, on='name', how= 'left')\n",
    "    print(heatmap_c.head(4))\n",
    "\n",
    "    basemap2 = folium.Map()\n",
    "    HeatMap(heatmap_c[['Latitude', 'Longitude', \"count\"]]).add_to(basemap2)\n",
    "    return basemap2"
   ]
  },
  {
   "cell_type": "code",
   "execution_count": 97,
   "id": "a361838f",
   "metadata": {},
   "outputs": [
    {
     "name": "stdout",
     "output_type": "stream",
     "text": [
      "                                                name  count   Latitude  \\\n",
      "0                   BTM, Bangalore, Karnataka, India   1824  12.916360   \n",
      "1                   HSR, Bangalore, Karnataka, India    760  12.900563   \n",
      "2  Koramangala 5th Block, Bangalore, Karnataka, I...    730  12.934843   \n",
      "3          Marathahalli, Bangalore, Karnataka, India    668  12.955257   \n",
      "\n",
      "   Longitude  \n",
      "0  77.604733  \n",
      "1  77.649475  \n",
      "2  77.618977  \n",
      "3  77.698416  \n"
     ]
    },
    {
     "data": {
      "text/html": [
       "<div style=\"width:100%;\"><div style=\"position:relative;width:100%;height:0;padding-bottom:60%;\"><span style=\"color:#565656\">Make this Notebook Trusted to load map: File -> Trust Notebook</span><iframe srcdoc=\"&lt;!DOCTYPE html&gt;\n",
       "&lt;html&gt;\n",
       "&lt;head&gt;\n",
       "    \n",
       "    &lt;meta http-equiv=&quot;content-type&quot; content=&quot;text/html; charset=UTF-8&quot; /&gt;\n",
       "    \n",
       "        &lt;script&gt;\n",
       "            L_NO_TOUCH = false;\n",
       "            L_DISABLE_3D = false;\n",
       "        &lt;/script&gt;\n",
       "    \n",
       "    &lt;style&gt;html, body {width: 100%;height: 100%;margin: 0;padding: 0;}&lt;/style&gt;\n",
       "    &lt;style&gt;#map {position:absolute;top:0;bottom:0;right:0;left:0;}&lt;/style&gt;\n",
       "    &lt;script src=&quot;https://cdn.jsdelivr.net/npm/leaflet@1.9.3/dist/leaflet.js&quot;&gt;&lt;/script&gt;\n",
       "    &lt;script src=&quot;https://code.jquery.com/jquery-3.7.1.min.js&quot;&gt;&lt;/script&gt;\n",
       "    &lt;script src=&quot;https://cdn.jsdelivr.net/npm/bootstrap@5.2.2/dist/js/bootstrap.bundle.min.js&quot;&gt;&lt;/script&gt;\n",
       "    &lt;script src=&quot;https://cdnjs.cloudflare.com/ajax/libs/Leaflet.awesome-markers/2.0.2/leaflet.awesome-markers.js&quot;&gt;&lt;/script&gt;\n",
       "    &lt;link rel=&quot;stylesheet&quot; href=&quot;https://cdn.jsdelivr.net/npm/leaflet@1.9.3/dist/leaflet.css&quot;/&gt;\n",
       "    &lt;link rel=&quot;stylesheet&quot; href=&quot;https://cdn.jsdelivr.net/npm/bootstrap@5.2.2/dist/css/bootstrap.min.css&quot;/&gt;\n",
       "    &lt;link rel=&quot;stylesheet&quot; href=&quot;https://netdna.bootstrapcdn.com/bootstrap/3.0.0/css/bootstrap-glyphicons.css&quot;/&gt;\n",
       "    &lt;link rel=&quot;stylesheet&quot; href=&quot;https://cdn.jsdelivr.net/npm/@fortawesome/fontawesome-free@6.2.0/css/all.min.css&quot;/&gt;\n",
       "    &lt;link rel=&quot;stylesheet&quot; href=&quot;https://cdnjs.cloudflare.com/ajax/libs/Leaflet.awesome-markers/2.0.2/leaflet.awesome-markers.css&quot;/&gt;\n",
       "    &lt;link rel=&quot;stylesheet&quot; href=&quot;https://cdn.jsdelivr.net/gh/python-visualization/folium/folium/templates/leaflet.awesome.rotate.min.css&quot;/&gt;\n",
       "    \n",
       "            &lt;meta name=&quot;viewport&quot; content=&quot;width=device-width,\n",
       "                initial-scale=1.0, maximum-scale=1.0, user-scalable=no&quot; /&gt;\n",
       "            &lt;style&gt;\n",
       "                #map_4a05a944703a9b49ba6a2cf0fca11da0 {\n",
       "                    position: relative;\n",
       "                    width: 100.0%;\n",
       "                    height: 100.0%;\n",
       "                    left: 0.0%;\n",
       "                    top: 0.0%;\n",
       "                }\n",
       "                .leaflet-container { font-size: 1rem; }\n",
       "            &lt;/style&gt;\n",
       "        \n",
       "    &lt;script src=&quot;https://cdn.jsdelivr.net/gh/python-visualization/folium@main/folium/templates/leaflet_heat.min.js&quot;&gt;&lt;/script&gt;\n",
       "&lt;/head&gt;\n",
       "&lt;body&gt;\n",
       "    \n",
       "    \n",
       "            &lt;div class=&quot;folium-map&quot; id=&quot;map_4a05a944703a9b49ba6a2cf0fca11da0&quot; &gt;&lt;/div&gt;\n",
       "        \n",
       "&lt;/body&gt;\n",
       "&lt;script&gt;\n",
       "    \n",
       "    \n",
       "            var map_4a05a944703a9b49ba6a2cf0fca11da0 = L.map(\n",
       "                &quot;map_4a05a944703a9b49ba6a2cf0fca11da0&quot;,\n",
       "                {\n",
       "                    center: [0.0, 0.0],\n",
       "                    crs: L.CRS.EPSG3857,\n",
       "                    zoom: 1,\n",
       "                    zoomControl: true,\n",
       "                    preferCanvas: false,\n",
       "                }\n",
       "            );\n",
       "\n",
       "            \n",
       "\n",
       "        \n",
       "    \n",
       "            var tile_layer_60b10aecbff941453b03e91f31256c7c = L.tileLayer(\n",
       "                &quot;https://tile.openstreetmap.org/{z}/{x}/{y}.png&quot;,\n",
       "                {&quot;attribution&quot;: &quot;\\u0026copy; \\u003ca href=\\&quot;https://www.openstreetmap.org/copyright\\&quot;\\u003eOpenStreetMap\\u003c/a\\u003e contributors&quot;, &quot;detectRetina&quot;: false, &quot;maxNativeZoom&quot;: 19, &quot;maxZoom&quot;: 19, &quot;minZoom&quot;: 0, &quot;noWrap&quot;: false, &quot;opacity&quot;: 1, &quot;subdomains&quot;: &quot;abc&quot;, &quot;tms&quot;: false}\n",
       "            );\n",
       "        \n",
       "    \n",
       "            tile_layer_60b10aecbff941453b03e91f31256c7c.addTo(map_4a05a944703a9b49ba6a2cf0fca11da0);\n",
       "        \n",
       "    \n",
       "            var heat_map_90817f0a51f48b3589cbf6ad620d43f6 = L.heatLayer(\n",
       "                [[12.9163603, 77.604733, 1824.0], [12.90056335, 77.64947470503677, 760.0], [12.9348429, 77.6189768, 730.0], [12.9552572, 77.6984163, 668.0], [12.9096941, 77.5866067, 633.0], [12.9696365, 77.7497448, 629.0], [12.9399039, 77.5826382, 570.0], [12.951855665820787, 77.60401135701308, 510.0], [12.848759900000001, 77.64825295827616, 509.0], [12.9962979, 77.5452778, 466.0], [12.93103185, 77.6782471, 375.0], [12.9277245, 77.6327822, 356.0], [12.972130698784724, 77.6070157287404, 349.0], [12.9390255, 77.6238477, 322.0], [12.924013794074499, 77.6530859615482, 311.0], [12.9364846, 77.6134783, 284.0], [12.9327778, 77.6294052, 278.0], [12.9393328, 77.5539819, 259.0], [12.96381425, 77.72243691580387, 254.0], [13.0058357, 77.6281321, 254.0], [12.9778793, 77.6246697, 245.0], [12.9755264, 77.6067902, 242.0], [12.970046503824042, 77.61697208567577, 233.0], [13.0093455, 77.6377094, 211.0], [13.0005359, 77.5496996, 204.0], [12.9986827, 77.615525, 200.0], [13.026398235874993, 77.57183477342015, 196.0], [12.971195095841258, 77.60543949905883, 194.0], [12.9467081, 77.6286805, 186.0], [12.9575547, 77.5979099, 174.0], [13.0221416, 77.6403368, 170.0], [12.990433971145098, 77.59082718947293, 170.0], [12.986391, 77.6075416, 162.0], [13.0027353, 77.5703253, 157.0], [12.9417261, 77.5755021, 156.0], [12.9606321, 77.64249975, 145.0], [12.9624669, 77.6381958, 120.0], [12.975700066194872, 77.60208311450552, 105.0], [12.9089453, 77.6239038, 101.0], [12.9408685, 77.617338, 100.0], [12.9067683, 77.5595021, 99.0], [12.9934283, 77.5902145, 94.0], [12.9489339, 77.5968273, 92.0], [12.982966688666712, 77.59650883259856, 79.0], [13.0422794, 77.6248577, 76.0], [12.9931876, 77.5753419, 67.0], [12.9678074, 77.6568367, 66.0], [13.02383, 77.5529215, 65.0], [13.0358698, 77.6323597, 65.0], [12.9282918, 77.6254034, 62.0], [12.975801449285402, 77.60169240479877, 61.0], [12.973936, 77.6509982, 60.0], [12.982242261028464, 77.60826495187648, 59.0], [12.972227072739638, 77.59866491535907, 57.0], [13.0258087, 77.6305067, 56.0], [12.9783547, 77.5728609, 55.0], [12.961198894117535, 77.60650758548101, 54.0], [12.99118045, 77.54489175084052, 53.0], [12.965717999999999, 77.5762705372058, 50.0], [13.0227204, 77.595715, 44.0], [12.9846713, 77.6790908, 37.0], [12.9243692, 77.6242433, 36.0], [12.9660722, 77.6125940647638, 32.0], [12.983856079729964, 77.58023300041461, 31.0], [12.9567133, 77.74520818950934, 26.0], [12.9876393, 77.7377718, 21.0], [12.9578658, 77.6958748, 21.0], [12.864107149999999, 77.55441638924378, 20.0], [13.007516, 77.695935, 17.0], [12.98571175, 77.6450805, 17.0], [13.0068, 77.5813, 17.0], [12.9367159, 77.5753743, 16.0], [13.0394104, 77.5197351, 14.0], [12.985098650000001, 77.66311735, 14.0], [12.9055682, 77.5455438, 13.0], [12.938579180158806, 77.63398649456117, 12.0], [12.956753612862983, 77.5493748478081, 9.0], [12.9756527, 77.5553548, 9.0], [13.0621474, 77.58006135480495, 9.0], [13.00196975, 77.52883895255425, 8.0], [13.00819200134182, 77.57214260977713, 8.0], [12.9739905, 77.61449005854067, 8.0], [13.0439323, 77.6254268017299, 6.0], [13.0382184, 77.5919, 6.0], [13.0163, 77.6785, 6.0], [13.0784743, 77.6068938, 3.0], [12.97339325, 77.61124684880099, 2.0], [12.9274413, 77.5155224, 1.0], [13.0096524, 77.5530535343493, 1.0], [13.0330515, 77.5332233, 1.0]],\n",
       "                {&quot;blur&quot;: 15, &quot;maxZoom&quot;: 18, &quot;minOpacity&quot;: 0.5, &quot;radius&quot;: 25}\n",
       "            );\n",
       "        \n",
       "    \n",
       "            heat_map_90817f0a51f48b3589cbf6ad620d43f6.addTo(map_4a05a944703a9b49ba6a2cf0fca11da0);\n",
       "        \n",
       "&lt;/script&gt;\n",
       "&lt;/html&gt;\" style=\"position:absolute;width:100%;height:100%;left:0;top:0;border:none !important;\" allowfullscreen webkitallowfullscreen mozallowfullscreen></iframe></div></div>"
      ],
      "text/plain": [
       "<folium.folium.Map at 0x26347e9ea20>"
      ]
     },
     "execution_count": 97,
     "metadata": {},
     "output_type": "execute_result"
    }
   ],
   "source": [
    "get_heatmap('Chinese')"
   ]
  },
  {
   "cell_type": "code",
   "execution_count": null,
   "id": "29d5b1ba",
   "metadata": {},
   "outputs": [],
   "source": []
  },
  {
   "cell_type": "code",
   "execution_count": null,
   "id": "1c33102f",
   "metadata": {},
   "outputs": [],
   "source": []
  },
  {
   "cell_type": "code",
   "execution_count": null,
   "id": "c1bbb186",
   "metadata": {},
   "outputs": [],
   "source": []
  },
  {
   "cell_type": "code",
   "execution_count": null,
   "id": "e5329324",
   "metadata": {},
   "outputs": [],
   "source": []
  },
  {
   "cell_type": "code",
   "execution_count": null,
   "id": "31c7b34c",
   "metadata": {},
   "outputs": [],
   "source": []
  }
 ],
 "metadata": {
  "kernelspec": {
   "display_name": "Python 3",
   "language": "python",
   "name": "python3"
  },
  "language_info": {
   "codemirror_mode": {
    "name": "ipython",
    "version": 3
   },
   "file_extension": ".py",
   "mimetype": "text/x-python",
   "name": "python",
   "nbconvert_exporter": "python",
   "pygments_lexer": "ipython3",
   "version": "3.12.6"
  }
 },
 "nbformat": 4,
 "nbformat_minor": 5
}
